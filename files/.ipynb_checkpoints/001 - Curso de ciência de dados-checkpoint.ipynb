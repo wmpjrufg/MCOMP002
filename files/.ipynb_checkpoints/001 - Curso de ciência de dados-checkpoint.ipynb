{
 "cells": [
  {
   "cell_type": "markdown",
   "metadata": {},
   "source": [
    "<img src=\"https://drive.google.com/uc?id=1nPTqBogl4YXDiI1_AX-0-NYTSqNIBi0L&usp=drive_fs\" alt=\"capa\" width=\"100%\">\n",
    "<img src=\"https://drive.google.com/uc?id=1nQeLndAwr6kqd5jSwuh6YDF9vP649u0D&usp=drive_fs\" alt=\"wander\" width=\"100%\">"
   ]
  },
  {
   "cell_type": "markdown",
   "metadata": {
    "id": "ToJJbagxjDtd"
   },
   "source": [
    "# Curso de Introdução à Ciência de Dados\n",
    "\n",
    "\n",
    "\n"
   ]
  },
  {
   "cell_type": "markdown",
   "metadata": {
    "id": "XoGBF8Wmc5Mh"
   },
   "source": [
    "## 1. Um pouco sobre dados\n",
    "\n",
    "Todos nos produzimos dados quando nos comunicamos. Atualmente damos os nome de ciência de dados a estatégia multidisciplinar de extrair informações destes dados.\n",
    "\n",
    "![Figura1-1](https://drive.google.com/uc?id=1n2g5YOmpI9mo3cRXKfjarIT8XgdiEs5I&usp=drive_fs)  \n",
    "**Figura 1.1** Nuvem de palavras por representação de pesos.\n",
    "\n",
    "### 1.1 Quais os tipos de dados disponíveis\n",
    "\n",
    "Além do padrão do documento de leitura é necessário sabermos que tipos de dados estamos investigando. Aqui mostro algumas das possibilidades:\n",
    "\n",
    "- Dados númericos: 1, 2, 3, 4\n",
    "- Dados categóricos: preto, branco, amarelo, vermelho, você é meu amigo, você não é meu amigo\n",
    "- Dados binários: 0, 1, 1, 1 (Exemplo Figura 1.2)\n",
    "\n",
    "![Figura1-1](https://drive.google.com/uc?id=1n6pF4ylWX3dnhZFlv5wiVkZ9LL11ZGMz&usp=drive_fs)  \n",
    "**Figura 1.2** Representação do Bart Simpson em dados binários.\n",
    "\n",
    "### 1.2 A estruturação dos dados\n",
    "Os dados podem ser organizados em dois formatos. Dados não - estruturados e dados estruturados. Planilhas sãoo exemplos de dados estruturados e dados de uma rede social por exemplo são dados não estruturados.\n",
    "\n",
    "## 2. Bibliotecas e tipos de bases empregadas\n",
    "\n",
    "As bibliotecas necessárias são:\n",
    "\n",
    "\n",
    "1. Pandas;  \n",
    "2. Numpy;  \n",
    "3. Random;  \n",
    "4. Seaborn;  \n",
    "5. Matplotlib.  \n",
    "6. Sklearn\n",
    "\n",
    "Vamos empregar no nosso curso dados estruturados que vêem de planilhas, formato, `.csv`, `.xls` e outros."
   ]
  },
  {
   "cell_type": "code",
   "execution_count": 1,
   "metadata": {
    "id": "KxNnzws6n6fk"
   },
   "outputs": [],
   "source": [
    "import pandas as pd\n",
    "import numpy as np\n",
    "import random\n",
    "import seaborn as sns\n",
    "import matplotlib.pyplot as plt\n",
    "from sklearn.preprocessing import StandardScaler\n",
    "from sklearn.model_selection import train_test_split"
   ]
  },
  {
   "cell_type": "markdown",
   "metadata": {
    "id": "i7llQ_jop7ER"
   },
   "source": [
    "## 3. Leitura de dados\n",
    "\n",
    "Nesta seção vamos aprender a fazer o caregamento da base para dentro do nosso programa e então fazer algumas modificações iniciais sobre o banco."
   ]
  },
  {
   "cell_type": "code",
   "execution_count": 2,
   "metadata": {
    "colab": {
     "base_uri": "https://localhost:8080/",
     "height": 424
    },
    "id": "JF8HspHip6fo",
    "outputId": "6824aa03-c630-4246-8810-68b5f8a36f2f"
   },
   "outputs": [
    {
     "data": {
      "text/html": [
       "<div>\n",
       "<style scoped>\n",
       "    .dataframe tbody tr th:only-of-type {\n",
       "        vertical-align: middle;\n",
       "    }\n",
       "\n",
       "    .dataframe tbody tr th {\n",
       "        vertical-align: top;\n",
       "    }\n",
       "\n",
       "    .dataframe thead th {\n",
       "        text-align: right;\n",
       "    }\n",
       "</style>\n",
       "<table border=\"1\" class=\"dataframe\">\n",
       "  <thead>\n",
       "    <tr style=\"text-align: right;\">\n",
       "      <th></th>\n",
       "      <th>Id</th>\n",
       "      <th>SepalLengthCm</th>\n",
       "      <th>SepalWidthCm</th>\n",
       "      <th>PetalLengthCm</th>\n",
       "      <th>PetalWidthCm</th>\n",
       "      <th>Species</th>\n",
       "    </tr>\n",
       "  </thead>\n",
       "  <tbody>\n",
       "    <tr>\n",
       "      <th>0</th>\n",
       "      <td>1</td>\n",
       "      <td>5.1</td>\n",
       "      <td>3.5</td>\n",
       "      <td>1.4</td>\n",
       "      <td>0.2</td>\n",
       "      <td>Iris-setosa</td>\n",
       "    </tr>\n",
       "    <tr>\n",
       "      <th>1</th>\n",
       "      <td>2</td>\n",
       "      <td>4.9</td>\n",
       "      <td>3.0</td>\n",
       "      <td>1.4</td>\n",
       "      <td>0.2</td>\n",
       "      <td>Iris-setosa</td>\n",
       "    </tr>\n",
       "    <tr>\n",
       "      <th>2</th>\n",
       "      <td>3</td>\n",
       "      <td>4.7</td>\n",
       "      <td>3.2</td>\n",
       "      <td>1.3</td>\n",
       "      <td>0.2</td>\n",
       "      <td>Iris-setosa</td>\n",
       "    </tr>\n",
       "    <tr>\n",
       "      <th>3</th>\n",
       "      <td>4</td>\n",
       "      <td>4.6</td>\n",
       "      <td>3.1</td>\n",
       "      <td>1.5</td>\n",
       "      <td>0.2</td>\n",
       "      <td>Iris-setosa</td>\n",
       "    </tr>\n",
       "    <tr>\n",
       "      <th>4</th>\n",
       "      <td>5</td>\n",
       "      <td>5.0</td>\n",
       "      <td>3.6</td>\n",
       "      <td>1.4</td>\n",
       "      <td>0.2</td>\n",
       "      <td>Iris-setosa</td>\n",
       "    </tr>\n",
       "    <tr>\n",
       "      <th>...</th>\n",
       "      <td>...</td>\n",
       "      <td>...</td>\n",
       "      <td>...</td>\n",
       "      <td>...</td>\n",
       "      <td>...</td>\n",
       "      <td>...</td>\n",
       "    </tr>\n",
       "    <tr>\n",
       "      <th>145</th>\n",
       "      <td>146</td>\n",
       "      <td>6.7</td>\n",
       "      <td>3.0</td>\n",
       "      <td>5.2</td>\n",
       "      <td>2.3</td>\n",
       "      <td>Iris-virginica</td>\n",
       "    </tr>\n",
       "    <tr>\n",
       "      <th>146</th>\n",
       "      <td>147</td>\n",
       "      <td>6.3</td>\n",
       "      <td>2.5</td>\n",
       "      <td>5.0</td>\n",
       "      <td>1.9</td>\n",
       "      <td>Iris-virginica</td>\n",
       "    </tr>\n",
       "    <tr>\n",
       "      <th>147</th>\n",
       "      <td>148</td>\n",
       "      <td>6.5</td>\n",
       "      <td>3.0</td>\n",
       "      <td>5.2</td>\n",
       "      <td>2.0</td>\n",
       "      <td>Iris-virginica</td>\n",
       "    </tr>\n",
       "    <tr>\n",
       "      <th>148</th>\n",
       "      <td>149</td>\n",
       "      <td>6.2</td>\n",
       "      <td>3.4</td>\n",
       "      <td>5.4</td>\n",
       "      <td>2.3</td>\n",
       "      <td>Iris-virginica</td>\n",
       "    </tr>\n",
       "    <tr>\n",
       "      <th>149</th>\n",
       "      <td>150</td>\n",
       "      <td>5.9</td>\n",
       "      <td>3.0</td>\n",
       "      <td>5.1</td>\n",
       "      <td>1.8</td>\n",
       "      <td>Iris-virginica</td>\n",
       "    </tr>\n",
       "  </tbody>\n",
       "</table>\n",
       "<p>150 rows × 6 columns</p>\n",
       "</div>"
      ],
      "text/plain": [
       "      Id  SepalLengthCm  SepalWidthCm  PetalLengthCm  PetalWidthCm  \\\n",
       "0      1            5.1           3.5            1.4           0.2   \n",
       "1      2            4.9           3.0            1.4           0.2   \n",
       "2      3            4.7           3.2            1.3           0.2   \n",
       "3      4            4.6           3.1            1.5           0.2   \n",
       "4      5            5.0           3.6            1.4           0.2   \n",
       "..   ...            ...           ...            ...           ...   \n",
       "145  146            6.7           3.0            5.2           2.3   \n",
       "146  147            6.3           2.5            5.0           1.9   \n",
       "147  148            6.5           3.0            5.2           2.0   \n",
       "148  149            6.2           3.4            5.4           2.3   \n",
       "149  150            5.9           3.0            5.1           1.8   \n",
       "\n",
       "            Species  \n",
       "0       Iris-setosa  \n",
       "1       Iris-setosa  \n",
       "2       Iris-setosa  \n",
       "3       Iris-setosa  \n",
       "4       Iris-setosa  \n",
       "..              ...  \n",
       "145  Iris-virginica  \n",
       "146  Iris-virginica  \n",
       "147  Iris-virginica  \n",
       "148  Iris-virginica  \n",
       "149  Iris-virginica  \n",
       "\n",
       "[150 rows x 6 columns]"
      ]
     },
     "execution_count": 2,
     "metadata": {},
     "output_type": "execute_result"
    }
   ],
   "source": [
    "df = pd.read_csv(\"iris_com_coluna.csv\")\n",
    "df"
   ]
  },
  {
   "cell_type": "markdown",
   "metadata": {
    "id": "gzUWWEpgqQDw"
   },
   "source": [
    "É muito comum o caso de um banco de dados com colunas sem especificação ou com nomenclatura errada. Durante as primeiras visualizações você decide a mudança desses títulos. Como podemos fazer!?"
   ]
  },
  {
   "cell_type": "code",
   "execution_count": 3,
   "metadata": {
    "colab": {
     "base_uri": "https://localhost:8080/",
     "height": 424
    },
    "id": "UyAH8LaCp545",
    "outputId": "b800fb4c-1e20-486c-84f2-7eed66ebb9d1"
   },
   "outputs": [
    {
     "data": {
      "text/html": [
       "<div>\n",
       "<style scoped>\n",
       "    .dataframe tbody tr th:only-of-type {\n",
       "        vertical-align: middle;\n",
       "    }\n",
       "\n",
       "    .dataframe tbody tr th {\n",
       "        vertical-align: top;\n",
       "    }\n",
       "\n",
       "    .dataframe thead th {\n",
       "        text-align: right;\n",
       "    }\n",
       "</style>\n",
       "<table border=\"1\" class=\"dataframe\">\n",
       "  <thead>\n",
       "    <tr style=\"text-align: right;\">\n",
       "      <th></th>\n",
       "      <th>0</th>\n",
       "      <th>1</th>\n",
       "      <th>2</th>\n",
       "      <th>3</th>\n",
       "      <th>4</th>\n",
       "      <th>5</th>\n",
       "    </tr>\n",
       "  </thead>\n",
       "  <tbody>\n",
       "    <tr>\n",
       "      <th>0</th>\n",
       "      <td>1</td>\n",
       "      <td>5.1</td>\n",
       "      <td>3.5</td>\n",
       "      <td>1.4</td>\n",
       "      <td>0.2</td>\n",
       "      <td>Iris-setosa</td>\n",
       "    </tr>\n",
       "    <tr>\n",
       "      <th>1</th>\n",
       "      <td>2</td>\n",
       "      <td>4.9</td>\n",
       "      <td>3.0</td>\n",
       "      <td>1.4</td>\n",
       "      <td>0.2</td>\n",
       "      <td>Iris-setosa</td>\n",
       "    </tr>\n",
       "    <tr>\n",
       "      <th>2</th>\n",
       "      <td>3</td>\n",
       "      <td>4.7</td>\n",
       "      <td>3.2</td>\n",
       "      <td>1.3</td>\n",
       "      <td>0.2</td>\n",
       "      <td>Iris-setosa</td>\n",
       "    </tr>\n",
       "    <tr>\n",
       "      <th>3</th>\n",
       "      <td>4</td>\n",
       "      <td>4.6</td>\n",
       "      <td>3.1</td>\n",
       "      <td>1.5</td>\n",
       "      <td>0.2</td>\n",
       "      <td>Iris-setosa</td>\n",
       "    </tr>\n",
       "    <tr>\n",
       "      <th>4</th>\n",
       "      <td>5</td>\n",
       "      <td>5.0</td>\n",
       "      <td>3.6</td>\n",
       "      <td>1.4</td>\n",
       "      <td>0.2</td>\n",
       "      <td>Iris-setosa</td>\n",
       "    </tr>\n",
       "    <tr>\n",
       "      <th>...</th>\n",
       "      <td>...</td>\n",
       "      <td>...</td>\n",
       "      <td>...</td>\n",
       "      <td>...</td>\n",
       "      <td>...</td>\n",
       "      <td>...</td>\n",
       "    </tr>\n",
       "    <tr>\n",
       "      <th>145</th>\n",
       "      <td>146</td>\n",
       "      <td>6.7</td>\n",
       "      <td>3.0</td>\n",
       "      <td>5.2</td>\n",
       "      <td>2.3</td>\n",
       "      <td>Iris-virginica</td>\n",
       "    </tr>\n",
       "    <tr>\n",
       "      <th>146</th>\n",
       "      <td>147</td>\n",
       "      <td>6.3</td>\n",
       "      <td>2.5</td>\n",
       "      <td>5.0</td>\n",
       "      <td>1.9</td>\n",
       "      <td>Iris-virginica</td>\n",
       "    </tr>\n",
       "    <tr>\n",
       "      <th>147</th>\n",
       "      <td>148</td>\n",
       "      <td>6.5</td>\n",
       "      <td>3.0</td>\n",
       "      <td>5.2</td>\n",
       "      <td>2.0</td>\n",
       "      <td>Iris-virginica</td>\n",
       "    </tr>\n",
       "    <tr>\n",
       "      <th>148</th>\n",
       "      <td>149</td>\n",
       "      <td>6.2</td>\n",
       "      <td>3.4</td>\n",
       "      <td>5.4</td>\n",
       "      <td>2.3</td>\n",
       "      <td>Iris-virginica</td>\n",
       "    </tr>\n",
       "    <tr>\n",
       "      <th>149</th>\n",
       "      <td>150</td>\n",
       "      <td>5.9</td>\n",
       "      <td>3.0</td>\n",
       "      <td>5.1</td>\n",
       "      <td>1.8</td>\n",
       "      <td>Iris-virginica</td>\n",
       "    </tr>\n",
       "  </tbody>\n",
       "</table>\n",
       "<p>150 rows × 6 columns</p>\n",
       "</div>"
      ],
      "text/plain": [
       "       0    1    2    3    4               5\n",
       "0      1  5.1  3.5  1.4  0.2     Iris-setosa\n",
       "1      2  4.9  3.0  1.4  0.2     Iris-setosa\n",
       "2      3  4.7  3.2  1.3  0.2     Iris-setosa\n",
       "3      4  4.6  3.1  1.5  0.2     Iris-setosa\n",
       "4      5  5.0  3.6  1.4  0.2     Iris-setosa\n",
       "..   ...  ...  ...  ...  ...             ...\n",
       "145  146  6.7  3.0  5.2  2.3  Iris-virginica\n",
       "146  147  6.3  2.5  5.0  1.9  Iris-virginica\n",
       "147  148  6.5  3.0  5.2  2.0  Iris-virginica\n",
       "148  149  6.2  3.4  5.4  2.3  Iris-virginica\n",
       "149  150  5.9  3.0  5.1  1.8  Iris-virginica\n",
       "\n",
       "[150 rows x 6 columns]"
      ]
     },
     "execution_count": 3,
     "metadata": {},
     "output_type": "execute_result"
    }
   ],
   "source": [
    "df = pd.read_csv(\"iris_sem_coluna.csv\", header = None)\n",
    "df"
   ]
  },
  {
   "cell_type": "markdown",
   "metadata": {
    "id": "fqJIBnw0qqCo"
   },
   "source": [
    "Nomeando as colunas corretamente conforme o meu conhecimento de especialista."
   ]
  },
  {
   "cell_type": "code",
   "execution_count": 4,
   "metadata": {
    "colab": {
     "base_uri": "https://localhost:8080/",
     "height": 424
    },
    "id": "RaVLzzPqcz70",
    "outputId": "0cd6f839-d58f-46d8-8bb6-29b39cf82151"
   },
   "outputs": [
    {
     "data": {
      "text/html": [
       "<div>\n",
       "<style scoped>\n",
       "    .dataframe tbody tr th:only-of-type {\n",
       "        vertical-align: middle;\n",
       "    }\n",
       "\n",
       "    .dataframe tbody tr th {\n",
       "        vertical-align: top;\n",
       "    }\n",
       "\n",
       "    .dataframe thead th {\n",
       "        text-align: right;\n",
       "    }\n",
       "</style>\n",
       "<table border=\"1\" class=\"dataframe\">\n",
       "  <thead>\n",
       "    <tr style=\"text-align: right;\">\n",
       "      <th></th>\n",
       "      <th>id</th>\n",
       "      <th>compr_sep</th>\n",
       "      <th>lar_sep</th>\n",
       "      <th>compr_pet</th>\n",
       "      <th>lar_pet</th>\n",
       "      <th>especie</th>\n",
       "    </tr>\n",
       "  </thead>\n",
       "  <tbody>\n",
       "    <tr>\n",
       "      <th>0</th>\n",
       "      <td>1</td>\n",
       "      <td>5.1</td>\n",
       "      <td>3.5</td>\n",
       "      <td>1.4</td>\n",
       "      <td>0.2</td>\n",
       "      <td>Iris-setosa</td>\n",
       "    </tr>\n",
       "    <tr>\n",
       "      <th>1</th>\n",
       "      <td>2</td>\n",
       "      <td>4.9</td>\n",
       "      <td>3.0</td>\n",
       "      <td>1.4</td>\n",
       "      <td>0.2</td>\n",
       "      <td>Iris-setosa</td>\n",
       "    </tr>\n",
       "    <tr>\n",
       "      <th>2</th>\n",
       "      <td>3</td>\n",
       "      <td>4.7</td>\n",
       "      <td>3.2</td>\n",
       "      <td>1.3</td>\n",
       "      <td>0.2</td>\n",
       "      <td>Iris-setosa</td>\n",
       "    </tr>\n",
       "    <tr>\n",
       "      <th>3</th>\n",
       "      <td>4</td>\n",
       "      <td>4.6</td>\n",
       "      <td>3.1</td>\n",
       "      <td>1.5</td>\n",
       "      <td>0.2</td>\n",
       "      <td>Iris-setosa</td>\n",
       "    </tr>\n",
       "    <tr>\n",
       "      <th>4</th>\n",
       "      <td>5</td>\n",
       "      <td>5.0</td>\n",
       "      <td>3.6</td>\n",
       "      <td>1.4</td>\n",
       "      <td>0.2</td>\n",
       "      <td>Iris-setosa</td>\n",
       "    </tr>\n",
       "    <tr>\n",
       "      <th>...</th>\n",
       "      <td>...</td>\n",
       "      <td>...</td>\n",
       "      <td>...</td>\n",
       "      <td>...</td>\n",
       "      <td>...</td>\n",
       "      <td>...</td>\n",
       "    </tr>\n",
       "    <tr>\n",
       "      <th>145</th>\n",
       "      <td>146</td>\n",
       "      <td>6.7</td>\n",
       "      <td>3.0</td>\n",
       "      <td>5.2</td>\n",
       "      <td>2.3</td>\n",
       "      <td>Iris-virginica</td>\n",
       "    </tr>\n",
       "    <tr>\n",
       "      <th>146</th>\n",
       "      <td>147</td>\n",
       "      <td>6.3</td>\n",
       "      <td>2.5</td>\n",
       "      <td>5.0</td>\n",
       "      <td>1.9</td>\n",
       "      <td>Iris-virginica</td>\n",
       "    </tr>\n",
       "    <tr>\n",
       "      <th>147</th>\n",
       "      <td>148</td>\n",
       "      <td>6.5</td>\n",
       "      <td>3.0</td>\n",
       "      <td>5.2</td>\n",
       "      <td>2.0</td>\n",
       "      <td>Iris-virginica</td>\n",
       "    </tr>\n",
       "    <tr>\n",
       "      <th>148</th>\n",
       "      <td>149</td>\n",
       "      <td>6.2</td>\n",
       "      <td>3.4</td>\n",
       "      <td>5.4</td>\n",
       "      <td>2.3</td>\n",
       "      <td>Iris-virginica</td>\n",
       "    </tr>\n",
       "    <tr>\n",
       "      <th>149</th>\n",
       "      <td>150</td>\n",
       "      <td>5.9</td>\n",
       "      <td>3.0</td>\n",
       "      <td>5.1</td>\n",
       "      <td>1.8</td>\n",
       "      <td>Iris-virginica</td>\n",
       "    </tr>\n",
       "  </tbody>\n",
       "</table>\n",
       "<p>150 rows × 6 columns</p>\n",
       "</div>"
      ],
      "text/plain": [
       "      id  compr_sep  lar_sep  compr_pet  lar_pet         especie\n",
       "0      1        5.1      3.5        1.4      0.2     Iris-setosa\n",
       "1      2        4.9      3.0        1.4      0.2     Iris-setosa\n",
       "2      3        4.7      3.2        1.3      0.2     Iris-setosa\n",
       "3      4        4.6      3.1        1.5      0.2     Iris-setosa\n",
       "4      5        5.0      3.6        1.4      0.2     Iris-setosa\n",
       "..   ...        ...      ...        ...      ...             ...\n",
       "145  146        6.7      3.0        5.2      2.3  Iris-virginica\n",
       "146  147        6.3      2.5        5.0      1.9  Iris-virginica\n",
       "147  148        6.5      3.0        5.2      2.0  Iris-virginica\n",
       "148  149        6.2      3.4        5.4      2.3  Iris-virginica\n",
       "149  150        5.9      3.0        5.1      1.8  Iris-virginica\n",
       "\n",
       "[150 rows x 6 columns]"
      ]
     },
     "execution_count": 4,
     "metadata": {},
     "output_type": "execute_result"
    }
   ],
   "source": [
    "nomeColunas = ['id', 'compr_sep', 'lar_sep', 'compr_pet', 'lar_pet', 'especie']\n",
    "df.columns = nomeColunas\n",
    "df"
   ]
  },
  {
   "cell_type": "markdown",
   "metadata": {
    "id": "zD08nQm60uh9"
   },
   "source": [
    "## 4. Entendendo os dados e definindo tarefa\n",
    "\n",
    "Em um _pipeline_ de ciência de dados que tem como foco a extração de conhecimento é mutio importante a definição da tarefa. A Figura 4.1 apresenta um _pipeline_ completo que tem como foco a produção de um modelo de aprendizado de máquina.\n",
    "\n",
    "![Figura4-1](https://drive.google.com/uc?id=1n7utm5UvUscNi9xrE0dW8guyW9UfjNC9&usp=drive_fs)   \n",
    "**Figura 4.1** _Pipeline_ de Ciência de dados com foco em aprendizado de máquina.\n",
    "\n",
    "No caso do nosso exemplo atual o modelo \"pede\" uma classificação baseado em dados da geometria das folhas de um determinado conjunto de plantas. Mas qual seriam outros exemplos?!  \n",
    "\n",
    "### 4.1 Regressão"
   ]
  },
  {
   "cell_type": "code",
   "execution_count": 5,
   "metadata": {
    "colab": {
     "base_uri": "https://localhost:8080/",
     "height": 458
    },
    "id": "yovDSf2t2t34",
    "outputId": "534dbf62-29cf-4b4b-bff2-e830db752866"
   },
   "outputs": [
    {
     "data": {
      "text/html": [
       "<div>\n",
       "<style scoped>\n",
       "    .dataframe tbody tr th:only-of-type {\n",
       "        vertical-align: middle;\n",
       "    }\n",
       "\n",
       "    .dataframe tbody tr th {\n",
       "        vertical-align: top;\n",
       "    }\n",
       "\n",
       "    .dataframe thead th {\n",
       "        text-align: right;\n",
       "    }\n",
       "</style>\n",
       "<table border=\"1\" class=\"dataframe\">\n",
       "  <thead>\n",
       "    <tr style=\"text-align: right;\">\n",
       "      <th></th>\n",
       "      <th>Cement (component 1)(kg in a m^3 mixture)</th>\n",
       "      <th>Blast Furnace Slag (component 2)(kg in a m^3 mixture)</th>\n",
       "      <th>Fly Ash (component 3)(kg in a m^3 mixture)</th>\n",
       "      <th>Water  (component 4)(kg in a m^3 mixture)</th>\n",
       "      <th>Superplasticizer (component 5)(kg in a m^3 mixture)</th>\n",
       "      <th>Coarse Aggregate  (component 6)(kg in a m^3 mixture)</th>\n",
       "      <th>Fine Aggregate (component 7)(kg in a m^3 mixture)</th>\n",
       "      <th>Age (day)</th>\n",
       "      <th>Concrete compressive strength(MPa, megapascals)</th>\n",
       "    </tr>\n",
       "  </thead>\n",
       "  <tbody>\n",
       "    <tr>\n",
       "      <th>0</th>\n",
       "      <td>540.0</td>\n",
       "      <td>0.0</td>\n",
       "      <td>0.0</td>\n",
       "      <td>162.0</td>\n",
       "      <td>2.5</td>\n",
       "      <td>1040.0</td>\n",
       "      <td>676.0</td>\n",
       "      <td>28</td>\n",
       "      <td>79.986111</td>\n",
       "    </tr>\n",
       "    <tr>\n",
       "      <th>1</th>\n",
       "      <td>540.0</td>\n",
       "      <td>0.0</td>\n",
       "      <td>0.0</td>\n",
       "      <td>162.0</td>\n",
       "      <td>2.5</td>\n",
       "      <td>1055.0</td>\n",
       "      <td>676.0</td>\n",
       "      <td>28</td>\n",
       "      <td>61.887366</td>\n",
       "    </tr>\n",
       "    <tr>\n",
       "      <th>2</th>\n",
       "      <td>332.5</td>\n",
       "      <td>142.5</td>\n",
       "      <td>0.0</td>\n",
       "      <td>228.0</td>\n",
       "      <td>0.0</td>\n",
       "      <td>932.0</td>\n",
       "      <td>594.0</td>\n",
       "      <td>270</td>\n",
       "      <td>40.269535</td>\n",
       "    </tr>\n",
       "    <tr>\n",
       "      <th>3</th>\n",
       "      <td>332.5</td>\n",
       "      <td>142.5</td>\n",
       "      <td>0.0</td>\n",
       "      <td>228.0</td>\n",
       "      <td>0.0</td>\n",
       "      <td>932.0</td>\n",
       "      <td>594.0</td>\n",
       "      <td>365</td>\n",
       "      <td>41.052780</td>\n",
       "    </tr>\n",
       "    <tr>\n",
       "      <th>4</th>\n",
       "      <td>198.6</td>\n",
       "      <td>132.4</td>\n",
       "      <td>0.0</td>\n",
       "      <td>192.0</td>\n",
       "      <td>0.0</td>\n",
       "      <td>978.4</td>\n",
       "      <td>825.5</td>\n",
       "      <td>360</td>\n",
       "      <td>44.296075</td>\n",
       "    </tr>\n",
       "    <tr>\n",
       "      <th>...</th>\n",
       "      <td>...</td>\n",
       "      <td>...</td>\n",
       "      <td>...</td>\n",
       "      <td>...</td>\n",
       "      <td>...</td>\n",
       "      <td>...</td>\n",
       "      <td>...</td>\n",
       "      <td>...</td>\n",
       "      <td>...</td>\n",
       "    </tr>\n",
       "    <tr>\n",
       "      <th>1025</th>\n",
       "      <td>276.4</td>\n",
       "      <td>116.0</td>\n",
       "      <td>90.3</td>\n",
       "      <td>179.6</td>\n",
       "      <td>8.9</td>\n",
       "      <td>870.1</td>\n",
       "      <td>768.3</td>\n",
       "      <td>28</td>\n",
       "      <td>44.284354</td>\n",
       "    </tr>\n",
       "    <tr>\n",
       "      <th>1026</th>\n",
       "      <td>322.2</td>\n",
       "      <td>0.0</td>\n",
       "      <td>115.6</td>\n",
       "      <td>196.0</td>\n",
       "      <td>10.4</td>\n",
       "      <td>817.9</td>\n",
       "      <td>813.4</td>\n",
       "      <td>28</td>\n",
       "      <td>31.178794</td>\n",
       "    </tr>\n",
       "    <tr>\n",
       "      <th>1027</th>\n",
       "      <td>148.5</td>\n",
       "      <td>139.4</td>\n",
       "      <td>108.6</td>\n",
       "      <td>192.7</td>\n",
       "      <td>6.1</td>\n",
       "      <td>892.4</td>\n",
       "      <td>780.0</td>\n",
       "      <td>28</td>\n",
       "      <td>23.696601</td>\n",
       "    </tr>\n",
       "    <tr>\n",
       "      <th>1028</th>\n",
       "      <td>159.1</td>\n",
       "      <td>186.7</td>\n",
       "      <td>0.0</td>\n",
       "      <td>175.6</td>\n",
       "      <td>11.3</td>\n",
       "      <td>989.6</td>\n",
       "      <td>788.9</td>\n",
       "      <td>28</td>\n",
       "      <td>32.768036</td>\n",
       "    </tr>\n",
       "    <tr>\n",
       "      <th>1029</th>\n",
       "      <td>260.9</td>\n",
       "      <td>100.5</td>\n",
       "      <td>78.3</td>\n",
       "      <td>200.6</td>\n",
       "      <td>8.6</td>\n",
       "      <td>864.5</td>\n",
       "      <td>761.5</td>\n",
       "      <td>28</td>\n",
       "      <td>32.401235</td>\n",
       "    </tr>\n",
       "  </tbody>\n",
       "</table>\n",
       "<p>1030 rows × 9 columns</p>\n",
       "</div>"
      ],
      "text/plain": [
       "      Cement (component 1)(kg in a m^3 mixture)  \\\n",
       "0                                         540.0   \n",
       "1                                         540.0   \n",
       "2                                         332.5   \n",
       "3                                         332.5   \n",
       "4                                         198.6   \n",
       "...                                         ...   \n",
       "1025                                      276.4   \n",
       "1026                                      322.2   \n",
       "1027                                      148.5   \n",
       "1028                                      159.1   \n",
       "1029                                      260.9   \n",
       "\n",
       "      Blast Furnace Slag (component 2)(kg in a m^3 mixture)  \\\n",
       "0                                                   0.0       \n",
       "1                                                   0.0       \n",
       "2                                                 142.5       \n",
       "3                                                 142.5       \n",
       "4                                                 132.4       \n",
       "...                                                 ...       \n",
       "1025                                              116.0       \n",
       "1026                                                0.0       \n",
       "1027                                              139.4       \n",
       "1028                                              186.7       \n",
       "1029                                              100.5       \n",
       "\n",
       "      Fly Ash (component 3)(kg in a m^3 mixture)  \\\n",
       "0                                            0.0   \n",
       "1                                            0.0   \n",
       "2                                            0.0   \n",
       "3                                            0.0   \n",
       "4                                            0.0   \n",
       "...                                          ...   \n",
       "1025                                        90.3   \n",
       "1026                                       115.6   \n",
       "1027                                       108.6   \n",
       "1028                                         0.0   \n",
       "1029                                        78.3   \n",
       "\n",
       "      Water  (component 4)(kg in a m^3 mixture)  \\\n",
       "0                                         162.0   \n",
       "1                                         162.0   \n",
       "2                                         228.0   \n",
       "3                                         228.0   \n",
       "4                                         192.0   \n",
       "...                                         ...   \n",
       "1025                                      179.6   \n",
       "1026                                      196.0   \n",
       "1027                                      192.7   \n",
       "1028                                      175.6   \n",
       "1029                                      200.6   \n",
       "\n",
       "      Superplasticizer (component 5)(kg in a m^3 mixture)  \\\n",
       "0                                                   2.5     \n",
       "1                                                   2.5     \n",
       "2                                                   0.0     \n",
       "3                                                   0.0     \n",
       "4                                                   0.0     \n",
       "...                                                 ...     \n",
       "1025                                                8.9     \n",
       "1026                                               10.4     \n",
       "1027                                                6.1     \n",
       "1028                                               11.3     \n",
       "1029                                                8.6     \n",
       "\n",
       "      Coarse Aggregate  (component 6)(kg in a m^3 mixture)  \\\n",
       "0                                                1040.0      \n",
       "1                                                1055.0      \n",
       "2                                                 932.0      \n",
       "3                                                 932.0      \n",
       "4                                                 978.4      \n",
       "...                                                 ...      \n",
       "1025                                              870.1      \n",
       "1026                                              817.9      \n",
       "1027                                              892.4      \n",
       "1028                                              989.6      \n",
       "1029                                              864.5      \n",
       "\n",
       "      Fine Aggregate (component 7)(kg in a m^3 mixture)  Age (day)  \\\n",
       "0                                                 676.0         28   \n",
       "1                                                 676.0         28   \n",
       "2                                                 594.0        270   \n",
       "3                                                 594.0        365   \n",
       "4                                                 825.5        360   \n",
       "...                                                 ...        ...   \n",
       "1025                                              768.3         28   \n",
       "1026                                              813.4         28   \n",
       "1027                                              780.0         28   \n",
       "1028                                              788.9         28   \n",
       "1029                                              761.5         28   \n",
       "\n",
       "      Concrete compressive strength(MPa, megapascals)   \n",
       "0                                            79.986111  \n",
       "1                                            61.887366  \n",
       "2                                            40.269535  \n",
       "3                                            41.052780  \n",
       "4                                            44.296075  \n",
       "...                                                ...  \n",
       "1025                                         44.284354  \n",
       "1026                                         31.178794  \n",
       "1027                                         23.696601  \n",
       "1028                                         32.768036  \n",
       "1029                                         32.401235  \n",
       "\n",
       "[1030 rows x 9 columns]"
      ]
     },
     "execution_count": 5,
     "metadata": {},
     "output_type": "execute_result"
    }
   ],
   "source": [
    "df = pd.read_csv(\"regressao.csv\")\n",
    "df"
   ]
  },
  {
   "cell_type": "markdown",
   "metadata": {
    "id": "C_tT_q5a4MEj"
   },
   "source": [
    "<img src=\"https://drive.google.com/uc?id=1nJyCqEUzPYHUTrkFFtULHDPCmJRDGoRl&usp=drive_fs\" alt=\"figur4-2\" width=\"450\" height=\"275\">\n",
    "\n",
    "**Figura 4.2** Predição com foco em uma regressão.\n"
   ]
  },
  {
   "cell_type": "markdown",
   "metadata": {
    "id": "6gLGfmA627zA"
   },
   "source": [
    "### 4.2 Agrupamento"
   ]
  },
  {
   "cell_type": "code",
   "execution_count": 6,
   "metadata": {
    "colab": {
     "base_uri": "https://localhost:8080/",
     "height": 424
    },
    "id": "G3hYdiCy27RO",
    "outputId": "a4db6916-80c2-4ac6-a7ea-7272247a200d"
   },
   "outputs": [
    {
     "data": {
      "text/html": [
       "<div>\n",
       "<style scoped>\n",
       "    .dataframe tbody tr th:only-of-type {\n",
       "        vertical-align: middle;\n",
       "    }\n",
       "\n",
       "    .dataframe tbody tr th {\n",
       "        vertical-align: top;\n",
       "    }\n",
       "\n",
       "    .dataframe thead th {\n",
       "        text-align: right;\n",
       "    }\n",
       "</style>\n",
       "<table border=\"1\" class=\"dataframe\">\n",
       "  <thead>\n",
       "    <tr style=\"text-align: right;\">\n",
       "      <th></th>\n",
       "      <th>Alcohol</th>\n",
       "      <th>Malic_Acid</th>\n",
       "      <th>Ash</th>\n",
       "      <th>Ash_Alcanity</th>\n",
       "      <th>Magnesium</th>\n",
       "      <th>Total_Phenols</th>\n",
       "      <th>Flavanoids</th>\n",
       "      <th>Nonflavanoid_Phenols</th>\n",
       "      <th>Proanthocyanins</th>\n",
       "      <th>Color_Intensity</th>\n",
       "      <th>Hue</th>\n",
       "      <th>OD280</th>\n",
       "      <th>Proline</th>\n",
       "    </tr>\n",
       "  </thead>\n",
       "  <tbody>\n",
       "    <tr>\n",
       "      <th>0</th>\n",
       "      <td>14.23</td>\n",
       "      <td>1.71</td>\n",
       "      <td>2.43</td>\n",
       "      <td>15.6</td>\n",
       "      <td>127</td>\n",
       "      <td>2.80</td>\n",
       "      <td>3.06</td>\n",
       "      <td>0.28</td>\n",
       "      <td>2.29</td>\n",
       "      <td>5.64</td>\n",
       "      <td>1.04</td>\n",
       "      <td>3.92</td>\n",
       "      <td>1065</td>\n",
       "    </tr>\n",
       "    <tr>\n",
       "      <th>1</th>\n",
       "      <td>13.20</td>\n",
       "      <td>1.78</td>\n",
       "      <td>2.14</td>\n",
       "      <td>11.2</td>\n",
       "      <td>100</td>\n",
       "      <td>2.65</td>\n",
       "      <td>2.76</td>\n",
       "      <td>0.26</td>\n",
       "      <td>1.28</td>\n",
       "      <td>4.38</td>\n",
       "      <td>1.05</td>\n",
       "      <td>3.40</td>\n",
       "      <td>1050</td>\n",
       "    </tr>\n",
       "    <tr>\n",
       "      <th>2</th>\n",
       "      <td>13.16</td>\n",
       "      <td>2.36</td>\n",
       "      <td>2.67</td>\n",
       "      <td>18.6</td>\n",
       "      <td>101</td>\n",
       "      <td>2.80</td>\n",
       "      <td>3.24</td>\n",
       "      <td>0.30</td>\n",
       "      <td>2.81</td>\n",
       "      <td>5.68</td>\n",
       "      <td>1.03</td>\n",
       "      <td>3.17</td>\n",
       "      <td>1185</td>\n",
       "    </tr>\n",
       "    <tr>\n",
       "      <th>3</th>\n",
       "      <td>14.37</td>\n",
       "      <td>1.95</td>\n",
       "      <td>2.50</td>\n",
       "      <td>16.8</td>\n",
       "      <td>113</td>\n",
       "      <td>3.85</td>\n",
       "      <td>3.49</td>\n",
       "      <td>0.24</td>\n",
       "      <td>2.18</td>\n",
       "      <td>7.80</td>\n",
       "      <td>0.86</td>\n",
       "      <td>3.45</td>\n",
       "      <td>1480</td>\n",
       "    </tr>\n",
       "    <tr>\n",
       "      <th>4</th>\n",
       "      <td>13.24</td>\n",
       "      <td>2.59</td>\n",
       "      <td>2.87</td>\n",
       "      <td>21.0</td>\n",
       "      <td>118</td>\n",
       "      <td>2.80</td>\n",
       "      <td>2.69</td>\n",
       "      <td>0.39</td>\n",
       "      <td>1.82</td>\n",
       "      <td>4.32</td>\n",
       "      <td>1.04</td>\n",
       "      <td>2.93</td>\n",
       "      <td>735</td>\n",
       "    </tr>\n",
       "    <tr>\n",
       "      <th>...</th>\n",
       "      <td>...</td>\n",
       "      <td>...</td>\n",
       "      <td>...</td>\n",
       "      <td>...</td>\n",
       "      <td>...</td>\n",
       "      <td>...</td>\n",
       "      <td>...</td>\n",
       "      <td>...</td>\n",
       "      <td>...</td>\n",
       "      <td>...</td>\n",
       "      <td>...</td>\n",
       "      <td>...</td>\n",
       "      <td>...</td>\n",
       "    </tr>\n",
       "    <tr>\n",
       "      <th>173</th>\n",
       "      <td>13.71</td>\n",
       "      <td>5.65</td>\n",
       "      <td>2.45</td>\n",
       "      <td>20.5</td>\n",
       "      <td>95</td>\n",
       "      <td>1.68</td>\n",
       "      <td>0.61</td>\n",
       "      <td>0.52</td>\n",
       "      <td>1.06</td>\n",
       "      <td>7.70</td>\n",
       "      <td>0.64</td>\n",
       "      <td>1.74</td>\n",
       "      <td>740</td>\n",
       "    </tr>\n",
       "    <tr>\n",
       "      <th>174</th>\n",
       "      <td>13.40</td>\n",
       "      <td>3.91</td>\n",
       "      <td>2.48</td>\n",
       "      <td>23.0</td>\n",
       "      <td>102</td>\n",
       "      <td>1.80</td>\n",
       "      <td>0.75</td>\n",
       "      <td>0.43</td>\n",
       "      <td>1.41</td>\n",
       "      <td>7.30</td>\n",
       "      <td>0.70</td>\n",
       "      <td>1.56</td>\n",
       "      <td>750</td>\n",
       "    </tr>\n",
       "    <tr>\n",
       "      <th>175</th>\n",
       "      <td>13.27</td>\n",
       "      <td>4.28</td>\n",
       "      <td>2.26</td>\n",
       "      <td>20.0</td>\n",
       "      <td>120</td>\n",
       "      <td>1.59</td>\n",
       "      <td>0.69</td>\n",
       "      <td>0.43</td>\n",
       "      <td>1.35</td>\n",
       "      <td>10.20</td>\n",
       "      <td>0.59</td>\n",
       "      <td>1.56</td>\n",
       "      <td>835</td>\n",
       "    </tr>\n",
       "    <tr>\n",
       "      <th>176</th>\n",
       "      <td>13.17</td>\n",
       "      <td>2.59</td>\n",
       "      <td>2.37</td>\n",
       "      <td>20.0</td>\n",
       "      <td>120</td>\n",
       "      <td>1.65</td>\n",
       "      <td>0.68</td>\n",
       "      <td>0.53</td>\n",
       "      <td>1.46</td>\n",
       "      <td>9.30</td>\n",
       "      <td>0.60</td>\n",
       "      <td>1.62</td>\n",
       "      <td>840</td>\n",
       "    </tr>\n",
       "    <tr>\n",
       "      <th>177</th>\n",
       "      <td>14.13</td>\n",
       "      <td>4.10</td>\n",
       "      <td>2.74</td>\n",
       "      <td>24.5</td>\n",
       "      <td>96</td>\n",
       "      <td>2.05</td>\n",
       "      <td>0.76</td>\n",
       "      <td>0.56</td>\n",
       "      <td>1.35</td>\n",
       "      <td>9.20</td>\n",
       "      <td>0.61</td>\n",
       "      <td>1.60</td>\n",
       "      <td>560</td>\n",
       "    </tr>\n",
       "  </tbody>\n",
       "</table>\n",
       "<p>178 rows × 13 columns</p>\n",
       "</div>"
      ],
      "text/plain": [
       "     Alcohol  Malic_Acid   Ash  Ash_Alcanity  Magnesium  Total_Phenols  \\\n",
       "0      14.23        1.71  2.43          15.6        127           2.80   \n",
       "1      13.20        1.78  2.14          11.2        100           2.65   \n",
       "2      13.16        2.36  2.67          18.6        101           2.80   \n",
       "3      14.37        1.95  2.50          16.8        113           3.85   \n",
       "4      13.24        2.59  2.87          21.0        118           2.80   \n",
       "..       ...         ...   ...           ...        ...            ...   \n",
       "173    13.71        5.65  2.45          20.5         95           1.68   \n",
       "174    13.40        3.91  2.48          23.0        102           1.80   \n",
       "175    13.27        4.28  2.26          20.0        120           1.59   \n",
       "176    13.17        2.59  2.37          20.0        120           1.65   \n",
       "177    14.13        4.10  2.74          24.5         96           2.05   \n",
       "\n",
       "     Flavanoids  Nonflavanoid_Phenols  Proanthocyanins  Color_Intensity   Hue  \\\n",
       "0          3.06                  0.28             2.29             5.64  1.04   \n",
       "1          2.76                  0.26             1.28             4.38  1.05   \n",
       "2          3.24                  0.30             2.81             5.68  1.03   \n",
       "3          3.49                  0.24             2.18             7.80  0.86   \n",
       "4          2.69                  0.39             1.82             4.32  1.04   \n",
       "..          ...                   ...              ...              ...   ...   \n",
       "173        0.61                  0.52             1.06             7.70  0.64   \n",
       "174        0.75                  0.43             1.41             7.30  0.70   \n",
       "175        0.69                  0.43             1.35            10.20  0.59   \n",
       "176        0.68                  0.53             1.46             9.30  0.60   \n",
       "177        0.76                  0.56             1.35             9.20  0.61   \n",
       "\n",
       "     OD280  Proline  \n",
       "0     3.92     1065  \n",
       "1     3.40     1050  \n",
       "2     3.17     1185  \n",
       "3     3.45     1480  \n",
       "4     2.93      735  \n",
       "..     ...      ...  \n",
       "173   1.74      740  \n",
       "174   1.56      750  \n",
       "175   1.56      835  \n",
       "176   1.62      840  \n",
       "177   1.60      560  \n",
       "\n",
       "[178 rows x 13 columns]"
      ]
     },
     "execution_count": 6,
     "metadata": {},
     "output_type": "execute_result"
    }
   ],
   "source": [
    "df = pd.read_csv(\"agrupamento.csv\")\n",
    "df"
   ]
  },
  {
   "cell_type": "markdown",
   "metadata": {
    "id": "6fPjCTs-4MJ7"
   },
   "source": [
    "<img src=\"https://drive.google.com/uc?id=1nIV3kEGXUck9rTJRbr7qsGHwSaGA1MIT&usp=drive_fs\" alt=\"figur4-3\" width=\"450\" height=\"275\">\n",
    "\n",
    "**Figura 4.3** Predição com foco em um agrupamento."
   ]
  },
  {
   "cell_type": "markdown",
   "metadata": {
    "id": "OFrxvChE6C8w"
   },
   "source": [
    "### 4.3 Extraindo algumas informações iniciais da base\n",
    "\n",
    "Vamos empregar a base de dados de plantas tipo Iris para essa análise."
   ]
  },
  {
   "cell_type": "markdown",
   "metadata": {
    "id": "DdZmczebCXLR"
   },
   "source": [
    "#### 4.3.1 Estátisitca descritiva básica"
   ]
  },
  {
   "cell_type": "markdown",
   "metadata": {
    "id": "vXL9srVNF3m4"
   },
   "source": [
    "##### _Separação do conjunto_"
   ]
  },
  {
   "cell_type": "code",
   "execution_count": 7,
   "metadata": {
    "colab": {
     "base_uri": "https://localhost:8080/"
    },
    "id": "0Rcr6JbcCj_4",
    "outputId": "4eb1ecec-9e70-4152-dfb4-13f4cc72a733"
   },
   "outputs": [
    {
     "data": {
      "text/plain": [
       "4.35"
      ]
     },
     "execution_count": 7,
     "metadata": {},
     "output_type": "execute_result"
    }
   ],
   "source": [
    "df = pd.read_csv(\"iris_com_coluna.csv\")\n",
    "\n",
    "# Mediana\n",
    "df['PetalLengthCm'].median()"
   ]
  },
  {
   "cell_type": "code",
   "execution_count": 8,
   "metadata": {
    "colab": {
     "base_uri": "https://localhost:8080/"
    },
    "id": "l_OiLi8rEke7",
    "outputId": "0ba8b8cc-8ac9-45c9-9419-bb2cc858dd61"
   },
   "outputs": [
    {
     "data": {
      "text/plain": [
       "4.35"
      ]
     },
     "execution_count": 8,
     "metadata": {},
     "output_type": "execute_result"
    }
   ],
   "source": [
    "# Percentil 50\n",
    "np.percentile(df['PetalLengthCm'], 50)"
   ]
  },
  {
   "cell_type": "code",
   "execution_count": 9,
   "metadata": {
    "colab": {
     "base_uri": "https://localhost:8080/"
    },
    "id": "ugvmkPbOFOMT",
    "outputId": "3a388fff-acd2-4314-f65f-65054e4c6791"
   },
   "outputs": [
    {
     "data": {
      "text/plain": [
       "5.1"
      ]
     },
     "execution_count": 9,
     "metadata": {},
     "output_type": "execute_result"
    }
   ],
   "source": [
    "# Percentil 75\n",
    "np.percentile(df['PetalLengthCm'], 75)"
   ]
  },
  {
   "cell_type": "markdown",
   "metadata": {
    "id": "R-FUGCfmF_he"
   },
   "source": [
    "##### _Tendência_"
   ]
  },
  {
   "cell_type": "code",
   "execution_count": 10,
   "metadata": {
    "colab": {
     "base_uri": "https://localhost:8080/"
    },
    "id": "inUioSBZCTSJ",
    "outputId": "756cad69-e22b-4606-b1d7-8a63155808be"
   },
   "outputs": [
    {
     "data": {
      "text/plain": [
       "3.758666666666666"
      ]
     },
     "execution_count": 10,
     "metadata": {},
     "output_type": "execute_result"
    }
   ],
   "source": [
    "# Média\n",
    "df['PetalLengthCm'].mean()"
   ]
  },
  {
   "cell_type": "markdown",
   "metadata": {
    "id": "ct9LjuwlGEzv"
   },
   "source": [
    "##### _Dispersão_"
   ]
  },
  {
   "cell_type": "code",
   "execution_count": 11,
   "metadata": {
    "colab": {
     "base_uri": "https://localhost:8080/"
    },
    "id": "rkgUudqgCoZw",
    "outputId": "5f5f474d-a1f8-4f0c-eab5-1053f44c4bdd"
   },
   "outputs": [
    {
     "data": {
      "text/plain": [
       "1.7644204199522617"
      ]
     },
     "execution_count": 11,
     "metadata": {},
     "output_type": "execute_result"
    }
   ],
   "source": [
    "# Desvio padrão\n",
    "df['PetalLengthCm'].std()"
   ]
  },
  {
   "cell_type": "markdown",
   "metadata": {
    "id": "Mt9_SchGD6IE"
   },
   "source": [
    "É mais utilizado que a variância por estar na unidade dos dados."
   ]
  },
  {
   "cell_type": "code",
   "execution_count": 12,
   "metadata": {
    "colab": {
     "base_uri": "https://localhost:8080/"
    },
    "id": "SKKDfujCDrrm",
    "outputId": "0f2da217-27f6-44f3-fed2-54f1d2e1b06f"
   },
   "outputs": [
    {
     "data": {
      "text/plain": [
       "0.46942721353820377"
      ]
     },
     "execution_count": 12,
     "metadata": {},
     "output_type": "execute_result"
    }
   ],
   "source": [
    "# Coeficiente de variação\n",
    "df['PetalLengthCm'].std() / df['PetalLengthCm'].mean()"
   ]
  },
  {
   "cell_type": "markdown",
   "metadata": {
    "id": "wTYEf91JGIm3"
   },
   "source": [
    "##### _Formato_"
   ]
  },
  {
   "cell_type": "code",
   "execution_count": 13,
   "metadata": {
    "colab": {
     "base_uri": "https://localhost:8080/"
    },
    "id": "e5_2tfUJDKc3",
    "outputId": "41d7b46d-ccbc-435a-80ab-af0777ac11a9"
   },
   "outputs": [
    {
     "data": {
      "text/plain": [
       "-0.27446425247378287"
      ]
     },
     "execution_count": 13,
     "metadata": {},
     "output_type": "execute_result"
    }
   ],
   "source": [
    "# Assimétria\n",
    "df['PetalLengthCm'].skew()"
   ]
  },
  {
   "cell_type": "markdown",
   "metadata": {
    "id": "LOHwDvQNDTSO"
   },
   "source": [
    "* Para dados normalmente distribuídos, a assimetria é bem próxima de zero.\n",
    "* Uma assimetria positiva, com valor > 0, significa que a cauda da distribuição está mais para a direita.\n",
    "* Uma assimetria negativa, com valor < 0, significa que a cauda da distribuição está mais para a esquerda.\n",
    "\n",
    "<img src=\"https://drive.google.com/uc?id=1nKgDU8nvKNBLiN-s5Q1OsO3KRrN1nHXk&usp=drive_fs\" alt=\"figur4-4\" width=\"450\" height=\"275\">\n",
    "\n",
    "**Figura 4.4** Medida de assimetria dos dados."
   ]
  },
  {
   "cell_type": "markdown",
   "metadata": {
    "id": "tlUhLSwLFRqJ"
   },
   "source": [
    "Existe uma possibilidade para faze tudo isso de uma única vez?!"
   ]
  },
  {
   "cell_type": "code",
   "execution_count": 14,
   "metadata": {
    "colab": {
     "base_uri": "https://localhost:8080/",
     "height": 300
    },
    "id": "nPwr87xd6fo2",
    "outputId": "2d0bb78e-7552-48b3-f9ce-8dafe60e3943"
   },
   "outputs": [
    {
     "data": {
      "text/html": [
       "<div>\n",
       "<style scoped>\n",
       "    .dataframe tbody tr th:only-of-type {\n",
       "        vertical-align: middle;\n",
       "    }\n",
       "\n",
       "    .dataframe tbody tr th {\n",
       "        vertical-align: top;\n",
       "    }\n",
       "\n",
       "    .dataframe thead th {\n",
       "        text-align: right;\n",
       "    }\n",
       "</style>\n",
       "<table border=\"1\" class=\"dataframe\">\n",
       "  <thead>\n",
       "    <tr style=\"text-align: right;\">\n",
       "      <th></th>\n",
       "      <th>Id</th>\n",
       "      <th>SepalLengthCm</th>\n",
       "      <th>SepalWidthCm</th>\n",
       "      <th>PetalLengthCm</th>\n",
       "      <th>PetalWidthCm</th>\n",
       "    </tr>\n",
       "  </thead>\n",
       "  <tbody>\n",
       "    <tr>\n",
       "      <th>count</th>\n",
       "      <td>150.000000</td>\n",
       "      <td>150.000000</td>\n",
       "      <td>150.000000</td>\n",
       "      <td>150.000000</td>\n",
       "      <td>150.000000</td>\n",
       "    </tr>\n",
       "    <tr>\n",
       "      <th>mean</th>\n",
       "      <td>75.500000</td>\n",
       "      <td>5.843333</td>\n",
       "      <td>3.054000</td>\n",
       "      <td>3.758667</td>\n",
       "      <td>1.198667</td>\n",
       "    </tr>\n",
       "    <tr>\n",
       "      <th>std</th>\n",
       "      <td>43.445368</td>\n",
       "      <td>0.828066</td>\n",
       "      <td>0.433594</td>\n",
       "      <td>1.764420</td>\n",
       "      <td>0.763161</td>\n",
       "    </tr>\n",
       "    <tr>\n",
       "      <th>min</th>\n",
       "      <td>1.000000</td>\n",
       "      <td>4.300000</td>\n",
       "      <td>2.000000</td>\n",
       "      <td>1.000000</td>\n",
       "      <td>0.100000</td>\n",
       "    </tr>\n",
       "    <tr>\n",
       "      <th>25%</th>\n",
       "      <td>38.250000</td>\n",
       "      <td>5.100000</td>\n",
       "      <td>2.800000</td>\n",
       "      <td>1.600000</td>\n",
       "      <td>0.300000</td>\n",
       "    </tr>\n",
       "    <tr>\n",
       "      <th>50%</th>\n",
       "      <td>75.500000</td>\n",
       "      <td>5.800000</td>\n",
       "      <td>3.000000</td>\n",
       "      <td>4.350000</td>\n",
       "      <td>1.300000</td>\n",
       "    </tr>\n",
       "    <tr>\n",
       "      <th>75%</th>\n",
       "      <td>112.750000</td>\n",
       "      <td>6.400000</td>\n",
       "      <td>3.300000</td>\n",
       "      <td>5.100000</td>\n",
       "      <td>1.800000</td>\n",
       "    </tr>\n",
       "    <tr>\n",
       "      <th>max</th>\n",
       "      <td>150.000000</td>\n",
       "      <td>7.900000</td>\n",
       "      <td>4.400000</td>\n",
       "      <td>6.900000</td>\n",
       "      <td>2.500000</td>\n",
       "    </tr>\n",
       "  </tbody>\n",
       "</table>\n",
       "</div>"
      ],
      "text/plain": [
       "               Id  SepalLengthCm  SepalWidthCm  PetalLengthCm  PetalWidthCm\n",
       "count  150.000000     150.000000    150.000000     150.000000    150.000000\n",
       "mean    75.500000       5.843333      3.054000       3.758667      1.198667\n",
       "std     43.445368       0.828066      0.433594       1.764420      0.763161\n",
       "min      1.000000       4.300000      2.000000       1.000000      0.100000\n",
       "25%     38.250000       5.100000      2.800000       1.600000      0.300000\n",
       "50%     75.500000       5.800000      3.000000       4.350000      1.300000\n",
       "75%    112.750000       6.400000      3.300000       5.100000      1.800000\n",
       "max    150.000000       7.900000      4.400000       6.900000      2.500000"
      ]
     },
     "execution_count": 14,
     "metadata": {},
     "output_type": "execute_result"
    }
   ],
   "source": [
    "df.describe()"
   ]
  },
  {
   "cell_type": "markdown",
   "metadata": {
    "id": "t8FEeS_XGSSO"
   },
   "source": [
    "## 5. Limpeza, organizações e transformações em bases de dados\n",
    "\n",
    "Podemos dizer que os itens 4, 5 e 6 são executados de maneira concomitante em um pipeline_ de ciência de dados. Aqui fizemos a separação didática do mesmo só para fins de entendimento. Mas é comum que um especialista em dados faça manipulações no banco de dados e depois calcule as estatisticas do banco de dados e que esse processo sempre ocorrerá de forma iterativa."
   ]
  },
  {
   "cell_type": "markdown",
   "metadata": {
    "id": "PkkCVoieHZkc"
   },
   "source": [
    "### 5.1 Visão geral e limpeza"
   ]
  },
  {
   "cell_type": "code",
   "execution_count": 15,
   "metadata": {
    "colab": {
     "base_uri": "https://localhost:8080/"
    },
    "id": "fn1eWpXK5Zjq",
    "outputId": "6b84d6e0-7420-4a2e-b629-cf16589f425b"
   },
   "outputs": [
    {
     "name": "stdout",
     "output_type": "stream",
     "text": [
      "<class 'pandas.core.frame.DataFrame'>\n",
      "RangeIndex: 150 entries, 0 to 149\n",
      "Data columns (total 6 columns):\n",
      " #   Column         Non-Null Count  Dtype  \n",
      "---  ------         --------------  -----  \n",
      " 0   Id             150 non-null    int64  \n",
      " 1   SepalLengthCm  150 non-null    float64\n",
      " 2   SepalWidthCm   150 non-null    float64\n",
      " 3   PetalLengthCm  150 non-null    float64\n",
      " 4   PetalWidthCm   150 non-null    float64\n",
      " 5   Species        150 non-null    object \n",
      "dtypes: float64(4), int64(1), object(1)\n",
      "memory usage: 7.2+ KB\n"
     ]
    }
   ],
   "source": [
    "df = pd.read_csv(\"iris_com_coluna.csv\")\n",
    "df.info()"
   ]
  },
  {
   "cell_type": "code",
   "execution_count": 16,
   "metadata": {
    "colab": {
     "base_uri": "https://localhost:8080/",
     "height": 300
    },
    "id": "y_k2Hq5RI4jA",
    "outputId": "67481434-4f22-418d-ba03-d8ae51095a8f"
   },
   "outputs": [
    {
     "data": {
      "text/html": [
       "<div>\n",
       "<style scoped>\n",
       "    .dataframe tbody tr th:only-of-type {\n",
       "        vertical-align: middle;\n",
       "    }\n",
       "\n",
       "    .dataframe tbody tr th {\n",
       "        vertical-align: top;\n",
       "    }\n",
       "\n",
       "    .dataframe thead th {\n",
       "        text-align: right;\n",
       "    }\n",
       "</style>\n",
       "<table border=\"1\" class=\"dataframe\">\n",
       "  <thead>\n",
       "    <tr style=\"text-align: right;\">\n",
       "      <th></th>\n",
       "      <th>Id</th>\n",
       "      <th>SepalLengthCm</th>\n",
       "      <th>SepalWidthCm</th>\n",
       "      <th>PetalLengthCm</th>\n",
       "      <th>PetalWidthCm</th>\n",
       "      <th>Species</th>\n",
       "    </tr>\n",
       "  </thead>\n",
       "  <tbody>\n",
       "    <tr>\n",
       "      <th>0</th>\n",
       "      <td>1</td>\n",
       "      <td>5.1</td>\n",
       "      <td>3.5</td>\n",
       "      <td>1.4</td>\n",
       "      <td>0.2</td>\n",
       "      <td>Iris-setosa</td>\n",
       "    </tr>\n",
       "    <tr>\n",
       "      <th>1</th>\n",
       "      <td>2</td>\n",
       "      <td>4.9</td>\n",
       "      <td>3.0</td>\n",
       "      <td>1.4</td>\n",
       "      <td>0.2</td>\n",
       "      <td>Iris-setosa</td>\n",
       "    </tr>\n",
       "    <tr>\n",
       "      <th>2</th>\n",
       "      <td>3</td>\n",
       "      <td>4.7</td>\n",
       "      <td>3.2</td>\n",
       "      <td>1.3</td>\n",
       "      <td>0.2</td>\n",
       "      <td>Iris-setosa</td>\n",
       "    </tr>\n",
       "    <tr>\n",
       "      <th>3</th>\n",
       "      <td>4</td>\n",
       "      <td>4.6</td>\n",
       "      <td>3.1</td>\n",
       "      <td>1.5</td>\n",
       "      <td>0.2</td>\n",
       "      <td>Iris-setosa</td>\n",
       "    </tr>\n",
       "    <tr>\n",
       "      <th>4</th>\n",
       "      <td>5</td>\n",
       "      <td>5.0</td>\n",
       "      <td>3.6</td>\n",
       "      <td>1.4</td>\n",
       "      <td>0.2</td>\n",
       "      <td>Iris-setosa</td>\n",
       "    </tr>\n",
       "    <tr>\n",
       "      <th>5</th>\n",
       "      <td>6</td>\n",
       "      <td>5.4</td>\n",
       "      <td>3.9</td>\n",
       "      <td>1.7</td>\n",
       "      <td>0.4</td>\n",
       "      <td>Iris-setosa</td>\n",
       "    </tr>\n",
       "    <tr>\n",
       "      <th>6</th>\n",
       "      <td>7</td>\n",
       "      <td>4.6</td>\n",
       "      <td>3.4</td>\n",
       "      <td>1.4</td>\n",
       "      <td>0.3</td>\n",
       "      <td>Iris-setosa</td>\n",
       "    </tr>\n",
       "    <tr>\n",
       "      <th>7</th>\n",
       "      <td>8</td>\n",
       "      <td>5.0</td>\n",
       "      <td>3.4</td>\n",
       "      <td>1.5</td>\n",
       "      <td>0.2</td>\n",
       "      <td>Iris-setosa</td>\n",
       "    </tr>\n",
       "  </tbody>\n",
       "</table>\n",
       "</div>"
      ],
      "text/plain": [
       "   Id  SepalLengthCm  SepalWidthCm  PetalLengthCm  PetalWidthCm      Species\n",
       "0   1            5.1           3.5            1.4           0.2  Iris-setosa\n",
       "1   2            4.9           3.0            1.4           0.2  Iris-setosa\n",
       "2   3            4.7           3.2            1.3           0.2  Iris-setosa\n",
       "3   4            4.6           3.1            1.5           0.2  Iris-setosa\n",
       "4   5            5.0           3.6            1.4           0.2  Iris-setosa\n",
       "5   6            5.4           3.9            1.7           0.4  Iris-setosa\n",
       "6   7            4.6           3.4            1.4           0.3  Iris-setosa\n",
       "7   8            5.0           3.4            1.5           0.2  Iris-setosa"
      ]
     },
     "execution_count": 16,
     "metadata": {},
     "output_type": "execute_result"
    }
   ],
   "source": [
    "df.head(8)"
   ]
  },
  {
   "cell_type": "code",
   "execution_count": 17,
   "metadata": {
    "colab": {
     "base_uri": "https://localhost:8080/",
     "height": 300
    },
    "id": "U6Fx9WsEI6wQ",
    "outputId": "956d4084-7de8-4397-d48a-3490d64c6539"
   },
   "outputs": [
    {
     "data": {
      "text/html": [
       "<div>\n",
       "<style scoped>\n",
       "    .dataframe tbody tr th:only-of-type {\n",
       "        vertical-align: middle;\n",
       "    }\n",
       "\n",
       "    .dataframe tbody tr th {\n",
       "        vertical-align: top;\n",
       "    }\n",
       "\n",
       "    .dataframe thead th {\n",
       "        text-align: right;\n",
       "    }\n",
       "</style>\n",
       "<table border=\"1\" class=\"dataframe\">\n",
       "  <thead>\n",
       "    <tr style=\"text-align: right;\">\n",
       "      <th></th>\n",
       "      <th>Id</th>\n",
       "      <th>SepalLengthCm</th>\n",
       "      <th>SepalWidthCm</th>\n",
       "      <th>PetalLengthCm</th>\n",
       "      <th>PetalWidthCm</th>\n",
       "      <th>Species</th>\n",
       "    </tr>\n",
       "  </thead>\n",
       "  <tbody>\n",
       "    <tr>\n",
       "      <th>142</th>\n",
       "      <td>143</td>\n",
       "      <td>5.8</td>\n",
       "      <td>2.7</td>\n",
       "      <td>5.1</td>\n",
       "      <td>1.9</td>\n",
       "      <td>Iris-virginica</td>\n",
       "    </tr>\n",
       "    <tr>\n",
       "      <th>143</th>\n",
       "      <td>144</td>\n",
       "      <td>6.8</td>\n",
       "      <td>3.2</td>\n",
       "      <td>5.9</td>\n",
       "      <td>2.3</td>\n",
       "      <td>Iris-virginica</td>\n",
       "    </tr>\n",
       "    <tr>\n",
       "      <th>144</th>\n",
       "      <td>145</td>\n",
       "      <td>6.7</td>\n",
       "      <td>3.3</td>\n",
       "      <td>5.7</td>\n",
       "      <td>2.5</td>\n",
       "      <td>Iris-virginica</td>\n",
       "    </tr>\n",
       "    <tr>\n",
       "      <th>145</th>\n",
       "      <td>146</td>\n",
       "      <td>6.7</td>\n",
       "      <td>3.0</td>\n",
       "      <td>5.2</td>\n",
       "      <td>2.3</td>\n",
       "      <td>Iris-virginica</td>\n",
       "    </tr>\n",
       "    <tr>\n",
       "      <th>146</th>\n",
       "      <td>147</td>\n",
       "      <td>6.3</td>\n",
       "      <td>2.5</td>\n",
       "      <td>5.0</td>\n",
       "      <td>1.9</td>\n",
       "      <td>Iris-virginica</td>\n",
       "    </tr>\n",
       "    <tr>\n",
       "      <th>147</th>\n",
       "      <td>148</td>\n",
       "      <td>6.5</td>\n",
       "      <td>3.0</td>\n",
       "      <td>5.2</td>\n",
       "      <td>2.0</td>\n",
       "      <td>Iris-virginica</td>\n",
       "    </tr>\n",
       "    <tr>\n",
       "      <th>148</th>\n",
       "      <td>149</td>\n",
       "      <td>6.2</td>\n",
       "      <td>3.4</td>\n",
       "      <td>5.4</td>\n",
       "      <td>2.3</td>\n",
       "      <td>Iris-virginica</td>\n",
       "    </tr>\n",
       "    <tr>\n",
       "      <th>149</th>\n",
       "      <td>150</td>\n",
       "      <td>5.9</td>\n",
       "      <td>3.0</td>\n",
       "      <td>5.1</td>\n",
       "      <td>1.8</td>\n",
       "      <td>Iris-virginica</td>\n",
       "    </tr>\n",
       "  </tbody>\n",
       "</table>\n",
       "</div>"
      ],
      "text/plain": [
       "      Id  SepalLengthCm  SepalWidthCm  PetalLengthCm  PetalWidthCm  \\\n",
       "142  143            5.8           2.7            5.1           1.9   \n",
       "143  144            6.8           3.2            5.9           2.3   \n",
       "144  145            6.7           3.3            5.7           2.5   \n",
       "145  146            6.7           3.0            5.2           2.3   \n",
       "146  147            6.3           2.5            5.0           1.9   \n",
       "147  148            6.5           3.0            5.2           2.0   \n",
       "148  149            6.2           3.4            5.4           2.3   \n",
       "149  150            5.9           3.0            5.1           1.8   \n",
       "\n",
       "            Species  \n",
       "142  Iris-virginica  \n",
       "143  Iris-virginica  \n",
       "144  Iris-virginica  \n",
       "145  Iris-virginica  \n",
       "146  Iris-virginica  \n",
       "147  Iris-virginica  \n",
       "148  Iris-virginica  \n",
       "149  Iris-virginica  "
      ]
     },
     "execution_count": 17,
     "metadata": {},
     "output_type": "execute_result"
    }
   ],
   "source": [
    "df.tail(8)"
   ]
  },
  {
   "cell_type": "markdown",
   "metadata": {
    "id": "DR9lsqZlIv-B"
   },
   "source": [
    "##### _Toda uma coluna_"
   ]
  },
  {
   "cell_type": "code",
   "execution_count": 18,
   "metadata": {
    "colab": {
     "base_uri": "https://localhost:8080/",
     "height": 424
    },
    "id": "dL0x3R66Hdoc",
    "outputId": "b26f6fab-238d-4323-98af-223611097feb"
   },
   "outputs": [
    {
     "data": {
      "text/html": [
       "<div>\n",
       "<style scoped>\n",
       "    .dataframe tbody tr th:only-of-type {\n",
       "        vertical-align: middle;\n",
       "    }\n",
       "\n",
       "    .dataframe tbody tr th {\n",
       "        vertical-align: top;\n",
       "    }\n",
       "\n",
       "    .dataframe thead th {\n",
       "        text-align: right;\n",
       "    }\n",
       "</style>\n",
       "<table border=\"1\" class=\"dataframe\">\n",
       "  <thead>\n",
       "    <tr style=\"text-align: right;\">\n",
       "      <th></th>\n",
       "      <th>SepalLengthCm</th>\n",
       "      <th>SepalWidthCm</th>\n",
       "      <th>PetalLengthCm</th>\n",
       "      <th>PetalWidthCm</th>\n",
       "      <th>Species</th>\n",
       "    </tr>\n",
       "  </thead>\n",
       "  <tbody>\n",
       "    <tr>\n",
       "      <th>0</th>\n",
       "      <td>5.1</td>\n",
       "      <td>3.5</td>\n",
       "      <td>1.4</td>\n",
       "      <td>0.2</td>\n",
       "      <td>Iris-setosa</td>\n",
       "    </tr>\n",
       "    <tr>\n",
       "      <th>1</th>\n",
       "      <td>4.9</td>\n",
       "      <td>3.0</td>\n",
       "      <td>1.4</td>\n",
       "      <td>0.2</td>\n",
       "      <td>Iris-setosa</td>\n",
       "    </tr>\n",
       "    <tr>\n",
       "      <th>2</th>\n",
       "      <td>4.7</td>\n",
       "      <td>3.2</td>\n",
       "      <td>1.3</td>\n",
       "      <td>0.2</td>\n",
       "      <td>Iris-setosa</td>\n",
       "    </tr>\n",
       "    <tr>\n",
       "      <th>3</th>\n",
       "      <td>4.6</td>\n",
       "      <td>3.1</td>\n",
       "      <td>1.5</td>\n",
       "      <td>0.2</td>\n",
       "      <td>Iris-setosa</td>\n",
       "    </tr>\n",
       "    <tr>\n",
       "      <th>4</th>\n",
       "      <td>5.0</td>\n",
       "      <td>3.6</td>\n",
       "      <td>1.4</td>\n",
       "      <td>0.2</td>\n",
       "      <td>Iris-setosa</td>\n",
       "    </tr>\n",
       "    <tr>\n",
       "      <th>...</th>\n",
       "      <td>...</td>\n",
       "      <td>...</td>\n",
       "      <td>...</td>\n",
       "      <td>...</td>\n",
       "      <td>...</td>\n",
       "    </tr>\n",
       "    <tr>\n",
       "      <th>145</th>\n",
       "      <td>6.7</td>\n",
       "      <td>3.0</td>\n",
       "      <td>5.2</td>\n",
       "      <td>2.3</td>\n",
       "      <td>Iris-virginica</td>\n",
       "    </tr>\n",
       "    <tr>\n",
       "      <th>146</th>\n",
       "      <td>6.3</td>\n",
       "      <td>2.5</td>\n",
       "      <td>5.0</td>\n",
       "      <td>1.9</td>\n",
       "      <td>Iris-virginica</td>\n",
       "    </tr>\n",
       "    <tr>\n",
       "      <th>147</th>\n",
       "      <td>6.5</td>\n",
       "      <td>3.0</td>\n",
       "      <td>5.2</td>\n",
       "      <td>2.0</td>\n",
       "      <td>Iris-virginica</td>\n",
       "    </tr>\n",
       "    <tr>\n",
       "      <th>148</th>\n",
       "      <td>6.2</td>\n",
       "      <td>3.4</td>\n",
       "      <td>5.4</td>\n",
       "      <td>2.3</td>\n",
       "      <td>Iris-virginica</td>\n",
       "    </tr>\n",
       "    <tr>\n",
       "      <th>149</th>\n",
       "      <td>5.9</td>\n",
       "      <td>3.0</td>\n",
       "      <td>5.1</td>\n",
       "      <td>1.8</td>\n",
       "      <td>Iris-virginica</td>\n",
       "    </tr>\n",
       "  </tbody>\n",
       "</table>\n",
       "<p>150 rows × 5 columns</p>\n",
       "</div>"
      ],
      "text/plain": [
       "     SepalLengthCm  SepalWidthCm  PetalLengthCm  PetalWidthCm         Species\n",
       "0              5.1           3.5            1.4           0.2     Iris-setosa\n",
       "1              4.9           3.0            1.4           0.2     Iris-setosa\n",
       "2              4.7           3.2            1.3           0.2     Iris-setosa\n",
       "3              4.6           3.1            1.5           0.2     Iris-setosa\n",
       "4              5.0           3.6            1.4           0.2     Iris-setosa\n",
       "..             ...           ...            ...           ...             ...\n",
       "145            6.7           3.0            5.2           2.3  Iris-virginica\n",
       "146            6.3           2.5            5.0           1.9  Iris-virginica\n",
       "147            6.5           3.0            5.2           2.0  Iris-virginica\n",
       "148            6.2           3.4            5.4           2.3  Iris-virginica\n",
       "149            5.9           3.0            5.1           1.8  Iris-virginica\n",
       "\n",
       "[150 rows x 5 columns]"
      ]
     },
     "execution_count": 18,
     "metadata": {},
     "output_type": "execute_result"
    }
   ],
   "source": [
    "df.drop(columns=['Id'], inplace = True)\n",
    "df"
   ]
  },
  {
   "cell_type": "markdown",
   "metadata": {
    "id": "PckayBJ1HNUl"
   },
   "source": [
    "##### _Linhas por intervalo de valores_"
   ]
  },
  {
   "cell_type": "code",
   "execution_count": 19,
   "metadata": {
    "colab": {
     "base_uri": "https://localhost:8080/"
    },
    "id": "-hKA6rohJB6Y",
    "outputId": "bc792a04-3dfb-4328-cdb7-acf2c158812f"
   },
   "outputs": [
    {
     "data": {
      "text/plain": [
       "0       True\n",
       "1       True\n",
       "2      False\n",
       "3      False\n",
       "4       True\n",
       "       ...  \n",
       "145    False\n",
       "146    False\n",
       "147    False\n",
       "148    False\n",
       "149    False\n",
       "Name: PetalLengthCm, Length: 150, dtype: bool"
      ]
     },
     "execution_count": 19,
     "metadata": {},
     "output_type": "execute_result"
    }
   ],
   "source": [
    "filtro = df['PetalLengthCm'] == 1.4\n",
    "filtro"
   ]
  },
  {
   "cell_type": "code",
   "execution_count": 20,
   "metadata": {
    "colab": {
     "base_uri": "https://localhost:8080/",
     "height": 300
    },
    "id": "S1R9tNZlJuuf",
    "outputId": "7d64175a-7552-44d3-aea0-95f2d9d53a6f"
   },
   "outputs": [
    {
     "data": {
      "text/html": [
       "<div>\n",
       "<style scoped>\n",
       "    .dataframe tbody tr th:only-of-type {\n",
       "        vertical-align: middle;\n",
       "    }\n",
       "\n",
       "    .dataframe tbody tr th {\n",
       "        vertical-align: top;\n",
       "    }\n",
       "\n",
       "    .dataframe thead th {\n",
       "        text-align: right;\n",
       "    }\n",
       "</style>\n",
       "<table border=\"1\" class=\"dataframe\">\n",
       "  <thead>\n",
       "    <tr style=\"text-align: right;\">\n",
       "      <th></th>\n",
       "      <th>SepalLengthCm</th>\n",
       "      <th>SepalWidthCm</th>\n",
       "      <th>PetalLengthCm</th>\n",
       "      <th>PetalWidthCm</th>\n",
       "      <th>Species</th>\n",
       "    </tr>\n",
       "  </thead>\n",
       "  <tbody>\n",
       "    <tr>\n",
       "      <th>0</th>\n",
       "      <td>5.1</td>\n",
       "      <td>3.5</td>\n",
       "      <td>1.4</td>\n",
       "      <td>0.2</td>\n",
       "      <td>Iris-setosa</td>\n",
       "    </tr>\n",
       "    <tr>\n",
       "      <th>1</th>\n",
       "      <td>4.9</td>\n",
       "      <td>3.0</td>\n",
       "      <td>1.4</td>\n",
       "      <td>0.2</td>\n",
       "      <td>Iris-setosa</td>\n",
       "    </tr>\n",
       "    <tr>\n",
       "      <th>4</th>\n",
       "      <td>5.0</td>\n",
       "      <td>3.6</td>\n",
       "      <td>1.4</td>\n",
       "      <td>0.2</td>\n",
       "      <td>Iris-setosa</td>\n",
       "    </tr>\n",
       "    <tr>\n",
       "      <th>6</th>\n",
       "      <td>4.6</td>\n",
       "      <td>3.4</td>\n",
       "      <td>1.4</td>\n",
       "      <td>0.3</td>\n",
       "      <td>Iris-setosa</td>\n",
       "    </tr>\n",
       "    <tr>\n",
       "      <th>8</th>\n",
       "      <td>4.4</td>\n",
       "      <td>2.9</td>\n",
       "      <td>1.4</td>\n",
       "      <td>0.2</td>\n",
       "      <td>Iris-setosa</td>\n",
       "    </tr>\n",
       "    <tr>\n",
       "      <th>12</th>\n",
       "      <td>4.8</td>\n",
       "      <td>3.0</td>\n",
       "      <td>1.4</td>\n",
       "      <td>0.1</td>\n",
       "      <td>Iris-setosa</td>\n",
       "    </tr>\n",
       "    <tr>\n",
       "      <th>17</th>\n",
       "      <td>5.1</td>\n",
       "      <td>3.5</td>\n",
       "      <td>1.4</td>\n",
       "      <td>0.3</td>\n",
       "      <td>Iris-setosa</td>\n",
       "    </tr>\n",
       "    <tr>\n",
       "      <th>28</th>\n",
       "      <td>5.2</td>\n",
       "      <td>3.4</td>\n",
       "      <td>1.4</td>\n",
       "      <td>0.2</td>\n",
       "      <td>Iris-setosa</td>\n",
       "    </tr>\n",
       "  </tbody>\n",
       "</table>\n",
       "</div>"
      ],
      "text/plain": [
       "    SepalLengthCm  SepalWidthCm  PetalLengthCm  PetalWidthCm      Species\n",
       "0             5.1           3.5            1.4           0.2  Iris-setosa\n",
       "1             4.9           3.0            1.4           0.2  Iris-setosa\n",
       "4             5.0           3.6            1.4           0.2  Iris-setosa\n",
       "6             4.6           3.4            1.4           0.3  Iris-setosa\n",
       "8             4.4           2.9            1.4           0.2  Iris-setosa\n",
       "12            4.8           3.0            1.4           0.1  Iris-setosa\n",
       "17            5.1           3.5            1.4           0.3  Iris-setosa\n",
       "28            5.2           3.4            1.4           0.2  Iris-setosa"
      ]
     },
     "execution_count": 20,
     "metadata": {},
     "output_type": "execute_result"
    }
   ],
   "source": [
    "dfFiltrado = df[filtro]\n",
    "dfFiltrado.head(8)"
   ]
  },
  {
   "cell_type": "code",
   "execution_count": 21,
   "metadata": {
    "colab": {
     "base_uri": "https://localhost:8080/",
     "height": 300
    },
    "id": "5ASw8G-sJ9RF",
    "outputId": "775cd703-5140-426d-b488-9ddff2cf8d65"
   },
   "outputs": [
    {
     "data": {
      "text/html": [
       "<div>\n",
       "<style scoped>\n",
       "    .dataframe tbody tr th:only-of-type {\n",
       "        vertical-align: middle;\n",
       "    }\n",
       "\n",
       "    .dataframe tbody tr th {\n",
       "        vertical-align: top;\n",
       "    }\n",
       "\n",
       "    .dataframe thead th {\n",
       "        text-align: right;\n",
       "    }\n",
       "</style>\n",
       "<table border=\"1\" class=\"dataframe\">\n",
       "  <thead>\n",
       "    <tr style=\"text-align: right;\">\n",
       "      <th></th>\n",
       "      <th>SepalLengthCm</th>\n",
       "      <th>SepalWidthCm</th>\n",
       "      <th>PetalLengthCm</th>\n",
       "      <th>PetalWidthCm</th>\n",
       "      <th>Species</th>\n",
       "    </tr>\n",
       "  </thead>\n",
       "  <tbody>\n",
       "    <tr>\n",
       "      <th>2</th>\n",
       "      <td>4.7</td>\n",
       "      <td>3.2</td>\n",
       "      <td>1.3</td>\n",
       "      <td>0.2</td>\n",
       "      <td>Iris-setosa</td>\n",
       "    </tr>\n",
       "    <tr>\n",
       "      <th>3</th>\n",
       "      <td>4.6</td>\n",
       "      <td>3.1</td>\n",
       "      <td>1.5</td>\n",
       "      <td>0.2</td>\n",
       "      <td>Iris-setosa</td>\n",
       "    </tr>\n",
       "    <tr>\n",
       "      <th>5</th>\n",
       "      <td>5.4</td>\n",
       "      <td>3.9</td>\n",
       "      <td>1.7</td>\n",
       "      <td>0.4</td>\n",
       "      <td>Iris-setosa</td>\n",
       "    </tr>\n",
       "    <tr>\n",
       "      <th>7</th>\n",
       "      <td>5.0</td>\n",
       "      <td>3.4</td>\n",
       "      <td>1.5</td>\n",
       "      <td>0.2</td>\n",
       "      <td>Iris-setosa</td>\n",
       "    </tr>\n",
       "    <tr>\n",
       "      <th>9</th>\n",
       "      <td>4.9</td>\n",
       "      <td>3.1</td>\n",
       "      <td>1.5</td>\n",
       "      <td>0.1</td>\n",
       "      <td>Iris-setosa</td>\n",
       "    </tr>\n",
       "    <tr>\n",
       "      <th>10</th>\n",
       "      <td>5.4</td>\n",
       "      <td>3.7</td>\n",
       "      <td>1.5</td>\n",
       "      <td>0.2</td>\n",
       "      <td>Iris-setosa</td>\n",
       "    </tr>\n",
       "    <tr>\n",
       "      <th>11</th>\n",
       "      <td>4.8</td>\n",
       "      <td>3.4</td>\n",
       "      <td>1.6</td>\n",
       "      <td>0.2</td>\n",
       "      <td>Iris-setosa</td>\n",
       "    </tr>\n",
       "    <tr>\n",
       "      <th>13</th>\n",
       "      <td>4.3</td>\n",
       "      <td>3.0</td>\n",
       "      <td>1.1</td>\n",
       "      <td>0.1</td>\n",
       "      <td>Iris-setosa</td>\n",
       "    </tr>\n",
       "  </tbody>\n",
       "</table>\n",
       "</div>"
      ],
      "text/plain": [
       "    SepalLengthCm  SepalWidthCm  PetalLengthCm  PetalWidthCm      Species\n",
       "2             4.7           3.2            1.3           0.2  Iris-setosa\n",
       "3             4.6           3.1            1.5           0.2  Iris-setosa\n",
       "5             5.4           3.9            1.7           0.4  Iris-setosa\n",
       "7             5.0           3.4            1.5           0.2  Iris-setosa\n",
       "9             4.9           3.1            1.5           0.1  Iris-setosa\n",
       "10            5.4           3.7            1.5           0.2  Iris-setosa\n",
       "11            4.8           3.4            1.6           0.2  Iris-setosa\n",
       "13            4.3           3.0            1.1           0.1  Iris-setosa"
      ]
     },
     "execution_count": 21,
     "metadata": {},
     "output_type": "execute_result"
    }
   ],
   "source": [
    "filtro = df['PetalLengthCm'] != 1.4\n",
    "dfFiltrado = df[filtro]\n",
    "dfFiltrado.head(8)"
   ]
  },
  {
   "cell_type": "markdown",
   "metadata": {
    "id": "tw06_gz6KUPd"
   },
   "source": [
    "##### _Criação de novos valores com base na coluna_"
   ]
  },
  {
   "cell_type": "code",
   "execution_count": 22,
   "metadata": {
    "colab": {
     "base_uri": "https://localhost:8080/",
     "height": 424
    },
    "id": "hm1GKamRKRNU",
    "outputId": "a8be67c3-8b9d-422d-b022-8c0f585fed49"
   },
   "outputs": [
    {
     "data": {
      "text/html": [
       "<div>\n",
       "<style scoped>\n",
       "    .dataframe tbody tr th:only-of-type {\n",
       "        vertical-align: middle;\n",
       "    }\n",
       "\n",
       "    .dataframe tbody tr th {\n",
       "        vertical-align: top;\n",
       "    }\n",
       "\n",
       "    .dataframe thead th {\n",
       "        text-align: right;\n",
       "    }\n",
       "</style>\n",
       "<table border=\"1\" class=\"dataframe\">\n",
       "  <thead>\n",
       "    <tr style=\"text-align: right;\">\n",
       "      <th></th>\n",
       "      <th>SepalLengthCm</th>\n",
       "      <th>SepalWidthCm</th>\n",
       "      <th>PetalLengthCm</th>\n",
       "      <th>PetalWidthCm</th>\n",
       "      <th>Species</th>\n",
       "      <th>Mean-Length-SEP-PET</th>\n",
       "    </tr>\n",
       "  </thead>\n",
       "  <tbody>\n",
       "    <tr>\n",
       "      <th>0</th>\n",
       "      <td>5.1</td>\n",
       "      <td>3.5</td>\n",
       "      <td>1.4</td>\n",
       "      <td>0.2</td>\n",
       "      <td>Iris-setosa</td>\n",
       "      <td>6.5</td>\n",
       "    </tr>\n",
       "    <tr>\n",
       "      <th>1</th>\n",
       "      <td>4.9</td>\n",
       "      <td>3.0</td>\n",
       "      <td>1.4</td>\n",
       "      <td>0.2</td>\n",
       "      <td>Iris-setosa</td>\n",
       "      <td>6.3</td>\n",
       "    </tr>\n",
       "    <tr>\n",
       "      <th>2</th>\n",
       "      <td>4.7</td>\n",
       "      <td>3.2</td>\n",
       "      <td>1.3</td>\n",
       "      <td>0.2</td>\n",
       "      <td>Iris-setosa</td>\n",
       "      <td>6.0</td>\n",
       "    </tr>\n",
       "    <tr>\n",
       "      <th>3</th>\n",
       "      <td>4.6</td>\n",
       "      <td>3.1</td>\n",
       "      <td>1.5</td>\n",
       "      <td>0.2</td>\n",
       "      <td>Iris-setosa</td>\n",
       "      <td>6.1</td>\n",
       "    </tr>\n",
       "    <tr>\n",
       "      <th>4</th>\n",
       "      <td>5.0</td>\n",
       "      <td>3.6</td>\n",
       "      <td>1.4</td>\n",
       "      <td>0.2</td>\n",
       "      <td>Iris-setosa</td>\n",
       "      <td>6.4</td>\n",
       "    </tr>\n",
       "    <tr>\n",
       "      <th>...</th>\n",
       "      <td>...</td>\n",
       "      <td>...</td>\n",
       "      <td>...</td>\n",
       "      <td>...</td>\n",
       "      <td>...</td>\n",
       "      <td>...</td>\n",
       "    </tr>\n",
       "    <tr>\n",
       "      <th>145</th>\n",
       "      <td>6.7</td>\n",
       "      <td>3.0</td>\n",
       "      <td>5.2</td>\n",
       "      <td>2.3</td>\n",
       "      <td>Iris-virginica</td>\n",
       "      <td>11.9</td>\n",
       "    </tr>\n",
       "    <tr>\n",
       "      <th>146</th>\n",
       "      <td>6.3</td>\n",
       "      <td>2.5</td>\n",
       "      <td>5.0</td>\n",
       "      <td>1.9</td>\n",
       "      <td>Iris-virginica</td>\n",
       "      <td>11.3</td>\n",
       "    </tr>\n",
       "    <tr>\n",
       "      <th>147</th>\n",
       "      <td>6.5</td>\n",
       "      <td>3.0</td>\n",
       "      <td>5.2</td>\n",
       "      <td>2.0</td>\n",
       "      <td>Iris-virginica</td>\n",
       "      <td>11.7</td>\n",
       "    </tr>\n",
       "    <tr>\n",
       "      <th>148</th>\n",
       "      <td>6.2</td>\n",
       "      <td>3.4</td>\n",
       "      <td>5.4</td>\n",
       "      <td>2.3</td>\n",
       "      <td>Iris-virginica</td>\n",
       "      <td>11.6</td>\n",
       "    </tr>\n",
       "    <tr>\n",
       "      <th>149</th>\n",
       "      <td>5.9</td>\n",
       "      <td>3.0</td>\n",
       "      <td>5.1</td>\n",
       "      <td>1.8</td>\n",
       "      <td>Iris-virginica</td>\n",
       "      <td>11.0</td>\n",
       "    </tr>\n",
       "  </tbody>\n",
       "</table>\n",
       "<p>150 rows × 6 columns</p>\n",
       "</div>"
      ],
      "text/plain": [
       "     SepalLengthCm  SepalWidthCm  PetalLengthCm  PetalWidthCm         Species  \\\n",
       "0              5.1           3.5            1.4           0.2     Iris-setosa   \n",
       "1              4.9           3.0            1.4           0.2     Iris-setosa   \n",
       "2              4.7           3.2            1.3           0.2     Iris-setosa   \n",
       "3              4.6           3.1            1.5           0.2     Iris-setosa   \n",
       "4              5.0           3.6            1.4           0.2     Iris-setosa   \n",
       "..             ...           ...            ...           ...             ...   \n",
       "145            6.7           3.0            5.2           2.3  Iris-virginica   \n",
       "146            6.3           2.5            5.0           1.9  Iris-virginica   \n",
       "147            6.5           3.0            5.2           2.0  Iris-virginica   \n",
       "148            6.2           3.4            5.4           2.3  Iris-virginica   \n",
       "149            5.9           3.0            5.1           1.8  Iris-virginica   \n",
       "\n",
       "     Mean-Length-SEP-PET  \n",
       "0                    6.5  \n",
       "1                    6.3  \n",
       "2                    6.0  \n",
       "3                    6.1  \n",
       "4                    6.4  \n",
       "..                   ...  \n",
       "145                 11.9  \n",
       "146                 11.3  \n",
       "147                 11.7  \n",
       "148                 11.6  \n",
       "149                 11.0  \n",
       "\n",
       "[150 rows x 6 columns]"
      ]
     },
     "execution_count": 22,
     "metadata": {},
     "output_type": "execute_result"
    }
   ],
   "source": [
    "df['Mean-Length-SEP-PET'] = df['PetalLengthCm'] + df['SepalLengthCm']\n",
    "df"
   ]
  },
  {
   "cell_type": "markdown",
   "metadata": {
    "id": "nRorLXzAK-wS"
   },
   "source": [
    "##### _Removendo duplicatas_\n",
    "\n",
    "Vamos aprender a usar o método `.drop_duplicates`, porém vamos entender como fucniona o argumento `keep`."
   ]
  },
  {
   "cell_type": "code",
   "execution_count": 23,
   "metadata": {
    "colab": {
     "base_uri": "https://localhost:8080/"
    },
    "id": "uY41UmrqLei0",
    "outputId": "826bb7ef-21fe-4257-be7d-aa39d7ed7528"
   },
   "outputs": [
    {
     "name": "stdout",
     "output_type": "stream",
     "text": [
      "DataFrame original:\n",
      "   id dados\n",
      "0  10     A\n",
      "1  20     B\n",
      "2  30     A\n",
      "3  40     C\n",
      "4  50     B\n",
      "\n",
      "DataFrame após tentativa de eliminar duplicatas:\n",
      "   id dados\n",
      "0  10     A\n",
      "1  20     B\n",
      "2  30     A\n",
      "3  40     C\n",
      "4  50     B\n"
     ]
    }
   ],
   "source": [
    "data = {'id': [10, 20, 30, 40, 50], 'dados': ['A', 'B', 'A', 'C', 'B']}\n",
    "df = pd.DataFrame(data)\n",
    "\n",
    "print(\"DataFrame original:\")\n",
    "print(df)\n",
    "\n",
    "# Aplicando drop_duplicates com keep='first'\n",
    "dfFiltrado = df.drop_duplicates(keep = 'first', inplace = False)\n",
    "\n",
    "print(\"\\nDataFrame após tentativa de eliminar duplicatas:\")\n",
    "print(dfFiltrado)"
   ]
  },
  {
   "cell_type": "code",
   "execution_count": 24,
   "metadata": {
    "colab": {
     "base_uri": "https://localhost:8080/"
    },
    "id": "jl3n5899MKkw",
    "outputId": "b74611ff-7e96-4563-ed1c-16d2849df364"
   },
   "outputs": [
    {
     "name": "stdout",
     "output_type": "stream",
     "text": [
      "DataFrame original:\n",
      "   id dados\n",
      "0  10     A\n",
      "1  20     B\n",
      "2  10     A\n",
      "3  40     C\n",
      "4  50     B\n",
      "\n",
      "DataFrame após eliminar duplicatas mantendo a primeira:\n",
      "   id dados\n",
      "0  10     A\n",
      "1  20     B\n",
      "3  40     C\n",
      "4  50     B\n"
     ]
    }
   ],
   "source": [
    "data = {'id': [10, 20, 10, 40, 50], 'dados': ['A', 'B', 'A', 'C', 'B']}\n",
    "df = pd.DataFrame(data)\n",
    "\n",
    "print(\"DataFrame original:\")\n",
    "print(df)\n",
    "\n",
    "# Aplicando drop_duplicates com keep='first'\n",
    "dfFiltrado = df.drop_duplicates(keep = 'first', inplace = False)\n",
    "\n",
    "print(\"\\nDataFrame após eliminar duplicatas mantendo a primeira:\")\n",
    "print(dfFiltrado)"
   ]
  },
  {
   "cell_type": "code",
   "execution_count": 25,
   "metadata": {
    "colab": {
     "base_uri": "https://localhost:8080/"
    },
    "id": "sHr_-ztqMR7X",
    "outputId": "d8926ce1-9194-46a0-adf3-06e4e0c7d93b"
   },
   "outputs": [
    {
     "name": "stdout",
     "output_type": "stream",
     "text": [
      "DataFrame original:\n",
      "   id dados\n",
      "0  10     A\n",
      "1  20     B\n",
      "2  10     A\n",
      "3  40     C\n",
      "4  50     B\n",
      "\n",
      "DataFrame após eliminar duplicatas mantendo a última:\n",
      "   id dados\n",
      "1  20     B\n",
      "2  10     A\n",
      "3  40     C\n",
      "4  50     B\n"
     ]
    }
   ],
   "source": [
    "data = {'id': [10, 20, 10, 40, 50], 'dados': ['A', 'B', 'A', 'C', 'B']}\n",
    "df = pd.DataFrame(data)\n",
    "\n",
    "print(\"DataFrame original:\")\n",
    "print(df)\n",
    "\n",
    "# Aplicando drop_duplicates com keep='first'\n",
    "dfFiltrado = df.drop_duplicates(keep = 'last', inplace = False)\n",
    "\n",
    "print(\"\\nDataFrame após eliminar duplicatas mantendo a última:\")\n",
    "print(dfFiltrado)"
   ]
  },
  {
   "cell_type": "code",
   "execution_count": 26,
   "metadata": {
    "colab": {
     "base_uri": "https://localhost:8080/"
    },
    "id": "-EAI-9WAMa0R",
    "outputId": "d9ec0040-7885-46b1-de34-011827826ac7"
   },
   "outputs": [
    {
     "name": "stdout",
     "output_type": "stream",
     "text": [
      "DataFrame original:\n",
      "   id dados\n",
      "0  10     A\n",
      "1  20     B\n",
      "2  10     A\n",
      "3  40     C\n",
      "4  50     B\n",
      "\n",
      "DataFrame após eliminar todas as duplicatas:\n",
      "   id dados\n",
      "1  20     B\n",
      "3  40     C\n",
      "4  50     B\n"
     ]
    }
   ],
   "source": [
    "data = {'id': [10, 20, 10, 40, 50], 'dados': ['A', 'B', 'A', 'C', 'B']}\n",
    "df = pd.DataFrame(data)\n",
    "\n",
    "print(\"DataFrame original:\")\n",
    "print(df)\n",
    "\n",
    "# Aplicando drop_duplicates com keep='first'\n",
    "dfFiltrado = df.drop_duplicates(keep = False, inplace = False)\n",
    "\n",
    "print(\"\\nDataFrame após eliminar todas as duplicatas:\")\n",
    "print(dfFiltrado)"
   ]
  },
  {
   "cell_type": "markdown",
   "metadata": {
    "id": "KxpuLUhGNEtt"
   },
   "source": [
    "##### _Removendo valores faltantes_"
   ]
  },
  {
   "cell_type": "code",
   "execution_count": 27,
   "metadata": {
    "colab": {
     "base_uri": "https://localhost:8080/",
     "height": 206
    },
    "id": "EnNyr5PKMj53",
    "outputId": "05db0957-0084-488f-f9ec-70633742112e"
   },
   "outputs": [
    {
     "data": {
      "text/html": [
       "<div>\n",
       "<style scoped>\n",
       "    .dataframe tbody tr th:only-of-type {\n",
       "        vertical-align: middle;\n",
       "    }\n",
       "\n",
       "    .dataframe tbody tr th {\n",
       "        vertical-align: top;\n",
       "    }\n",
       "\n",
       "    .dataframe thead th {\n",
       "        text-align: right;\n",
       "    }\n",
       "</style>\n",
       "<table border=\"1\" class=\"dataframe\">\n",
       "  <thead>\n",
       "    <tr style=\"text-align: right;\">\n",
       "      <th></th>\n",
       "      <th>Hora</th>\n",
       "      <th>Cidade</th>\n",
       "      <th>Temperatura (°C)</th>\n",
       "      <th>Velocidade do Ar (km/h)</th>\n",
       "      <th>Umidade (%)</th>\n",
       "    </tr>\n",
       "  </thead>\n",
       "  <tbody>\n",
       "    <tr>\n",
       "      <th>0</th>\n",
       "      <td>10:00</td>\n",
       "      <td>Cidade B</td>\n",
       "      <td>16.375347</td>\n",
       "      <td>2.268453</td>\n",
       "      <td>22.283576</td>\n",
       "    </tr>\n",
       "    <tr>\n",
       "      <th>1</th>\n",
       "      <td>02:00</td>\n",
       "      <td>Cidade B</td>\n",
       "      <td>NaN</td>\n",
       "      <td>8.818563</td>\n",
       "      <td>67.273964</td>\n",
       "    </tr>\n",
       "    <tr>\n",
       "      <th>2</th>\n",
       "      <td>17:00</td>\n",
       "      <td>Cidade B</td>\n",
       "      <td>28.611552</td>\n",
       "      <td>0.534045</td>\n",
       "      <td>48.857281</td>\n",
       "    </tr>\n",
       "    <tr>\n",
       "      <th>3</th>\n",
       "      <td>21:00</td>\n",
       "      <td>Cidade E</td>\n",
       "      <td>NaN</td>\n",
       "      <td>1.575097</td>\n",
       "      <td>66.773038</td>\n",
       "    </tr>\n",
       "    <tr>\n",
       "      <th>4</th>\n",
       "      <td>15:00</td>\n",
       "      <td>Cidade E</td>\n",
       "      <td>28.425491</td>\n",
       "      <td>6.597055</td>\n",
       "      <td>29.360359</td>\n",
       "    </tr>\n",
       "  </tbody>\n",
       "</table>\n",
       "</div>"
      ],
      "text/plain": [
       "    Hora    Cidade  Temperatura (°C)  Velocidade do Ar (km/h)  Umidade (%)\n",
       "0  10:00  Cidade B         16.375347                 2.268453    22.283576\n",
       "1  02:00  Cidade B               NaN                 8.818563    67.273964\n",
       "2  17:00  Cidade B         28.611552                 0.534045    48.857281\n",
       "3  21:00  Cidade E               NaN                 1.575097    66.773038\n",
       "4  15:00  Cidade E         28.425491                 6.597055    29.360359"
      ]
     },
     "execution_count": 27,
     "metadata": {},
     "output_type": "execute_result"
    }
   ],
   "source": [
    "# Gere dados fictícios\n",
    "horas = [f\"{i:02d}:00\" for i in range(1, 25)]\n",
    "cidades = ['Cidade A', 'Cidade B', 'Cidade C', 'Cidade D', 'Cidade E']\n",
    "temperaturas = [random.uniform(10, 30) if random.random() > 0.2 else None for _ in range(1000)]\n",
    "velocidade_ar = [random.uniform(0, 10) if random.random() > 0.3 else None for _ in range(1000)]\n",
    "umidade = [random.uniform(20, 80) if random.random() > 0.1 else None for _ in range(1000)]\n",
    "\n",
    "# Crie o DataFrame\n",
    "data = {\n",
    "    'Hora': random.choices(horas, k=1000),\n",
    "    'Cidade': random.choices(cidades, k=1000),\n",
    "    'Temperatura (°C)': temperaturas,\n",
    "    'Velocidade do Ar (km/h)': velocidade_ar,\n",
    "    'Umidade (%)': umidade\n",
    "}\n",
    "\n",
    "df = pd.DataFrame(data)\n",
    "\n",
    "# Visualize as primeiras linhas do DataFrame\n",
    "df.head()"
   ]
  },
  {
   "cell_type": "code",
   "execution_count": 28,
   "metadata": {
    "colab": {
     "base_uri": "https://localhost:8080/"
    },
    "id": "j-FOeM7bRZUE",
    "outputId": "7ee9758f-f31f-4f92-e1fe-6e096341c1cc"
   },
   "outputs": [
    {
     "data": {
      "text/plain": [
       "Hora                       False\n",
       "Cidade                     False\n",
       "Temperatura (°C)            True\n",
       "Velocidade do Ar (km/h)     True\n",
       "Umidade (%)                 True\n",
       "dtype: bool"
      ]
     },
     "execution_count": 28,
     "metadata": {},
     "output_type": "execute_result"
    }
   ],
   "source": [
    "df.isnull().any()"
   ]
  },
  {
   "cell_type": "code",
   "execution_count": 29,
   "metadata": {
    "colab": {
     "base_uri": "https://localhost:8080/"
    },
    "id": "2yDuLy8hOjEc",
    "outputId": "d8d5d81b-89a9-4d8e-f1e7-f06339248c9c"
   },
   "outputs": [
    {
     "name": "stdout",
     "output_type": "stream",
     "text": [
      "<class 'pandas.core.frame.DataFrame'>\n",
      "RangeIndex: 1000 entries, 0 to 999\n",
      "Data columns (total 5 columns):\n",
      " #   Column                   Non-Null Count  Dtype  \n",
      "---  ------                   --------------  -----  \n",
      " 0   Hora                     1000 non-null   object \n",
      " 1   Cidade                   1000 non-null   object \n",
      " 2   Temperatura (°C)         772 non-null    float64\n",
      " 3   Velocidade do Ar (km/h)  679 non-null    float64\n",
      " 4   Umidade (%)              891 non-null    float64\n",
      "dtypes: float64(3), object(2)\n",
      "memory usage: 39.2+ KB\n"
     ]
    }
   ],
   "source": [
    "df.info()"
   ]
  },
  {
   "cell_type": "code",
   "execution_count": 30,
   "metadata": {
    "colab": {
     "base_uri": "https://localhost:8080/"
    },
    "id": "JqmpM5i5OC2j",
    "outputId": "60544694-88f6-46ae-9c3e-6278a5f1aeb0"
   },
   "outputs": [
    {
     "data": {
      "text/plain": [
       "Hora                         0\n",
       "Cidade                       0\n",
       "Temperatura (°C)           228\n",
       "Velocidade do Ar (km/h)    321\n",
       "Umidade (%)                109\n",
       "dtype: int64"
      ]
     },
     "execution_count": 30,
     "metadata": {},
     "output_type": "execute_result"
    }
   ],
   "source": [
    "contagemNan = df.isnull().sum()\n",
    "contagemNan"
   ]
  },
  {
   "cell_type": "code",
   "execution_count": 31,
   "metadata": {
    "colab": {
     "base_uri": "https://localhost:8080/"
    },
    "id": "jCXaWzE1O4ai",
    "outputId": "820ff5b7-d016-4bfa-cf59-c82e325ef2fe"
   },
   "outputs": [
    {
     "data": {
      "text/plain": [
       "1000"
      ]
     },
     "execution_count": 31,
     "metadata": {},
     "output_type": "execute_result"
    }
   ],
   "source": [
    "nL, _ = df.shape\n",
    "nL"
   ]
  },
  {
   "cell_type": "code",
   "execution_count": 32,
   "metadata": {
    "colab": {
     "base_uri": "https://localhost:8080/"
    },
    "id": "R8w0kiObOoFZ",
    "outputId": "646936b8-9062-43aa-f3e5-33a561e5924e"
   },
   "outputs": [
    {
     "name": "stdout",
     "output_type": "stream",
     "text": [
      "22.8\n"
     ]
    }
   ],
   "source": [
    "# Em relação a temperatura\n",
    "percentualFaltante = (contagemNan['Temperatura (°C)'] / nL) * 100\n",
    "print(percentualFaltante)"
   ]
  },
  {
   "cell_type": "code",
   "execution_count": 33,
   "metadata": {
    "colab": {
     "base_uri": "https://localhost:8080/"
    },
    "id": "YHtZOObUPWv4",
    "outputId": "7ba4f748-0978-4d99-8080-4baf766ee62f"
   },
   "outputs": [
    {
     "name": "stdout",
     "output_type": "stream",
     "text": [
      "32.1\n"
     ]
    }
   ],
   "source": [
    "# Em relação a velocidade do ar\n",
    "percentualFaltante = (contagemNan['Velocidade do Ar (km/h)'] / nL) * 100\n",
    "print(percentualFaltante)"
   ]
  },
  {
   "cell_type": "code",
   "execution_count": 34,
   "metadata": {
    "colab": {
     "base_uri": "https://localhost:8080/"
    },
    "id": "mMYlPYwXPkbP",
    "outputId": "7626c87f-481f-45d7-9d2f-bb7e802d3f30"
   },
   "outputs": [
    {
     "name": "stdout",
     "output_type": "stream",
     "text": [
      "<class 'pandas.core.frame.DataFrame'>\n",
      "RangeIndex: 1000 entries, 0 to 999\n",
      "Data columns (total 2 columns):\n",
      " #   Column  Non-Null Count  Dtype \n",
      "---  ------  --------------  ----- \n",
      " 0   Hora    1000 non-null   object\n",
      " 1   Cidade  1000 non-null   object\n",
      "dtypes: object(2)\n",
      "memory usage: 15.8+ KB\n"
     ]
    }
   ],
   "source": [
    "# CUIDADO!!!!!\n",
    "df.dropna(axis = 1, inplace = True)\n",
    "df.info()"
   ]
  },
  {
   "cell_type": "code",
   "execution_count": 35,
   "metadata": {
    "colab": {
     "base_uri": "https://localhost:8080/"
    },
    "id": "iqFQ3LlVQDgG",
    "outputId": "3b8dc2c2-f6c5-4812-b690-87278eb381d3"
   },
   "outputs": [
    {
     "name": "stdout",
     "output_type": "stream",
     "text": [
      "<class 'pandas.core.frame.DataFrame'>\n",
      "RangeIndex: 1000 entries, 0 to 999\n",
      "Data columns (total 2 columns):\n",
      " #   Column  Non-Null Count  Dtype \n",
      "---  ------  --------------  ----- \n",
      " 0   Hora    1000 non-null   object\n",
      " 1   Cidade  1000 non-null   object\n",
      "dtypes: object(2)\n",
      "memory usage: 15.8+ KB\n"
     ]
    }
   ],
   "source": [
    "df.dropna(axis = 0, inplace = True)\n",
    "df.info()"
   ]
  },
  {
   "cell_type": "markdown",
   "metadata": {
    "id": "RQ3Q2jo9QgT0"
   },
   "source": [
    "##### _Preenchendo valores faltantes_"
   ]
  },
  {
   "cell_type": "code",
   "execution_count": 36,
   "metadata": {
    "colab": {
     "base_uri": "https://localhost:8080/",
     "height": 206
    },
    "id": "JrerFR22Qf0N",
    "outputId": "4e63cdf9-f9fc-4f08-9230-a01405467d01"
   },
   "outputs": [
    {
     "data": {
      "text/html": [
       "<div>\n",
       "<style scoped>\n",
       "    .dataframe tbody tr th:only-of-type {\n",
       "        vertical-align: middle;\n",
       "    }\n",
       "\n",
       "    .dataframe tbody tr th {\n",
       "        vertical-align: top;\n",
       "    }\n",
       "\n",
       "    .dataframe thead th {\n",
       "        text-align: right;\n",
       "    }\n",
       "</style>\n",
       "<table border=\"1\" class=\"dataframe\">\n",
       "  <thead>\n",
       "    <tr style=\"text-align: right;\">\n",
       "      <th></th>\n",
       "      <th>Hora</th>\n",
       "      <th>Cidade</th>\n",
       "      <th>Temperatura (°C)</th>\n",
       "      <th>Velocidade do Ar (km/h)</th>\n",
       "      <th>Umidade (%)</th>\n",
       "    </tr>\n",
       "  </thead>\n",
       "  <tbody>\n",
       "    <tr>\n",
       "      <th>0</th>\n",
       "      <td>18:00</td>\n",
       "      <td>Cidade A</td>\n",
       "      <td>23.392156</td>\n",
       "      <td>3.048859</td>\n",
       "      <td>38.699434</td>\n",
       "    </tr>\n",
       "    <tr>\n",
       "      <th>1</th>\n",
       "      <td>01:00</td>\n",
       "      <td>Cidade D</td>\n",
       "      <td>20.464766</td>\n",
       "      <td>NaN</td>\n",
       "      <td>40.587696</td>\n",
       "    </tr>\n",
       "    <tr>\n",
       "      <th>2</th>\n",
       "      <td>01:00</td>\n",
       "      <td>Cidade A</td>\n",
       "      <td>16.366001</td>\n",
       "      <td>9.441361</td>\n",
       "      <td>70.975744</td>\n",
       "    </tr>\n",
       "    <tr>\n",
       "      <th>3</th>\n",
       "      <td>20:00</td>\n",
       "      <td>Cidade E</td>\n",
       "      <td>NaN</td>\n",
       "      <td>1.834213</td>\n",
       "      <td>31.829436</td>\n",
       "    </tr>\n",
       "    <tr>\n",
       "      <th>4</th>\n",
       "      <td>22:00</td>\n",
       "      <td>Cidade C</td>\n",
       "      <td>23.075920</td>\n",
       "      <td>6.215373</td>\n",
       "      <td>43.538649</td>\n",
       "    </tr>\n",
       "  </tbody>\n",
       "</table>\n",
       "</div>"
      ],
      "text/plain": [
       "    Hora    Cidade  Temperatura (°C)  Velocidade do Ar (km/h)  Umidade (%)\n",
       "0  18:00  Cidade A         23.392156                 3.048859    38.699434\n",
       "1  01:00  Cidade D         20.464766                      NaN    40.587696\n",
       "2  01:00  Cidade A         16.366001                 9.441361    70.975744\n",
       "3  20:00  Cidade E               NaN                 1.834213    31.829436\n",
       "4  22:00  Cidade C         23.075920                 6.215373    43.538649"
      ]
     },
     "execution_count": 36,
     "metadata": {},
     "output_type": "execute_result"
    }
   ],
   "source": [
    "# Gere dados fictícios\n",
    "horas = [f\"{i:02d}:00\" for i in range(1, 25)]\n",
    "cidades = ['Cidade A', 'Cidade B', 'Cidade C', 'Cidade D', 'Cidade E']\n",
    "temperaturas = [random.uniform(10, 30) if random.random() > 0.2 else None for _ in range(1000)]\n",
    "velocidade_ar = [random.uniform(0, 10) if random.random() > 0.3 else None for _ in range(1000)]\n",
    "umidade = [random.uniform(20, 80) if random.random() > 0.1 else None for _ in range(1000)]\n",
    "\n",
    "# Crie o DataFrame\n",
    "data = {\n",
    "    'Hora': random.choices(horas, k=1000),\n",
    "    'Cidade': random.choices(cidades, k=1000),\n",
    "    'Temperatura (°C)': temperaturas,\n",
    "    'Velocidade do Ar (km/h)': velocidade_ar,\n",
    "    'Umidade (%)': umidade\n",
    "}\n",
    "\n",
    "df = pd.DataFrame(data)\n",
    "\n",
    "# Visualize as primeiras linhas do DataFrame\n",
    "df.head()"
   ]
  },
  {
   "cell_type": "code",
   "execution_count": 37,
   "metadata": {
    "colab": {
     "base_uri": "https://localhost:8080/"
    },
    "id": "8HMmSrdwSyC2",
    "outputId": "de19ff82-9730-4a4f-dab7-42329eec8b05"
   },
   "outputs": [
    {
     "name": "stdout",
     "output_type": "stream",
     "text": [
      "<class 'pandas.core.frame.DataFrame'>\n",
      "RangeIndex: 1000 entries, 0 to 999\n",
      "Data columns (total 5 columns):\n",
      " #   Column                   Non-Null Count  Dtype  \n",
      "---  ------                   --------------  -----  \n",
      " 0   Hora                     1000 non-null   object \n",
      " 1   Cidade                   1000 non-null   object \n",
      " 2   Temperatura (°C)         794 non-null    float64\n",
      " 3   Velocidade do Ar (km/h)  730 non-null    float64\n",
      " 4   Umidade (%)              900 non-null    float64\n",
      "dtypes: float64(3), object(2)\n",
      "memory usage: 39.2+ KB\n"
     ]
    }
   ],
   "source": [
    "df.info()"
   ]
  },
  {
   "cell_type": "markdown",
   "metadata": {
    "id": "3Ks9XuZcRxFp"
   },
   "source": [
    "Como vou adiconar valores faltantes:\n",
    "\n",
    "$$\n",
    "t = \\frac{\\mu_{TB} + \\mu_{TA}}{2}\n",
    "$$"
   ]
  },
  {
   "cell_type": "code",
   "execution_count": 38,
   "metadata": {
    "colab": {
     "base_uri": "https://localhost:8080/"
    },
    "id": "3IQ88H0oRq76",
    "outputId": "d4accf2d-955f-4b23-d65b-4a622b1583c8"
   },
   "outputs": [
    {
     "data": {
      "text/plain": [
       "19.66"
      ]
     },
     "execution_count": 38,
     "metadata": {},
     "output_type": "execute_result"
    }
   ],
   "source": [
    "mediaGeral = round(df['Temperatura (°C)'].mean(), 2)\n",
    "mediaGeral"
   ]
  },
  {
   "cell_type": "code",
   "execution_count": 39,
   "metadata": {
    "colab": {
     "base_uri": "https://localhost:8080/",
     "height": 424
    },
    "id": "E5PkJTtgSjYH",
    "outputId": "cf0051c9-bb65-49d8-c6f0-149e07ae1b8b"
   },
   "outputs": [
    {
     "data": {
      "text/html": [
       "<div>\n",
       "<style scoped>\n",
       "    .dataframe tbody tr th:only-of-type {\n",
       "        vertical-align: middle;\n",
       "    }\n",
       "\n",
       "    .dataframe tbody tr th {\n",
       "        vertical-align: top;\n",
       "    }\n",
       "\n",
       "    .dataframe thead th {\n",
       "        text-align: right;\n",
       "    }\n",
       "</style>\n",
       "<table border=\"1\" class=\"dataframe\">\n",
       "  <thead>\n",
       "    <tr style=\"text-align: right;\">\n",
       "      <th></th>\n",
       "      <th>Hora</th>\n",
       "      <th>Cidade</th>\n",
       "      <th>Temperatura (°C)</th>\n",
       "      <th>Velocidade do Ar (km/h)</th>\n",
       "      <th>Umidade (%)</th>\n",
       "    </tr>\n",
       "  </thead>\n",
       "  <tbody>\n",
       "    <tr>\n",
       "      <th>0</th>\n",
       "      <td>18:00</td>\n",
       "      <td>Cidade A</td>\n",
       "      <td>23.392156</td>\n",
       "      <td>3.048859</td>\n",
       "      <td>38.699434</td>\n",
       "    </tr>\n",
       "    <tr>\n",
       "      <th>2</th>\n",
       "      <td>01:00</td>\n",
       "      <td>Cidade A</td>\n",
       "      <td>16.366001</td>\n",
       "      <td>9.441361</td>\n",
       "      <td>70.975744</td>\n",
       "    </tr>\n",
       "    <tr>\n",
       "      <th>7</th>\n",
       "      <td>04:00</td>\n",
       "      <td>Cidade A</td>\n",
       "      <td>16.071892</td>\n",
       "      <td>0.778780</td>\n",
       "      <td>23.552152</td>\n",
       "    </tr>\n",
       "    <tr>\n",
       "      <th>11</th>\n",
       "      <td>15:00</td>\n",
       "      <td>Cidade B</td>\n",
       "      <td>28.704063</td>\n",
       "      <td>NaN</td>\n",
       "      <td>NaN</td>\n",
       "    </tr>\n",
       "    <tr>\n",
       "      <th>13</th>\n",
       "      <td>16:00</td>\n",
       "      <td>Cidade B</td>\n",
       "      <td>29.806598</td>\n",
       "      <td>1.456217</td>\n",
       "      <td>32.173369</td>\n",
       "    </tr>\n",
       "    <tr>\n",
       "      <th>...</th>\n",
       "      <td>...</td>\n",
       "      <td>...</td>\n",
       "      <td>...</td>\n",
       "      <td>...</td>\n",
       "      <td>...</td>\n",
       "    </tr>\n",
       "    <tr>\n",
       "      <th>991</th>\n",
       "      <td>19:00</td>\n",
       "      <td>Cidade B</td>\n",
       "      <td>19.354932</td>\n",
       "      <td>0.353777</td>\n",
       "      <td>54.875450</td>\n",
       "    </tr>\n",
       "    <tr>\n",
       "      <th>993</th>\n",
       "      <td>09:00</td>\n",
       "      <td>Cidade A</td>\n",
       "      <td>NaN</td>\n",
       "      <td>1.812138</td>\n",
       "      <td>58.692444</td>\n",
       "    </tr>\n",
       "    <tr>\n",
       "      <th>997</th>\n",
       "      <td>14:00</td>\n",
       "      <td>Cidade A</td>\n",
       "      <td>10.813867</td>\n",
       "      <td>4.432394</td>\n",
       "      <td>76.449348</td>\n",
       "    </tr>\n",
       "    <tr>\n",
       "      <th>998</th>\n",
       "      <td>11:00</td>\n",
       "      <td>Cidade B</td>\n",
       "      <td>22.313281</td>\n",
       "      <td>NaN</td>\n",
       "      <td>38.791432</td>\n",
       "    </tr>\n",
       "    <tr>\n",
       "      <th>999</th>\n",
       "      <td>16:00</td>\n",
       "      <td>Cidade A</td>\n",
       "      <td>27.702124</td>\n",
       "      <td>8.299568</td>\n",
       "      <td>39.985813</td>\n",
       "    </tr>\n",
       "  </tbody>\n",
       "</table>\n",
       "<p>399 rows × 5 columns</p>\n",
       "</div>"
      ],
      "text/plain": [
       "      Hora    Cidade  Temperatura (°C)  Velocidade do Ar (km/h)  Umidade (%)\n",
       "0    18:00  Cidade A         23.392156                 3.048859    38.699434\n",
       "2    01:00  Cidade A         16.366001                 9.441361    70.975744\n",
       "7    04:00  Cidade A         16.071892                 0.778780    23.552152\n",
       "11   15:00  Cidade B         28.704063                      NaN          NaN\n",
       "13   16:00  Cidade B         29.806598                 1.456217    32.173369\n",
       "..     ...       ...               ...                      ...          ...\n",
       "991  19:00  Cidade B         19.354932                 0.353777    54.875450\n",
       "993  09:00  Cidade A               NaN                 1.812138    58.692444\n",
       "997  14:00  Cidade A         10.813867                 4.432394    76.449348\n",
       "998  11:00  Cidade B         22.313281                      NaN    38.791432\n",
       "999  16:00  Cidade A         27.702124                 8.299568    39.985813\n",
       "\n",
       "[399 rows x 5 columns]"
      ]
     },
     "execution_count": 39,
     "metadata": {},
     "output_type": "execute_result"
    }
   ],
   "source": [
    "cidadesAlvo = ['Cidade A', 'Cidade B']\n",
    "dfFiltrado = df[df['Cidade'].isin(cidadesAlvo)]\n",
    "dfFiltrado"
   ]
  },
  {
   "cell_type": "code",
   "execution_count": 40,
   "metadata": {
    "colab": {
     "base_uri": "https://localhost:8080/",
     "height": 238
    },
    "id": "kUAw6m9MTPCt",
    "outputId": "56e00720-e1e3-4497-e0ed-a7fefb5522a0"
   },
   "outputs": [
    {
     "data": {
      "text/html": [
       "<div>\n",
       "<style scoped>\n",
       "    .dataframe tbody tr th:only-of-type {\n",
       "        vertical-align: middle;\n",
       "    }\n",
       "\n",
       "    .dataframe tbody tr th {\n",
       "        vertical-align: top;\n",
       "    }\n",
       "\n",
       "    .dataframe thead th {\n",
       "        text-align: right;\n",
       "    }\n",
       "</style>\n",
       "<table border=\"1\" class=\"dataframe\">\n",
       "  <thead>\n",
       "    <tr style=\"text-align: right;\">\n",
       "      <th></th>\n",
       "      <th>Hora</th>\n",
       "      <th>Temperatura (°C)</th>\n",
       "      <th>Velocidade do Ar (km/h)</th>\n",
       "      <th>Umidade (%)</th>\n",
       "    </tr>\n",
       "    <tr>\n",
       "      <th>Cidade</th>\n",
       "      <th></th>\n",
       "      <th></th>\n",
       "      <th></th>\n",
       "      <th></th>\n",
       "    </tr>\n",
       "  </thead>\n",
       "  <tbody>\n",
       "    <tr>\n",
       "      <th>Cidade A</th>\n",
       "      <td>18:00</td>\n",
       "      <td>23.392156</td>\n",
       "      <td>3.048859</td>\n",
       "      <td>38.699434</td>\n",
       "    </tr>\n",
       "    <tr>\n",
       "      <th>Cidade B</th>\n",
       "      <td>15:00</td>\n",
       "      <td>28.704063</td>\n",
       "      <td>1.456217</td>\n",
       "      <td>32.173369</td>\n",
       "    </tr>\n",
       "    <tr>\n",
       "      <th>Cidade C</th>\n",
       "      <td>22:00</td>\n",
       "      <td>23.075920</td>\n",
       "      <td>6.215373</td>\n",
       "      <td>43.538649</td>\n",
       "    </tr>\n",
       "    <tr>\n",
       "      <th>Cidade D</th>\n",
       "      <td>01:00</td>\n",
       "      <td>20.464766</td>\n",
       "      <td>5.347668</td>\n",
       "      <td>40.587696</td>\n",
       "    </tr>\n",
       "    <tr>\n",
       "      <th>Cidade E</th>\n",
       "      <td>20:00</td>\n",
       "      <td>15.440261</td>\n",
       "      <td>1.834213</td>\n",
       "      <td>31.829436</td>\n",
       "    </tr>\n",
       "  </tbody>\n",
       "</table>\n",
       "</div>"
      ],
      "text/plain": [
       "           Hora  Temperatura (°C)  Velocidade do Ar (km/h)  Umidade (%)\n",
       "Cidade                                                                 \n",
       "Cidade A  18:00         23.392156                 3.048859    38.699434\n",
       "Cidade B  15:00         28.704063                 1.456217    32.173369\n",
       "Cidade C  22:00         23.075920                 6.215373    43.538649\n",
       "Cidade D  01:00         20.464766                 5.347668    40.587696\n",
       "Cidade E  20:00         15.440261                 1.834213    31.829436"
      ]
     },
     "execution_count": 40,
     "metadata": {},
     "output_type": "execute_result"
    }
   ],
   "source": [
    "grupos = df.groupby('Cidade')\n",
    "grupos.first()"
   ]
  },
  {
   "cell_type": "code",
   "execution_count": 41,
   "metadata": {
    "colab": {
     "base_uri": "https://localhost:8080/",
     "height": 424
    },
    "id": "PpvYAEqjUTkM",
    "outputId": "a7c5a9a4-94d4-4b6c-d042-788deb0388f5"
   },
   "outputs": [
    {
     "data": {
      "text/html": [
       "<div>\n",
       "<style scoped>\n",
       "    .dataframe tbody tr th:only-of-type {\n",
       "        vertical-align: middle;\n",
       "    }\n",
       "\n",
       "    .dataframe tbody tr th {\n",
       "        vertical-align: top;\n",
       "    }\n",
       "\n",
       "    .dataframe thead th {\n",
       "        text-align: right;\n",
       "    }\n",
       "</style>\n",
       "<table border=\"1\" class=\"dataframe\">\n",
       "  <thead>\n",
       "    <tr style=\"text-align: right;\">\n",
       "      <th></th>\n",
       "      <th>Hora</th>\n",
       "      <th>Cidade</th>\n",
       "      <th>Temperatura (°C)</th>\n",
       "      <th>Velocidade do Ar (km/h)</th>\n",
       "      <th>Umidade (%)</th>\n",
       "    </tr>\n",
       "  </thead>\n",
       "  <tbody>\n",
       "    <tr>\n",
       "      <th>0</th>\n",
       "      <td>18:00</td>\n",
       "      <td>Cidade A</td>\n",
       "      <td>23.392156</td>\n",
       "      <td>3.048859</td>\n",
       "      <td>38.699434</td>\n",
       "    </tr>\n",
       "    <tr>\n",
       "      <th>2</th>\n",
       "      <td>01:00</td>\n",
       "      <td>Cidade A</td>\n",
       "      <td>16.366001</td>\n",
       "      <td>9.441361</td>\n",
       "      <td>70.975744</td>\n",
       "    </tr>\n",
       "    <tr>\n",
       "      <th>7</th>\n",
       "      <td>04:00</td>\n",
       "      <td>Cidade A</td>\n",
       "      <td>16.071892</td>\n",
       "      <td>0.778780</td>\n",
       "      <td>23.552152</td>\n",
       "    </tr>\n",
       "    <tr>\n",
       "      <th>34</th>\n",
       "      <td>04:00</td>\n",
       "      <td>Cidade A</td>\n",
       "      <td>16.052087</td>\n",
       "      <td>2.726673</td>\n",
       "      <td>57.771819</td>\n",
       "    </tr>\n",
       "    <tr>\n",
       "      <th>41</th>\n",
       "      <td>22:00</td>\n",
       "      <td>Cidade A</td>\n",
       "      <td>21.383151</td>\n",
       "      <td>3.641394</td>\n",
       "      <td>43.352441</td>\n",
       "    </tr>\n",
       "    <tr>\n",
       "      <th>...</th>\n",
       "      <td>...</td>\n",
       "      <td>...</td>\n",
       "      <td>...</td>\n",
       "      <td>...</td>\n",
       "      <td>...</td>\n",
       "    </tr>\n",
       "    <tr>\n",
       "      <th>985</th>\n",
       "      <td>15:00</td>\n",
       "      <td>Cidade A</td>\n",
       "      <td>19.545232</td>\n",
       "      <td>0.175610</td>\n",
       "      <td>67.107215</td>\n",
       "    </tr>\n",
       "    <tr>\n",
       "      <th>988</th>\n",
       "      <td>14:00</td>\n",
       "      <td>Cidade A</td>\n",
       "      <td>25.124873</td>\n",
       "      <td>NaN</td>\n",
       "      <td>22.271133</td>\n",
       "    </tr>\n",
       "    <tr>\n",
       "      <th>993</th>\n",
       "      <td>09:00</td>\n",
       "      <td>Cidade A</td>\n",
       "      <td>NaN</td>\n",
       "      <td>1.812138</td>\n",
       "      <td>58.692444</td>\n",
       "    </tr>\n",
       "    <tr>\n",
       "      <th>997</th>\n",
       "      <td>14:00</td>\n",
       "      <td>Cidade A</td>\n",
       "      <td>10.813867</td>\n",
       "      <td>4.432394</td>\n",
       "      <td>76.449348</td>\n",
       "    </tr>\n",
       "    <tr>\n",
       "      <th>999</th>\n",
       "      <td>16:00</td>\n",
       "      <td>Cidade A</td>\n",
       "      <td>27.702124</td>\n",
       "      <td>8.299568</td>\n",
       "      <td>39.985813</td>\n",
       "    </tr>\n",
       "  </tbody>\n",
       "</table>\n",
       "<p>205 rows × 5 columns</p>\n",
       "</div>"
      ],
      "text/plain": [
       "      Hora    Cidade  Temperatura (°C)  Velocidade do Ar (km/h)  Umidade (%)\n",
       "0    18:00  Cidade A         23.392156                 3.048859    38.699434\n",
       "2    01:00  Cidade A         16.366001                 9.441361    70.975744\n",
       "7    04:00  Cidade A         16.071892                 0.778780    23.552152\n",
       "34   04:00  Cidade A         16.052087                 2.726673    57.771819\n",
       "41   22:00  Cidade A         21.383151                 3.641394    43.352441\n",
       "..     ...       ...               ...                      ...          ...\n",
       "985  15:00  Cidade A         19.545232                 0.175610    67.107215\n",
       "988  14:00  Cidade A         25.124873                      NaN    22.271133\n",
       "993  09:00  Cidade A               NaN                 1.812138    58.692444\n",
       "997  14:00  Cidade A         10.813867                 4.432394    76.449348\n",
       "999  16:00  Cidade A         27.702124                 8.299568    39.985813\n",
       "\n",
       "[205 rows x 5 columns]"
      ]
     },
     "execution_count": 41,
     "metadata": {},
     "output_type": "execute_result"
    }
   ],
   "source": [
    "grupoCiA = grupos.get_group('Cidade A')\n",
    "grupoCiB = grupos.get_group('Cidade B')\n",
    "grupoCiC = grupos.get_group('Cidade C')\n",
    "grupoCiD = grupos.get_group('Cidade D')\n",
    "grupoCiE = grupos.get_group('Cidade E')\n",
    "grupoCiA"
   ]
  },
  {
   "cell_type": "code",
   "execution_count": 42,
   "metadata": {
    "colab": {
     "base_uri": "https://localhost:8080/"
    },
    "id": "D6sqxSrMUjHp",
    "outputId": "57b4ae59-4914-4abb-a170-fe581c20c007"
   },
   "outputs": [
    {
     "name": "stdout",
     "output_type": "stream",
     "text": [
      "Quantidade por grupo de cidade: \n",
      " cidade A:  205 20.5 % \n",
      " cidade B:  194 19.4 % \n",
      " cidade C:  197 19.7 % \n",
      " cidade D:  202 20.2 % \n",
      " cidade E:  202 20.2 % \n",
      " total dados =  1000\n"
     ]
    }
   ],
   "source": [
    "nLA, _ = grupoCiA.shape\n",
    "nLB, _ = grupoCiB.shape\n",
    "nLC, _ = grupoCiC.shape\n",
    "nLD, _ = grupoCiD.shape\n",
    "nLE, _ = grupoCiE.shape\n",
    "print('Quantidade por grupo de cidade:',\n",
    "      '\\n',\n",
    "      'cidade A: ', nLA, round(nLA / (nLA + nLB + nLC + nLD + nLE) * 100, 2), '%', '\\n',\n",
    "      'cidade B: ', nLB, round(nLB / (nLA + nLB + nLC + nLD + nLE) * 100, 2), '%', '\\n',\n",
    "      'cidade C: ', nLC, round(nLC / (nLA + nLB + nLC + nLD + nLE) * 100, 2), '%', '\\n',\n",
    "      'cidade D: ', nLD, round(nLD / (nLA + nLB + nLC + nLD + nLE) * 100, 2), '%', '\\n',\n",
    "      'cidade E: ', nLE, round(nLE / (nLA + nLB + nLC + nLD + nLE) * 100, 2), '%', '\\n',\n",
    "      'total dados = ', nLA + nLB + nLC + nLD + nLE\n",
    "      )"
   ]
  },
  {
   "cell_type": "code",
   "execution_count": 43,
   "metadata": {
    "colab": {
     "base_uri": "https://localhost:8080/"
    },
    "id": "gIVIZeWWWIXm",
    "outputId": "817c3492-796a-4da7-cd33-04ad5c14de0c"
   },
   "outputs": [
    {
     "name": "stdout",
     "output_type": "stream",
     "text": [
      "Temperatura média por grupo de cidade: \n",
      " cidade A:  18.69 °C\n",
      " cidade B:  20.17 °C \n",
      " temp média para substituição:  19.43 °C\n"
     ]
    }
   ],
   "source": [
    "tempA = grupoCiA['Temperatura (°C)'].mean()\n",
    "tempB = grupoCiB['Temperatura (°C)'].mean()\n",
    "mediaCidAB = round((tempA + tempB) / 2, 2)\n",
    "print('Temperatura média por grupo de cidade:',\n",
    "      '\\n',\n",
    "      'cidade A: ', round(tempA, 2), '°C' '\\n',\n",
    "      'cidade B: ', round(tempB, 2), '°C', '\\n',\n",
    "      'temp média para substituição: ', mediaCidAB, '°C'\n",
    "      )"
   ]
  },
  {
   "cell_type": "code",
   "execution_count": 44,
   "metadata": {
    "colab": {
     "base_uri": "https://localhost:8080/"
    },
    "id": "QD5oOxv1XASC",
    "outputId": "399d20e2-d8d1-45d4-9f71-296f160466d1"
   },
   "outputs": [
    {
     "name": "stdout",
     "output_type": "stream",
     "text": [
      "<class 'pandas.core.frame.DataFrame'>\n",
      "RangeIndex: 1000 entries, 0 to 999\n",
      "Data columns (total 5 columns):\n",
      " #   Column                   Non-Null Count  Dtype  \n",
      "---  ------                   --------------  -----  \n",
      " 0   Hora                     1000 non-null   object \n",
      " 1   Cidade                   1000 non-null   object \n",
      " 2   Temperatura (°C)         1000 non-null   float64\n",
      " 3   Velocidade do Ar (km/h)  730 non-null    float64\n",
      " 4   Umidade (%)              900 non-null    float64\n",
      "dtypes: float64(3), object(2)\n",
      "memory usage: 39.2+ KB\n"
     ]
    }
   ],
   "source": [
    "df['Temperatura (°C)'].fillna(mediaCidAB, inplace = True)\n",
    "df.info()"
   ]
  },
  {
   "cell_type": "markdown",
   "metadata": {
    "id": "FqWhi1qaYxuI"
   },
   "source": [
    "## 6. Visualização dos dados\n",
    "\n",
    "Nesta seção veremos a visualização de dados como uma ferramenta complementar para enxergar os dados que existem no nosso banco."
   ]
  },
  {
   "cell_type": "code",
   "execution_count": 45,
   "metadata": {
    "id": "jsXPDJKjY4ZP"
   },
   "outputs": [],
   "source": [
    "df = pd.read_csv(\"iris_com_coluna.csv\")\n",
    "df.drop(columns=['Id'], inplace = True)"
   ]
  },
  {
   "cell_type": "markdown",
   "metadata": {
    "id": "l6sfNlmGZxOs"
   },
   "source": [
    "##### _Distribuição das variáveis_"
   ]
  },
  {
   "cell_type": "code",
   "execution_count": 46,
   "metadata": {
    "colab": {
     "base_uri": "https://localhost:8080/",
     "height": 353
    },
    "id": "1_Tjq7IpZwhN",
    "outputId": "085033c6-05c4-493b-a533-e0fd16891153"
   },
   "outputs": [
    {
     "data": {
      "text/plain": [
       "Text(0.5, 1.0, 'Histograma do comprimento da pétala ($cm$)')"
      ]
     },
     "execution_count": 46,
     "metadata": {},
     "output_type": "execute_result"
    },
    {
     "data": {
      "image/png": "[encoded data removed]",
      "text/plain": [
       "<Figure size 500x300 with 1 Axes>"
      ]
     },
     "metadata": {},
     "output_type": "display_data"
    }
   ],
   "source": [
    "plt.figure(figsize=(5, 3))\n",
    "sns.histplot(df['PetalLengthCm'])\n",
    "plt.title(\"Histograma do comprimento da pétala ($cm$)\")"
   ]
  },
  {
   "cell_type": "code",
   "execution_count": 47,
   "metadata": {
    "colab": {
     "base_uri": "https://localhost:8080/",
     "height": 458
    },
    "id": "QQNvEtOvanuL",
    "outputId": "ec94b287-a0d4-4513-f997-0fe18517bfbb"
   },
   "outputs": [
    {
     "data": {
      "text/plain": [
       "Text(0.5, 1.0, 'Histograma do comprimento da pétala ($cm$) por grupo')"
      ]
     },
     "execution_count": 47,
     "metadata": {},
     "output_type": "execute_result"
    },
    {
     "data": {
      "image/png": "[encoded data removed]",
      "text/plain": [
       "<Figure size 500x300 with 1 Axes>"
      ]
     },
     "metadata": {},
     "output_type": "display_data"
    }
   ],
   "source": [
    "plt.figure(figsize=(5, 3))\n",
    "sns.kdeplot(data = df, x = 'PetalLengthCm', hue = 'Species', fill = True)\n",
    "plt.title(\"Histograma do comprimento da pétala ($cm$) por grupo\")"
   ]
  },
  {
   "cell_type": "code",
   "execution_count": 48,
   "metadata": {
    "colab": {
     "base_uri": "https://localhost:8080/",
     "height": 328
    },
    "id": "xHVgNMMBfR3g",
    "outputId": "3a4f2b85-10db-4e26-e7ff-5e6690e76f09"
   },
   "outputs": [
    {
     "data": {
      "text/plain": [
       "<Axes: xlabel='PetalLengthCm'>"
      ]
     },
     "execution_count": 48,
     "metadata": {},
     "output_type": "execute_result"
    },
    {
     "data": {
      "image/png": "[encoded data removed]",
      "text/plain": [
       "<Figure size 500x300 with 1 Axes>"
      ]
     },
     "metadata": {},
     "output_type": "display_data"
    }
   ],
   "source": [
    "plt.figure(figsize=(5, 3))\n",
    "sns.boxplot(x = df['PetalLengthCm'])"
   ]
  },
  {
   "cell_type": "markdown",
   "metadata": {
    "id": "BK0wTCD1bin4"
   },
   "source": [
    "##### _Contagens_"
   ]
  },
  {
   "cell_type": "code",
   "execution_count": 49,
   "metadata": {
    "colab": {
     "base_uri": "https://localhost:8080/",
     "height": 331
    },
    "id": "9rXEqDoqbl6D",
    "outputId": "be8afc15-5759-43e9-d804-2e4b811ff11e"
   },
   "outputs": [
    {
     "data": {
      "text/plain": [
       "Text(0.5, 1.0, 'Contagem por grupo de espécies')"
      ]
     },
     "execution_count": 49,
     "metadata": {},
     "output_type": "execute_result"
    },
    {
     "data": {
      "image/png": "[encoded data removed]",
      "text/plain": [
       "<Figure size 500x300 with 1 Axes>"
      ]
     },
     "metadata": {},
     "output_type": "display_data"
    }
   ],
   "source": [
    "plt.figure(figsize=(5, 3))\n",
    "sns.barplot(x = df.index, y = df['Species'])\n",
    "plt.title(\"Contagem por grupo de espécies\")"
   ]
  },
  {
   "cell_type": "code",
   "execution_count": 50,
   "metadata": {
    "colab": {
     "base_uri": "https://localhost:8080/",
     "height": 328
    },
    "id": "ZaKb3oxpdOXz",
    "outputId": "bdd61620-bee2-46f5-e81e-2323f49b5608"
   },
   "outputs": [
    {
     "data": {
      "text/plain": [
       "<Axes: xlabel='Species', ylabel='PetalLengthCm'>"
      ]
     },
     "execution_count": 50,
     "metadata": {},
     "output_type": "execute_result"
    },
    {
     "data": {
      "image/png": "[encoded data removed]",
      "text/plain": [
       "<Figure size 500x300 with 1 Axes>"
      ]
     },
     "metadata": {},
     "output_type": "display_data"
    }
   ],
   "source": [
    "plt.figure(figsize=(5, 3))\n",
    "sns.scatterplot(x = 'Species', y = 'PetalLengthCm', data = df)"
   ]
  },
  {
   "cell_type": "code",
   "execution_count": 51,
   "metadata": {
    "colab": {
     "base_uri": "https://localhost:8080/",
     "height": 328
    },
    "id": "HWe0bA8od2yj",
    "outputId": "488f2028-d127-44b9-83c4-c7bac34ade9a"
   },
   "outputs": [
    {
     "data": {
      "text/plain": [
       "<Axes: xlabel='SepalLengthCm', ylabel='PetalLengthCm'>"
      ]
     },
     "execution_count": 51,
     "metadata": {},
     "output_type": "execute_result"
    },
    {
     "data": {
      "image/png": "[encoded data removed]",
      "text/plain": [
       "<Figure size 500x300 with 1 Axes>"
      ]
     },
     "metadata": {},
     "output_type": "display_data"
    }
   ],
   "source": [
    "plt.figure(figsize=(5, 3))\n",
    "sns.scatterplot(x = 'SepalLengthCm', y = 'PetalLengthCm', data = df)"
   ]
  },
  {
   "cell_type": "markdown",
   "metadata": {
    "id": "EkbQb01YeZu4"
   },
   "source": [
    "##### _Combinando as possibilidades_"
   ]
  },
  {
   "cell_type": "code",
   "execution_count": 52,
   "metadata": {
    "colab": {
     "base_uri": "https://localhost:8080/",
     "height": 823
    },
    "id": "eEt2MBtyeYVa",
    "outputId": "ce49119f-0444-4961-91df-8e2c5be79922"
   },
   "outputs": [
    {
     "data": {
      "text/plain": [
       "<seaborn.axisgrid.PairGrid at 0x213c2b4e320>"
      ]
     },
     "execution_count": 52,
     "metadata": {},
     "output_type": "execute_result"
    },
    {
     "data": {
      "image/png": "[encoded data removed]",
      "text/plain": [
       "<Figure size 943x800 with 20 Axes>"
      ]
     },
     "metadata": {},
     "output_type": "display_data"
    }
   ],
   "source": [
    "sns.pairplot(df, hue = \"Species\", height = 2)"
   ]
  },
  {
   "cell_type": "markdown",
   "metadata": {
    "id": "r9nOqJlqjy8i"
   },
   "source": [
    "##### _Visualização e estatística_"
   ]
  },
  {
   "cell_type": "markdown",
   "metadata": {
    "id": "cRJOL8a6g9q5"
   },
   "source": [
    "Aqui neste ponto fica uma importante lição sobre o uso de _outliers_ na interpretação dos dados. O _outlier_ representa um dado discrepante do conjunto. Vejamos um exemplo:"
   ]
  },
  {
   "cell_type": "code",
   "execution_count": 53,
   "metadata": {
    "colab": {
     "base_uri": "https://localhost:8080/",
     "height": 328
    },
    "id": "Yu0tCn4PhWho",
    "outputId": "5f1c9373-0598-43d3-d2ae-0470630563f8"
   },
   "outputs": [
    {
     "data": {
      "text/plain": [
       "<Axes: xlabel='Age (day)'>"
      ]
     },
     "execution_count": 53,
     "metadata": {},
     "output_type": "execute_result"
    },
    {
     "data": {
      "image/png": "[encoded data removed]",
      "text/plain": [
       "<Figure size 500x300 with 1 Axes>"
      ]
     },
     "metadata": {},
     "output_type": "display_data"
    }
   ],
   "source": [
    "df = pd.read_csv(\"regressao.csv\")\n",
    "plt.figure(figsize=(5, 3))\n",
    "sns.boxplot(x = df['Age (day)'])"
   ]
  },
  {
   "cell_type": "markdown",
   "metadata": {
    "id": "0EkBACSohvhR"
   },
   "source": [
    "Veja que neste exemplo a maioria dos dados está concentrado em uma idade menor que 50. Como podemos calcular esse outlier:"
   ]
  },
  {
   "cell_type": "code",
   "execution_count": 54,
   "metadata": {
    "colab": {
     "base_uri": "https://localhost:8080/"
    },
    "id": "a58b4KjRiMZf",
    "outputId": "19721200-d59b-4705-d27f-4a36cb636105"
   },
   "outputs": [
    {
     "name": "stdout",
     "output_type": "stream",
     "text": [
      "Quartil 1:  7.0 \n",
      "Quartil 3:  56.0 \n",
      "Faixa interquartil:  49.0 \n",
      "Limite inferior:  -66.5 \n",
      "Limite superior:  129.5\n"
     ]
    }
   ],
   "source": [
    "q1 = np.percentile(df['Age (day)'], 25)\n",
    "q3 = np.percentile(df['Age (day)'], 75)\n",
    "fiq = q3 - q1\n",
    "linf = q1 - (1.5 * fiq)\n",
    "lsup = q3 + (1.5 * fiq)\n",
    "print('Quartil 1: ', q1, '\\nQuartil 3: ', q3, '\\nFaixa interquartil: ', fiq, '\\nLimite inferior: ', linf, '\\nLimite superior: ', lsup)"
   ]
  },
  {
   "cell_type": "markdown",
   "metadata": {
    "id": "2E7A6j1zkHvp"
   },
   "source": [
    "Logo é possível perceber que pelo método de visualização por boxplot os outliers serão considerados após o valor de 129.5 anos ou antes de -66.5. Como a idade -66.5 não é \"fisicamente\" possível o intervalor inferior não importará para nós."
   ]
  },
  {
   "cell_type": "code",
   "execution_count": 55,
   "metadata": {
    "colab": {
     "base_uri": "https://localhost:8080/",
     "height": 829
    },
    "id": "FMu8LVQtki8Q",
    "outputId": "e2875cc1-04b6-4056-cd58-f0abda2b7d13"
   },
   "outputs": [
    {
     "data": {
      "text/plain": [
       "<Axes: >"
      ]
     },
     "execution_count": 55,
     "metadata": {},
     "output_type": "execute_result"
    },
    {
     "data": {
      "image/png": "[encoded data removed]",
      "text/plain": [
       "<Figure size 640x480 with 2 Axes>"
      ]
     },
     "metadata": {},
     "output_type": "display_data"
    }
   ],
   "source": [
    "df = pd.read_csv(\"regressao.csv\")\n",
    "sns.heatmap(data = df.corr())"
   ]
  },
  {
   "cell_type": "markdown",
   "metadata": {
    "id": "F1-tkLELmmtj"
   },
   "source": [
    "A interpretação da correlação poderá ser feita em função do valor obtido no mpara de calor. A Figura 6.1 apresenta a caracteristica desses valores.\n",
    "\n",
    "<img src=\"https://drive.google.com/uc?id=1nL0DhPrTqGoTlVqimWZ53bf161S2LHzd&usp=drive_fs\" alt=\"figur6-1\" width=\"100%\">\n",
    "\n",
    "**Figura 6.1** Medida base para correlação linear."
   ]
  },
  {
   "cell_type": "markdown",
   "metadata": {
    "id": "StmALNVdnXyJ"
   },
   "source": [
    "## 7. Separação de dados para treino, validação e teste\n",
    "\n",
    "### 7.1 A padornizaão dos dados\n",
    "\n",
    "A transformação dos dados é uma etapa importante antes da aplicação de qualquer modelo de aprendizado de máquina ou otimização por exemplo. Aqui neste curso vamso fazer 1 exemplo transformação de dados para verificar a viabilidade de aplicação.\n",
    "\n",
    "##### _padronização z-score_\n",
    "\n",
    "É o redimensionamento dos recursos para criar um “padrão” garantindo que os novos dados tenham média zero e desvio padrão igual a 1.\n",
    "\n",
    "$$\n",
    "z = \\frac{x - \\mu}{\\sigma}\n",
    "$$\n",
    "\n",
    "- $z$: dados na nova escala\n",
    "- $\\mu$: média das amostras\n",
    "- $\\sigma$: desvio padrão das amostras"
   ]
  },
  {
   "cell_type": "code",
   "execution_count": 56,
   "metadata": {},
   "outputs": [
    {
     "data": {
      "text/html": [
       "<div>\n",
       "<style scoped>\n",
       "    .dataframe tbody tr th:only-of-type {\n",
       "        vertical-align: middle;\n",
       "    }\n",
       "\n",
       "    .dataframe tbody tr th {\n",
       "        vertical-align: top;\n",
       "    }\n",
       "\n",
       "    .dataframe thead th {\n",
       "        text-align: right;\n",
       "    }\n",
       "</style>\n",
       "<table border=\"1\" class=\"dataframe\">\n",
       "  <thead>\n",
       "    <tr style=\"text-align: right;\">\n",
       "      <th></th>\n",
       "      <th>SepalLengthCm</th>\n",
       "      <th>SepalWidthCm</th>\n",
       "      <th>PetalLengthCm</th>\n",
       "      <th>PetalWidthCm</th>\n",
       "      <th>Species</th>\n",
       "      <th>SepalWidthCm PAD</th>\n",
       "    </tr>\n",
       "  </thead>\n",
       "  <tbody>\n",
       "    <tr>\n",
       "      <th>0</th>\n",
       "      <td>5.1</td>\n",
       "      <td>3.5</td>\n",
       "      <td>1.4</td>\n",
       "      <td>0.2</td>\n",
       "      <td>Iris-setosa</td>\n",
       "      <td>1.032057</td>\n",
       "    </tr>\n",
       "    <tr>\n",
       "      <th>1</th>\n",
       "      <td>4.9</td>\n",
       "      <td>3.0</td>\n",
       "      <td>1.4</td>\n",
       "      <td>0.2</td>\n",
       "      <td>Iris-setosa</td>\n",
       "      <td>-0.124958</td>\n",
       "    </tr>\n",
       "    <tr>\n",
       "      <th>2</th>\n",
       "      <td>4.7</td>\n",
       "      <td>3.2</td>\n",
       "      <td>1.3</td>\n",
       "      <td>0.2</td>\n",
       "      <td>Iris-setosa</td>\n",
       "      <td>0.337848</td>\n",
       "    </tr>\n",
       "    <tr>\n",
       "      <th>3</th>\n",
       "      <td>4.6</td>\n",
       "      <td>3.1</td>\n",
       "      <td>1.5</td>\n",
       "      <td>0.2</td>\n",
       "      <td>Iris-setosa</td>\n",
       "      <td>0.106445</td>\n",
       "    </tr>\n",
       "    <tr>\n",
       "      <th>4</th>\n",
       "      <td>5.0</td>\n",
       "      <td>3.6</td>\n",
       "      <td>1.4</td>\n",
       "      <td>0.2</td>\n",
       "      <td>Iris-setosa</td>\n",
       "      <td>1.263460</td>\n",
       "    </tr>\n",
       "    <tr>\n",
       "      <th>...</th>\n",
       "      <td>...</td>\n",
       "      <td>...</td>\n",
       "      <td>...</td>\n",
       "      <td>...</td>\n",
       "      <td>...</td>\n",
       "      <td>...</td>\n",
       "    </tr>\n",
       "    <tr>\n",
       "      <th>145</th>\n",
       "      <td>6.7</td>\n",
       "      <td>3.0</td>\n",
       "      <td>5.2</td>\n",
       "      <td>2.3</td>\n",
       "      <td>Iris-virginica</td>\n",
       "      <td>-0.124958</td>\n",
       "    </tr>\n",
       "    <tr>\n",
       "      <th>146</th>\n",
       "      <td>6.3</td>\n",
       "      <td>2.5</td>\n",
       "      <td>5.0</td>\n",
       "      <td>1.9</td>\n",
       "      <td>Iris-virginica</td>\n",
       "      <td>-1.281972</td>\n",
       "    </tr>\n",
       "    <tr>\n",
       "      <th>147</th>\n",
       "      <td>6.5</td>\n",
       "      <td>3.0</td>\n",
       "      <td>5.2</td>\n",
       "      <td>2.0</td>\n",
       "      <td>Iris-virginica</td>\n",
       "      <td>-0.124958</td>\n",
       "    </tr>\n",
       "    <tr>\n",
       "      <th>148</th>\n",
       "      <td>6.2</td>\n",
       "      <td>3.4</td>\n",
       "      <td>5.4</td>\n",
       "      <td>2.3</td>\n",
       "      <td>Iris-virginica</td>\n",
       "      <td>0.800654</td>\n",
       "    </tr>\n",
       "    <tr>\n",
       "      <th>149</th>\n",
       "      <td>5.9</td>\n",
       "      <td>3.0</td>\n",
       "      <td>5.1</td>\n",
       "      <td>1.8</td>\n",
       "      <td>Iris-virginica</td>\n",
       "      <td>-0.124958</td>\n",
       "    </tr>\n",
       "  </tbody>\n",
       "</table>\n",
       "<p>150 rows × 6 columns</p>\n",
       "</div>"
      ],
      "text/plain": [
       "     SepalLengthCm  SepalWidthCm  PetalLengthCm  PetalWidthCm         Species  \\\n",
       "0              5.1           3.5            1.4           0.2     Iris-setosa   \n",
       "1              4.9           3.0            1.4           0.2     Iris-setosa   \n",
       "2              4.7           3.2            1.3           0.2     Iris-setosa   \n",
       "3              4.6           3.1            1.5           0.2     Iris-setosa   \n",
       "4              5.0           3.6            1.4           0.2     Iris-setosa   \n",
       "..             ...           ...            ...           ...             ...   \n",
       "145            6.7           3.0            5.2           2.3  Iris-virginica   \n",
       "146            6.3           2.5            5.0           1.9  Iris-virginica   \n",
       "147            6.5           3.0            5.2           2.0  Iris-virginica   \n",
       "148            6.2           3.4            5.4           2.3  Iris-virginica   \n",
       "149            5.9           3.0            5.1           1.8  Iris-virginica   \n",
       "\n",
       "     SepalWidthCm PAD  \n",
       "0            1.032057  \n",
       "1           -0.124958  \n",
       "2            0.337848  \n",
       "3            0.106445  \n",
       "4            1.263460  \n",
       "..                ...  \n",
       "145         -0.124958  \n",
       "146         -1.281972  \n",
       "147         -0.124958  \n",
       "148          0.800654  \n",
       "149         -0.124958  \n",
       "\n",
       "[150 rows x 6 columns]"
      ]
     },
     "execution_count": 56,
     "metadata": {},
     "output_type": "execute_result"
    }
   ],
   "source": [
    "df = pd.read_csv(\"iris_com_coluna.csv\")\n",
    "df.drop(columns=['Id'], inplace = True)\n",
    "escala = StandardScaler()\n",
    "escala.fit(df[['SepalWidthCm']])\n",
    "df['SepalWidthCm PAD'] = escala.transform(df[['SepalWidthCm']])\n",
    "df"
   ]
  },
  {
   "cell_type": "code",
   "execution_count": 57,
   "metadata": {},
   "outputs": [
    {
     "data": {
      "text/html": [
       "<div>\n",
       "<style scoped>\n",
       "    .dataframe tbody tr th:only-of-type {\n",
       "        vertical-align: middle;\n",
       "    }\n",
       "\n",
       "    .dataframe tbody tr th {\n",
       "        vertical-align: top;\n",
       "    }\n",
       "\n",
       "    .dataframe thead th {\n",
       "        text-align: right;\n",
       "    }\n",
       "</style>\n",
       "<table border=\"1\" class=\"dataframe\">\n",
       "  <thead>\n",
       "    <tr style=\"text-align: right;\">\n",
       "      <th></th>\n",
       "      <th>SepalLengthCm</th>\n",
       "      <th>SepalWidthCm</th>\n",
       "      <th>PetalLengthCm</th>\n",
       "      <th>PetalWidthCm</th>\n",
       "      <th>SepalWidthCm PAD</th>\n",
       "    </tr>\n",
       "  </thead>\n",
       "  <tbody>\n",
       "    <tr>\n",
       "      <th>count</th>\n",
       "      <td>150.000000</td>\n",
       "      <td>150.000000</td>\n",
       "      <td>150.000000</td>\n",
       "      <td>150.000000</td>\n",
       "      <td>1.500000e+02</td>\n",
       "    </tr>\n",
       "    <tr>\n",
       "      <th>mean</th>\n",
       "      <td>5.843333</td>\n",
       "      <td>3.054000</td>\n",
       "      <td>3.758667</td>\n",
       "      <td>1.198667</td>\n",
       "      <td>-6.631732e-16</td>\n",
       "    </tr>\n",
       "    <tr>\n",
       "      <th>std</th>\n",
       "      <td>0.828066</td>\n",
       "      <td>0.433594</td>\n",
       "      <td>1.764420</td>\n",
       "      <td>0.763161</td>\n",
       "      <td>1.003350e+00</td>\n",
       "    </tr>\n",
       "    <tr>\n",
       "      <th>min</th>\n",
       "      <td>4.300000</td>\n",
       "      <td>2.000000</td>\n",
       "      <td>1.000000</td>\n",
       "      <td>0.100000</td>\n",
       "      <td>-2.438987e+00</td>\n",
       "    </tr>\n",
       "    <tr>\n",
       "      <th>25%</th>\n",
       "      <td>5.100000</td>\n",
       "      <td>2.800000</td>\n",
       "      <td>1.600000</td>\n",
       "      <td>0.300000</td>\n",
       "      <td>-5.877635e-01</td>\n",
       "    </tr>\n",
       "    <tr>\n",
       "      <th>50%</th>\n",
       "      <td>5.800000</td>\n",
       "      <td>3.000000</td>\n",
       "      <td>4.350000</td>\n",
       "      <td>1.300000</td>\n",
       "      <td>-1.249576e-01</td>\n",
       "    </tr>\n",
       "    <tr>\n",
       "      <th>75%</th>\n",
       "      <td>6.400000</td>\n",
       "      <td>3.300000</td>\n",
       "      <td>5.100000</td>\n",
       "      <td>1.800000</td>\n",
       "      <td>5.692513e-01</td>\n",
       "    </tr>\n",
       "    <tr>\n",
       "      <th>max</th>\n",
       "      <td>7.900000</td>\n",
       "      <td>4.400000</td>\n",
       "      <td>6.900000</td>\n",
       "      <td>2.500000</td>\n",
       "      <td>3.114684e+00</td>\n",
       "    </tr>\n",
       "  </tbody>\n",
       "</table>\n",
       "</div>"
      ],
      "text/plain": [
       "       SepalLengthCm  SepalWidthCm  PetalLengthCm  PetalWidthCm  \\\n",
       "count     150.000000    150.000000     150.000000    150.000000   \n",
       "mean        5.843333      3.054000       3.758667      1.198667   \n",
       "std         0.828066      0.433594       1.764420      0.763161   \n",
       "min         4.300000      2.000000       1.000000      0.100000   \n",
       "25%         5.100000      2.800000       1.600000      0.300000   \n",
       "50%         5.800000      3.000000       4.350000      1.300000   \n",
       "75%         6.400000      3.300000       5.100000      1.800000   \n",
       "max         7.900000      4.400000       6.900000      2.500000   \n",
       "\n",
       "       SepalWidthCm PAD  \n",
       "count      1.500000e+02  \n",
       "mean      -6.631732e-16  \n",
       "std        1.003350e+00  \n",
       "min       -2.438987e+00  \n",
       "25%       -5.877635e-01  \n",
       "50%       -1.249576e-01  \n",
       "75%        5.692513e-01  \n",
       "max        3.114684e+00  "
      ]
     },
     "execution_count": 57,
     "metadata": {},
     "output_type": "execute_result"
    }
   ],
   "source": [
    "df.describe()"
   ]
  },
  {
   "cell_type": "code",
   "execution_count": 58,
   "metadata": {},
   "outputs": [
    {
     "data": {
      "text/plain": [
       "Text(0.5, 1.0, 'Histograma do comprimento da sépala ($cm$) sem escala z-score')"
      ]
     },
     "execution_count": 58,
     "metadata": {},
     "output_type": "execute_result"
    },
    {
     "data": {
      "image/png": "[encoded data removed]",
      "text/plain": [
       "<Figure size 500x300 with 1 Axes>"
      ]
     },
     "metadata": {},
     "output_type": "display_data"
    }
   ],
   "source": [
    "plt.figure(figsize=(5, 3))\n",
    "sns.histplot(df['SepalWidthCm'])\n",
    "plt.title(\"Histograma do comprimento da sépala ($cm$) sem escala z-score\")"
   ]
  },
  {
   "cell_type": "code",
   "execution_count": 59,
   "metadata": {},
   "outputs": [
    {
     "data": {
      "text/plain": [
       "Text(0.5, 1.0, 'Histograma do comprimento da sépala ($cm$) com escala z-score')"
      ]
     },
     "execution_count": 59,
     "metadata": {},
     "output_type": "execute_result"
    },
    {
     "data": {
      "image/png": "[encoded data removed]",
      "text/plain": [
       "<Figure size 500x300 with 1 Axes>"
      ]
     },
     "metadata": {},
     "output_type": "display_data"
    }
   ],
   "source": [
    "plt.figure(figsize=(5, 3))\n",
    "sns.histplot(df['SepalWidthCm PAD'])\n",
    "plt.title(\"Histograma do comprimento da sépala ($cm$) com escala z-score\")"
   ]
  },
  {
   "cell_type": "code",
   "execution_count": 60,
   "metadata": {},
   "outputs": [
    {
     "data": {
      "text/html": [
       "<div>\n",
       "<style scoped>\n",
       "    .dataframe tbody tr th:only-of-type {\n",
       "        vertical-align: middle;\n",
       "    }\n",
       "\n",
       "    .dataframe tbody tr th {\n",
       "        vertical-align: top;\n",
       "    }\n",
       "\n",
       "    .dataframe thead th {\n",
       "        text-align: right;\n",
       "    }\n",
       "</style>\n",
       "<table border=\"1\" class=\"dataframe\">\n",
       "  <thead>\n",
       "    <tr style=\"text-align: right;\">\n",
       "      <th></th>\n",
       "      <th>0</th>\n",
       "      <th>1</th>\n",
       "      <th>2</th>\n",
       "      <th>3</th>\n",
       "      <th>4</th>\n",
       "      <th>5</th>\n",
       "      <th>6</th>\n",
       "      <th>7</th>\n",
       "      <th>8</th>\n",
       "    </tr>\n",
       "  </thead>\n",
       "  <tbody>\n",
       "    <tr>\n",
       "      <th>0</th>\n",
       "      <td>2.477918</td>\n",
       "      <td>-0.856886</td>\n",
       "      <td>-0.847132</td>\n",
       "      <td>-0.916663</td>\n",
       "      <td>-0.620225</td>\n",
       "      <td>0.863160</td>\n",
       "      <td>-1.217658</td>\n",
       "      <td>-0.279733</td>\n",
       "      <td>2.645192</td>\n",
       "    </tr>\n",
       "    <tr>\n",
       "      <th>1</th>\n",
       "      <td>2.477918</td>\n",
       "      <td>-0.856886</td>\n",
       "      <td>-0.847132</td>\n",
       "      <td>-0.916663</td>\n",
       "      <td>-0.620225</td>\n",
       "      <td>1.056170</td>\n",
       "      <td>-1.217658</td>\n",
       "      <td>-0.279733</td>\n",
       "      <td>1.561277</td>\n",
       "    </tr>\n",
       "    <tr>\n",
       "      <th>2</th>\n",
       "      <td>0.491443</td>\n",
       "      <td>0.795533</td>\n",
       "      <td>-0.847132</td>\n",
       "      <td>2.175367</td>\n",
       "      <td>-1.038944</td>\n",
       "      <td>-0.526514</td>\n",
       "      <td>-2.240913</td>\n",
       "      <td>3.553066</td>\n",
       "      <td>0.266608</td>\n",
       "    </tr>\n",
       "    <tr>\n",
       "      <th>3</th>\n",
       "      <td>0.491443</td>\n",
       "      <td>0.795533</td>\n",
       "      <td>-0.847132</td>\n",
       "      <td>2.175367</td>\n",
       "      <td>-1.038944</td>\n",
       "      <td>-0.526514</td>\n",
       "      <td>-2.240913</td>\n",
       "      <td>5.057677</td>\n",
       "      <td>0.313515</td>\n",
       "    </tr>\n",
       "    <tr>\n",
       "      <th>4</th>\n",
       "      <td>-0.790432</td>\n",
       "      <td>0.678414</td>\n",
       "      <td>-0.847132</td>\n",
       "      <td>0.488805</td>\n",
       "      <td>-1.038944</td>\n",
       "      <td>0.070531</td>\n",
       "      <td>0.647908</td>\n",
       "      <td>4.978487</td>\n",
       "      <td>0.507753</td>\n",
       "    </tr>\n",
       "    <tr>\n",
       "      <th>...</th>\n",
       "      <td>...</td>\n",
       "      <td>...</td>\n",
       "      <td>...</td>\n",
       "      <td>...</td>\n",
       "      <td>...</td>\n",
       "      <td>...</td>\n",
       "      <td>...</td>\n",
       "      <td>...</td>\n",
       "      <td>...</td>\n",
       "    </tr>\n",
       "    <tr>\n",
       "      <th>1025</th>\n",
       "      <td>-0.045623</td>\n",
       "      <td>0.488241</td>\n",
       "      <td>0.564569</td>\n",
       "      <td>-0.092122</td>\n",
       "      <td>0.451695</td>\n",
       "      <td>-1.323003</td>\n",
       "      <td>-0.065874</td>\n",
       "      <td>-0.279733</td>\n",
       "      <td>0.507051</td>\n",
       "    </tr>\n",
       "    <tr>\n",
       "      <th>1026</th>\n",
       "      <td>0.392837</td>\n",
       "      <td>-0.856886</td>\n",
       "      <td>0.960095</td>\n",
       "      <td>0.676201</td>\n",
       "      <td>0.702927</td>\n",
       "      <td>-1.994679</td>\n",
       "      <td>0.496916</td>\n",
       "      <td>-0.279733</td>\n",
       "      <td>-0.277827</td>\n",
       "    </tr>\n",
       "    <tr>\n",
       "      <th>1027</th>\n",
       "      <td>-1.270057</td>\n",
       "      <td>0.759585</td>\n",
       "      <td>0.850661</td>\n",
       "      <td>0.521599</td>\n",
       "      <td>-0.017270</td>\n",
       "      <td>-1.036061</td>\n",
       "      <td>0.080127</td>\n",
       "      <td>-0.279733</td>\n",
       "      <td>-0.725928</td>\n",
       "    </tr>\n",
       "    <tr>\n",
       "      <th>1028</th>\n",
       "      <td>-1.168580</td>\n",
       "      <td>1.308072</td>\n",
       "      <td>-0.847132</td>\n",
       "      <td>-0.279518</td>\n",
       "      <td>0.853666</td>\n",
       "      <td>0.214646</td>\n",
       "      <td>0.191188</td>\n",
       "      <td>-0.279733</td>\n",
       "      <td>-0.182649</td>\n",
       "    </tr>\n",
       "    <tr>\n",
       "      <th>1029</th>\n",
       "      <td>-0.194010</td>\n",
       "      <td>0.308504</td>\n",
       "      <td>0.376967</td>\n",
       "      <td>0.891706</td>\n",
       "      <td>0.401449</td>\n",
       "      <td>-1.395060</td>\n",
       "      <td>-0.150729</td>\n",
       "      <td>-0.279733</td>\n",
       "      <td>-0.204617</td>\n",
       "    </tr>\n",
       "  </tbody>\n",
       "</table>\n",
       "<p>1030 rows × 9 columns</p>\n",
       "</div>"
      ],
      "text/plain": [
       "             0         1         2         3         4         5         6  \\\n",
       "0     2.477918 -0.856886 -0.847132 -0.916663 -0.620225  0.863160 -1.217658   \n",
       "1     2.477918 -0.856886 -0.847132 -0.916663 -0.620225  1.056170 -1.217658   \n",
       "2     0.491443  0.795533 -0.847132  2.175367 -1.038944 -0.526514 -2.240913   \n",
       "3     0.491443  0.795533 -0.847132  2.175367 -1.038944 -0.526514 -2.240913   \n",
       "4    -0.790432  0.678414 -0.847132  0.488805 -1.038944  0.070531  0.647908   \n",
       "...        ...       ...       ...       ...       ...       ...       ...   \n",
       "1025 -0.045623  0.488241  0.564569 -0.092122  0.451695 -1.323003 -0.065874   \n",
       "1026  0.392837 -0.856886  0.960095  0.676201  0.702927 -1.994679  0.496916   \n",
       "1027 -1.270057  0.759585  0.850661  0.521599 -0.017270 -1.036061  0.080127   \n",
       "1028 -1.168580  1.308072 -0.847132 -0.279518  0.853666  0.214646  0.191188   \n",
       "1029 -0.194010  0.308504  0.376967  0.891706  0.401449 -1.395060 -0.150729   \n",
       "\n",
       "             7         8  \n",
       "0    -0.279733  2.645192  \n",
       "1    -0.279733  1.561277  \n",
       "2     3.553066  0.266608  \n",
       "3     5.057677  0.313515  \n",
       "4     4.978487  0.507753  \n",
       "...        ...       ...  \n",
       "1025 -0.279733  0.507051  \n",
       "1026 -0.279733 -0.277827  \n",
       "1027 -0.279733 -0.725928  \n",
       "1028 -0.279733 -0.182649  \n",
       "1029 -0.279733 -0.204617  \n",
       "\n",
       "[1030 rows x 9 columns]"
      ]
     },
     "execution_count": 60,
     "metadata": {},
     "output_type": "execute_result"
    }
   ],
   "source": [
    "# Aplicando em todo o dataset de regressão\n",
    "df = pd.read_csv(\"regressao.csv\")\n",
    "escala = StandardScaler()\n",
    "escala.fit(df)\n",
    "dfEscalado = pd.DataFrame(escala.transform(df))\n",
    "dfEscalado"
   ]
  },
  {
   "cell_type": "code",
   "execution_count": 61,
   "metadata": {},
   "outputs": [
    {
     "data": {
      "text/html": [
       "<div>\n",
       "<style scoped>\n",
       "    .dataframe tbody tr th:only-of-type {\n",
       "        vertical-align: middle;\n",
       "    }\n",
       "\n",
       "    .dataframe tbody tr th {\n",
       "        vertical-align: top;\n",
       "    }\n",
       "\n",
       "    .dataframe thead th {\n",
       "        text-align: right;\n",
       "    }\n",
       "</style>\n",
       "<table border=\"1\" class=\"dataframe\">\n",
       "  <thead>\n",
       "    <tr style=\"text-align: right;\">\n",
       "      <th></th>\n",
       "      <th>Cement (component 1)(kg in a m^3 mixture)</th>\n",
       "      <th>Blast Furnace Slag (component 2)(kg in a m^3 mixture)</th>\n",
       "      <th>Fly Ash (component 3)(kg in a m^3 mixture)</th>\n",
       "      <th>Water  (component 4)(kg in a m^3 mixture)</th>\n",
       "      <th>Superplasticizer (component 5)(kg in a m^3 mixture)</th>\n",
       "      <th>Coarse Aggregate  (component 6)(kg in a m^3 mixture)</th>\n",
       "      <th>Fine Aggregate (component 7)(kg in a m^3 mixture)</th>\n",
       "      <th>Age (day)</th>\n",
       "      <th>Concrete compressive strength(MPa, megapascals)</th>\n",
       "    </tr>\n",
       "  </thead>\n",
       "  <tbody>\n",
       "    <tr>\n",
       "      <th>0</th>\n",
       "      <td>2.477918</td>\n",
       "      <td>-0.856886</td>\n",
       "      <td>-0.847132</td>\n",
       "      <td>-0.916663</td>\n",
       "      <td>-0.620225</td>\n",
       "      <td>0.863160</td>\n",
       "      <td>-1.217658</td>\n",
       "      <td>-0.279733</td>\n",
       "      <td>2.645192</td>\n",
       "    </tr>\n",
       "    <tr>\n",
       "      <th>1</th>\n",
       "      <td>2.477918</td>\n",
       "      <td>-0.856886</td>\n",
       "      <td>-0.847132</td>\n",
       "      <td>-0.916663</td>\n",
       "      <td>-0.620225</td>\n",
       "      <td>1.056170</td>\n",
       "      <td>-1.217658</td>\n",
       "      <td>-0.279733</td>\n",
       "      <td>1.561277</td>\n",
       "    </tr>\n",
       "    <tr>\n",
       "      <th>2</th>\n",
       "      <td>0.491443</td>\n",
       "      <td>0.795533</td>\n",
       "      <td>-0.847132</td>\n",
       "      <td>2.175367</td>\n",
       "      <td>-1.038944</td>\n",
       "      <td>-0.526514</td>\n",
       "      <td>-2.240913</td>\n",
       "      <td>3.553066</td>\n",
       "      <td>0.266608</td>\n",
       "    </tr>\n",
       "    <tr>\n",
       "      <th>3</th>\n",
       "      <td>0.491443</td>\n",
       "      <td>0.795533</td>\n",
       "      <td>-0.847132</td>\n",
       "      <td>2.175367</td>\n",
       "      <td>-1.038944</td>\n",
       "      <td>-0.526514</td>\n",
       "      <td>-2.240913</td>\n",
       "      <td>5.057677</td>\n",
       "      <td>0.313515</td>\n",
       "    </tr>\n",
       "    <tr>\n",
       "      <th>4</th>\n",
       "      <td>-0.790432</td>\n",
       "      <td>0.678414</td>\n",
       "      <td>-0.847132</td>\n",
       "      <td>0.488805</td>\n",
       "      <td>-1.038944</td>\n",
       "      <td>0.070531</td>\n",
       "      <td>0.647908</td>\n",
       "      <td>4.978487</td>\n",
       "      <td>0.507753</td>\n",
       "    </tr>\n",
       "    <tr>\n",
       "      <th>...</th>\n",
       "      <td>...</td>\n",
       "      <td>...</td>\n",
       "      <td>...</td>\n",
       "      <td>...</td>\n",
       "      <td>...</td>\n",
       "      <td>...</td>\n",
       "      <td>...</td>\n",
       "      <td>...</td>\n",
       "      <td>...</td>\n",
       "    </tr>\n",
       "    <tr>\n",
       "      <th>1025</th>\n",
       "      <td>-0.045623</td>\n",
       "      <td>0.488241</td>\n",
       "      <td>0.564569</td>\n",
       "      <td>-0.092122</td>\n",
       "      <td>0.451695</td>\n",
       "      <td>-1.323003</td>\n",
       "      <td>-0.065874</td>\n",
       "      <td>-0.279733</td>\n",
       "      <td>0.507051</td>\n",
       "    </tr>\n",
       "    <tr>\n",
       "      <th>1026</th>\n",
       "      <td>0.392837</td>\n",
       "      <td>-0.856886</td>\n",
       "      <td>0.960095</td>\n",
       "      <td>0.676201</td>\n",
       "      <td>0.702927</td>\n",
       "      <td>-1.994679</td>\n",
       "      <td>0.496916</td>\n",
       "      <td>-0.279733</td>\n",
       "      <td>-0.277827</td>\n",
       "    </tr>\n",
       "    <tr>\n",
       "      <th>1027</th>\n",
       "      <td>-1.270057</td>\n",
       "      <td>0.759585</td>\n",
       "      <td>0.850661</td>\n",
       "      <td>0.521599</td>\n",
       "      <td>-0.017270</td>\n",
       "      <td>-1.036061</td>\n",
       "      <td>0.080127</td>\n",
       "      <td>-0.279733</td>\n",
       "      <td>-0.725928</td>\n",
       "    </tr>\n",
       "    <tr>\n",
       "      <th>1028</th>\n",
       "      <td>-1.168580</td>\n",
       "      <td>1.308072</td>\n",
       "      <td>-0.847132</td>\n",
       "      <td>-0.279518</td>\n",
       "      <td>0.853666</td>\n",
       "      <td>0.214646</td>\n",
       "      <td>0.191188</td>\n",
       "      <td>-0.279733</td>\n",
       "      <td>-0.182649</td>\n",
       "    </tr>\n",
       "    <tr>\n",
       "      <th>1029</th>\n",
       "      <td>-0.194010</td>\n",
       "      <td>0.308504</td>\n",
       "      <td>0.376967</td>\n",
       "      <td>0.891706</td>\n",
       "      <td>0.401449</td>\n",
       "      <td>-1.395060</td>\n",
       "      <td>-0.150729</td>\n",
       "      <td>-0.279733</td>\n",
       "      <td>-0.204617</td>\n",
       "    </tr>\n",
       "  </tbody>\n",
       "</table>\n",
       "<p>1030 rows × 9 columns</p>\n",
       "</div>"
      ],
      "text/plain": [
       "      Cement (component 1)(kg in a m^3 mixture)  \\\n",
       "0                                      2.477918   \n",
       "1                                      2.477918   \n",
       "2                                      0.491443   \n",
       "3                                      0.491443   \n",
       "4                                     -0.790432   \n",
       "...                                         ...   \n",
       "1025                                  -0.045623   \n",
       "1026                                   0.392837   \n",
       "1027                                  -1.270057   \n",
       "1028                                  -1.168580   \n",
       "1029                                  -0.194010   \n",
       "\n",
       "      Blast Furnace Slag (component 2)(kg in a m^3 mixture)  \\\n",
       "0                                             -0.856886       \n",
       "1                                             -0.856886       \n",
       "2                                              0.795533       \n",
       "3                                              0.795533       \n",
       "4                                              0.678414       \n",
       "...                                                 ...       \n",
       "1025                                           0.488241       \n",
       "1026                                          -0.856886       \n",
       "1027                                           0.759585       \n",
       "1028                                           1.308072       \n",
       "1029                                           0.308504       \n",
       "\n",
       "      Fly Ash (component 3)(kg in a m^3 mixture)  \\\n",
       "0                                      -0.847132   \n",
       "1                                      -0.847132   \n",
       "2                                      -0.847132   \n",
       "3                                      -0.847132   \n",
       "4                                      -0.847132   \n",
       "...                                          ...   \n",
       "1025                                    0.564569   \n",
       "1026                                    0.960095   \n",
       "1027                                    0.850661   \n",
       "1028                                   -0.847132   \n",
       "1029                                    0.376967   \n",
       "\n",
       "      Water  (component 4)(kg in a m^3 mixture)  \\\n",
       "0                                     -0.916663   \n",
       "1                                     -0.916663   \n",
       "2                                      2.175367   \n",
       "3                                      2.175367   \n",
       "4                                      0.488805   \n",
       "...                                         ...   \n",
       "1025                                  -0.092122   \n",
       "1026                                   0.676201   \n",
       "1027                                   0.521599   \n",
       "1028                                  -0.279518   \n",
       "1029                                   0.891706   \n",
       "\n",
       "      Superplasticizer (component 5)(kg in a m^3 mixture)  \\\n",
       "0                                             -0.620225     \n",
       "1                                             -0.620225     \n",
       "2                                             -1.038944     \n",
       "3                                             -1.038944     \n",
       "4                                             -1.038944     \n",
       "...                                                 ...     \n",
       "1025                                           0.451695     \n",
       "1026                                           0.702927     \n",
       "1027                                          -0.017270     \n",
       "1028                                           0.853666     \n",
       "1029                                           0.401449     \n",
       "\n",
       "      Coarse Aggregate  (component 6)(kg in a m^3 mixture)  \\\n",
       "0                                              0.863160      \n",
       "1                                              1.056170      \n",
       "2                                             -0.526514      \n",
       "3                                             -0.526514      \n",
       "4                                              0.070531      \n",
       "...                                                 ...      \n",
       "1025                                          -1.323003      \n",
       "1026                                          -1.994679      \n",
       "1027                                          -1.036061      \n",
       "1028                                           0.214646      \n",
       "1029                                          -1.395060      \n",
       "\n",
       "      Fine Aggregate (component 7)(kg in a m^3 mixture)  Age (day)  \\\n",
       "0                                             -1.217658  -0.279733   \n",
       "1                                             -1.217658  -0.279733   \n",
       "2                                             -2.240913   3.553066   \n",
       "3                                             -2.240913   5.057677   \n",
       "4                                              0.647908   4.978487   \n",
       "...                                                 ...        ...   \n",
       "1025                                          -0.065874  -0.279733   \n",
       "1026                                           0.496916  -0.279733   \n",
       "1027                                           0.080127  -0.279733   \n",
       "1028                                           0.191188  -0.279733   \n",
       "1029                                          -0.150729  -0.279733   \n",
       "\n",
       "      Concrete compressive strength(MPa, megapascals)   \n",
       "0                                             2.645192  \n",
       "1                                             1.561277  \n",
       "2                                             0.266608  \n",
       "3                                             0.313515  \n",
       "4                                             0.507753  \n",
       "...                                                ...  \n",
       "1025                                          0.507051  \n",
       "1026                                         -0.277827  \n",
       "1027                                         -0.725928  \n",
       "1028                                         -0.182649  \n",
       "1029                                         -0.204617  \n",
       "\n",
       "[1030 rows x 9 columns]"
      ]
     },
     "execution_count": 61,
     "metadata": {},
     "output_type": "execute_result"
    }
   ],
   "source": [
    "nomeColunas = list(df.columns)\n",
    "dfEscalado.columns = nomeColunas\n",
    "dfEscalado"
   ]
  },
  {
   "cell_type": "markdown",
   "metadata": {},
   "source": [
    "### 7.2 A separação para o aprendizado\n",
    "\n",
    "A separação dos dados é a \"última tarefa\" depois que todos os dados estão organizados e prontos para treinamento, validação e teste em um modelo de aprendizado. Aqui nesta fase escolheremos uma proporção dos dados para empregarmos no processo de treino e teste do modelo. \n",
    "\n",
    "<img src=\"https://drive.google.com/uc?id=1nNXBm1NPfnKI0LNI7u1OcYVlpStmn2Iz&usp=drive_fs\" alt=\"figur7-1\" width=\"40%\">\n",
    "\n",
    "**Figura 7.1** Separação do banco de dados."
   ]
  },
  {
   "cell_type": "markdown",
   "metadata": {},
   "source": [
    "O primeiro passo é a definição de quem é a variável de entrada e saída do modelo preditivo. No caso deste exemplo de regressão vamos empregar que a variável `Concrete compressive strength(MPa, megapascals) ` é a saída do modelo, ou seja, o valor de $y$."
   ]
  },
  {
   "cell_type": "code",
   "execution_count": 62,
   "metadata": {},
   "outputs": [
    {
     "data": {
      "text/html": [
       "<div>\n",
       "<style scoped>\n",
       "    .dataframe tbody tr th:only-of-type {\n",
       "        vertical-align: middle;\n",
       "    }\n",
       "\n",
       "    .dataframe tbody tr th {\n",
       "        vertical-align: top;\n",
       "    }\n",
       "\n",
       "    .dataframe thead th {\n",
       "        text-align: right;\n",
       "    }\n",
       "</style>\n",
       "<table border=\"1\" class=\"dataframe\">\n",
       "  <thead>\n",
       "    <tr style=\"text-align: right;\">\n",
       "      <th></th>\n",
       "      <th>Cement (component 1)(kg in a m^3 mixture)</th>\n",
       "      <th>Blast Furnace Slag (component 2)(kg in a m^3 mixture)</th>\n",
       "      <th>Fly Ash (component 3)(kg in a m^3 mixture)</th>\n",
       "      <th>Water  (component 4)(kg in a m^3 mixture)</th>\n",
       "      <th>Superplasticizer (component 5)(kg in a m^3 mixture)</th>\n",
       "      <th>Coarse Aggregate  (component 6)(kg in a m^3 mixture)</th>\n",
       "      <th>Fine Aggregate (component 7)(kg in a m^3 mixture)</th>\n",
       "      <th>Age (day)</th>\n",
       "    </tr>\n",
       "  </thead>\n",
       "  <tbody>\n",
       "    <tr>\n",
       "      <th>0</th>\n",
       "      <td>2.477918</td>\n",
       "      <td>-0.856886</td>\n",
       "      <td>-0.847132</td>\n",
       "      <td>-0.916663</td>\n",
       "      <td>-0.620225</td>\n",
       "      <td>0.863160</td>\n",
       "      <td>-1.217658</td>\n",
       "      <td>-0.279733</td>\n",
       "    </tr>\n",
       "    <tr>\n",
       "      <th>1</th>\n",
       "      <td>2.477918</td>\n",
       "      <td>-0.856886</td>\n",
       "      <td>-0.847132</td>\n",
       "      <td>-0.916663</td>\n",
       "      <td>-0.620225</td>\n",
       "      <td>1.056170</td>\n",
       "      <td>-1.217658</td>\n",
       "      <td>-0.279733</td>\n",
       "    </tr>\n",
       "    <tr>\n",
       "      <th>2</th>\n",
       "      <td>0.491443</td>\n",
       "      <td>0.795533</td>\n",
       "      <td>-0.847132</td>\n",
       "      <td>2.175367</td>\n",
       "      <td>-1.038944</td>\n",
       "      <td>-0.526514</td>\n",
       "      <td>-2.240913</td>\n",
       "      <td>3.553066</td>\n",
       "    </tr>\n",
       "    <tr>\n",
       "      <th>3</th>\n",
       "      <td>0.491443</td>\n",
       "      <td>0.795533</td>\n",
       "      <td>-0.847132</td>\n",
       "      <td>2.175367</td>\n",
       "      <td>-1.038944</td>\n",
       "      <td>-0.526514</td>\n",
       "      <td>-2.240913</td>\n",
       "      <td>5.057677</td>\n",
       "    </tr>\n",
       "    <tr>\n",
       "      <th>4</th>\n",
       "      <td>-0.790432</td>\n",
       "      <td>0.678414</td>\n",
       "      <td>-0.847132</td>\n",
       "      <td>0.488805</td>\n",
       "      <td>-1.038944</td>\n",
       "      <td>0.070531</td>\n",
       "      <td>0.647908</td>\n",
       "      <td>4.978487</td>\n",
       "    </tr>\n",
       "  </tbody>\n",
       "</table>\n",
       "</div>"
      ],
      "text/plain": [
       "   Cement (component 1)(kg in a m^3 mixture)  \\\n",
       "0                                   2.477918   \n",
       "1                                   2.477918   \n",
       "2                                   0.491443   \n",
       "3                                   0.491443   \n",
       "4                                  -0.790432   \n",
       "\n",
       "   Blast Furnace Slag (component 2)(kg in a m^3 mixture)  \\\n",
       "0                                          -0.856886       \n",
       "1                                          -0.856886       \n",
       "2                                           0.795533       \n",
       "3                                           0.795533       \n",
       "4                                           0.678414       \n",
       "\n",
       "   Fly Ash (component 3)(kg in a m^3 mixture)  \\\n",
       "0                                   -0.847132   \n",
       "1                                   -0.847132   \n",
       "2                                   -0.847132   \n",
       "3                                   -0.847132   \n",
       "4                                   -0.847132   \n",
       "\n",
       "   Water  (component 4)(kg in a m^3 mixture)  \\\n",
       "0                                  -0.916663   \n",
       "1                                  -0.916663   \n",
       "2                                   2.175367   \n",
       "3                                   2.175367   \n",
       "4                                   0.488805   \n",
       "\n",
       "   Superplasticizer (component 5)(kg in a m^3 mixture)  \\\n",
       "0                                          -0.620225     \n",
       "1                                          -0.620225     \n",
       "2                                          -1.038944     \n",
       "3                                          -1.038944     \n",
       "4                                          -1.038944     \n",
       "\n",
       "   Coarse Aggregate  (component 6)(kg in a m^3 mixture)  \\\n",
       "0                                           0.863160      \n",
       "1                                           1.056170      \n",
       "2                                          -0.526514      \n",
       "3                                          -0.526514      \n",
       "4                                           0.070531      \n",
       "\n",
       "   Fine Aggregate (component 7)(kg in a m^3 mixture)  Age (day)  \n",
       "0                                          -1.217658  -0.279733  \n",
       "1                                          -1.217658  -0.279733  \n",
       "2                                          -2.240913   3.553066  \n",
       "3                                          -2.240913   5.057677  \n",
       "4                                           0.647908   4.978487  "
      ]
     },
     "execution_count": 62,
     "metadata": {},
     "output_type": "execute_result"
    }
   ],
   "source": [
    "x_total = dfEscalado.drop(columns = ['Concrete compressive strength(MPa, megapascals) '])\n",
    "x_total.head()"
   ]
  },
  {
   "cell_type": "code",
   "execution_count": 63,
   "metadata": {},
   "outputs": [
    {
     "data": {
      "text/html": [
       "<div>\n",
       "<style scoped>\n",
       "    .dataframe tbody tr th:only-of-type {\n",
       "        vertical-align: middle;\n",
       "    }\n",
       "\n",
       "    .dataframe tbody tr th {\n",
       "        vertical-align: top;\n",
       "    }\n",
       "\n",
       "    .dataframe thead th {\n",
       "        text-align: right;\n",
       "    }\n",
       "</style>\n",
       "<table border=\"1\" class=\"dataframe\">\n",
       "  <thead>\n",
       "    <tr style=\"text-align: right;\">\n",
       "      <th></th>\n",
       "      <th>Concrete compressive strength(MPa, megapascals)</th>\n",
       "    </tr>\n",
       "  </thead>\n",
       "  <tbody>\n",
       "    <tr>\n",
       "      <th>0</th>\n",
       "      <td>2.645192</td>\n",
       "    </tr>\n",
       "    <tr>\n",
       "      <th>1</th>\n",
       "      <td>1.561277</td>\n",
       "    </tr>\n",
       "    <tr>\n",
       "      <th>2</th>\n",
       "      <td>0.266608</td>\n",
       "    </tr>\n",
       "    <tr>\n",
       "      <th>3</th>\n",
       "      <td>0.313515</td>\n",
       "    </tr>\n",
       "    <tr>\n",
       "      <th>4</th>\n",
       "      <td>0.507753</td>\n",
       "    </tr>\n",
       "  </tbody>\n",
       "</table>\n",
       "</div>"
      ],
      "text/plain": [
       "   Concrete compressive strength(MPa, megapascals) \n",
       "0                                          2.645192\n",
       "1                                          1.561277\n",
       "2                                          0.266608\n",
       "3                                          0.313515\n",
       "4                                          0.507753"
      ]
     },
     "execution_count": 63,
     "metadata": {},
     "output_type": "execute_result"
    }
   ],
   "source": [
    "y_total = pd.DataFrame(dfEscalado['Concrete compressive strength(MPa, megapascals) '], columns = ['Concrete compressive strength(MPa, megapascals) '])\n",
    "y_total.head()"
   ]
  },
  {
   "cell_type": "code",
   "execution_count": 64,
   "metadata": {},
   "outputs": [],
   "source": [
    "x_treino, x_teste, y_treino, y_teste = train_test_split(x_total, y_total, test_size = 0.30, random_state = 42)"
   ]
  },
  {
   "cell_type": "code",
   "execution_count": 65,
   "metadata": {},
   "outputs": [
    {
     "data": {
      "text/html": [
       "<div>\n",
       "<style scoped>\n",
       "    .dataframe tbody tr th:only-of-type {\n",
       "        vertical-align: middle;\n",
       "    }\n",
       "\n",
       "    .dataframe tbody tr th {\n",
       "        vertical-align: top;\n",
       "    }\n",
       "\n",
       "    .dataframe thead th {\n",
       "        text-align: right;\n",
       "    }\n",
       "</style>\n",
       "<table border=\"1\" class=\"dataframe\">\n",
       "  <thead>\n",
       "    <tr style=\"text-align: right;\">\n",
       "      <th></th>\n",
       "      <th>Cement (component 1)(kg in a m^3 mixture)</th>\n",
       "      <th>Blast Furnace Slag (component 2)(kg in a m^3 mixture)</th>\n",
       "      <th>Fly Ash (component 3)(kg in a m^3 mixture)</th>\n",
       "      <th>Water  (component 4)(kg in a m^3 mixture)</th>\n",
       "      <th>Superplasticizer (component 5)(kg in a m^3 mixture)</th>\n",
       "      <th>Coarse Aggregate  (component 6)(kg in a m^3 mixture)</th>\n",
       "      <th>Fine Aggregate (component 7)(kg in a m^3 mixture)</th>\n",
       "      <th>Age (day)</th>\n",
       "    </tr>\n",
       "  </thead>\n",
       "  <tbody>\n",
       "    <tr>\n",
       "      <th>196</th>\n",
       "      <td>-0.827959</td>\n",
       "      <td>-0.856886</td>\n",
       "      <td>0.724343</td>\n",
       "      <td>-0.747070</td>\n",
       "      <td>0.213863</td>\n",
       "      <td>0.430817</td>\n",
       "      <td>1.651197</td>\n",
       "      <td>-0.279733</td>\n",
       "    </tr>\n",
       "    <tr>\n",
       "      <th>631</th>\n",
       "      <td>0.419643</td>\n",
       "      <td>-0.856886</td>\n",
       "      <td>-0.847132</td>\n",
       "      <td>0.114014</td>\n",
       "      <td>-1.038944</td>\n",
       "      <td>1.159109</td>\n",
       "      <td>0.117563</td>\n",
       "      <td>-0.612331</td>\n",
       "    </tr>\n",
       "    <tr>\n",
       "      <th>81</th>\n",
       "      <td>0.360288</td>\n",
       "      <td>1.607247</td>\n",
       "      <td>-0.847132</td>\n",
       "      <td>-1.211812</td>\n",
       "      <td>1.356128</td>\n",
       "      <td>-1.554615</td>\n",
       "      <td>1.332990</td>\n",
       "      <td>-0.675683</td>\n",
       "    </tr>\n",
       "    <tr>\n",
       "      <th>526</th>\n",
       "      <td>0.745137</td>\n",
       "      <td>-0.636564</td>\n",
       "      <td>1.357185</td>\n",
       "      <td>-1.291455</td>\n",
       "      <td>0.788345</td>\n",
       "      <td>-0.397840</td>\n",
       "      <td>0.342180</td>\n",
       "      <td>-0.675683</td>\n",
       "    </tr>\n",
       "    <tr>\n",
       "      <th>830</th>\n",
       "      <td>-1.140817</td>\n",
       "      <td>1.346339</td>\n",
       "      <td>1.466619</td>\n",
       "      <td>-0.120231</td>\n",
       "      <td>2.143320</td>\n",
       "      <td>-1.736045</td>\n",
       "      <td>-0.406542</td>\n",
       "      <td>-0.279733</td>\n",
       "    </tr>\n",
       "    <tr>\n",
       "      <th>...</th>\n",
       "      <td>...</td>\n",
       "      <td>...</td>\n",
       "      <td>...</td>\n",
       "      <td>...</td>\n",
       "      <td>...</td>\n",
       "      <td>...</td>\n",
       "      <td>...</td>\n",
       "      <td>...</td>\n",
       "    </tr>\n",
       "    <tr>\n",
       "      <th>87</th>\n",
       "      <td>0.049153</td>\n",
       "      <td>1.472734</td>\n",
       "      <td>-0.847132</td>\n",
       "      <td>-1.727150</td>\n",
       "      <td>0.836917</td>\n",
       "      <td>0.407656</td>\n",
       "      <td>0.375873</td>\n",
       "      <td>-0.675683</td>\n",
       "    </tr>\n",
       "    <tr>\n",
       "      <th>330</th>\n",
       "      <td>-0.328708</td>\n",
       "      <td>-0.856886</td>\n",
       "      <td>1.108300</td>\n",
       "      <td>-1.792739</td>\n",
       "      <td>0.969232</td>\n",
       "      <td>1.465352</td>\n",
       "      <td>0.340807</td>\n",
       "      <td>-0.501465</td>\n",
       "    </tr>\n",
       "    <tr>\n",
       "      <th>466</th>\n",
       "      <td>-0.869508</td>\n",
       "      <td>-0.856886</td>\n",
       "      <td>1.109864</td>\n",
       "      <td>-0.700690</td>\n",
       "      <td>0.615833</td>\n",
       "      <td>1.364987</td>\n",
       "      <td>0.315975</td>\n",
       "      <td>0.860604</td>\n",
       "    </tr>\n",
       "    <tr>\n",
       "      <th>121</th>\n",
       "      <td>1.855649</td>\n",
       "      <td>0.520709</td>\n",
       "      <td>-0.847132</td>\n",
       "      <td>-0.021848</td>\n",
       "      <td>0.451695</td>\n",
       "      <td>-1.554615</td>\n",
       "      <td>0.098845</td>\n",
       "      <td>-0.279733</td>\n",
       "    </tr>\n",
       "    <tr>\n",
       "      <th>860</th>\n",
       "      <td>0.314336</td>\n",
       "      <td>-0.856886</td>\n",
       "      <td>0.919448</td>\n",
       "      <td>-0.541872</td>\n",
       "      <td>0.635932</td>\n",
       "      <td>-0.616585</td>\n",
       "      <td>0.117563</td>\n",
       "      <td>-0.279733</td>\n",
       "    </tr>\n",
       "  </tbody>\n",
       "</table>\n",
       "<p>721 rows × 8 columns</p>\n",
       "</div>"
      ],
      "text/plain": [
       "     Cement (component 1)(kg in a m^3 mixture)  \\\n",
       "196                                  -0.827959   \n",
       "631                                   0.419643   \n",
       "81                                    0.360288   \n",
       "526                                   0.745137   \n",
       "830                                  -1.140817   \n",
       "..                                         ...   \n",
       "87                                    0.049153   \n",
       "330                                  -0.328708   \n",
       "466                                  -0.869508   \n",
       "121                                   1.855649   \n",
       "860                                   0.314336   \n",
       "\n",
       "     Blast Furnace Slag (component 2)(kg in a m^3 mixture)  \\\n",
       "196                                          -0.856886       \n",
       "631                                          -0.856886       \n",
       "81                                            1.607247       \n",
       "526                                          -0.636564       \n",
       "830                                           1.346339       \n",
       "..                                                 ...       \n",
       "87                                            1.472734       \n",
       "330                                          -0.856886       \n",
       "466                                          -0.856886       \n",
       "121                                           0.520709       \n",
       "860                                          -0.856886       \n",
       "\n",
       "     Fly Ash (component 3)(kg in a m^3 mixture)  \\\n",
       "196                                    0.724343   \n",
       "631                                   -0.847132   \n",
       "81                                    -0.847132   \n",
       "526                                    1.357185   \n",
       "830                                    1.466619   \n",
       "..                                          ...   \n",
       "87                                    -0.847132   \n",
       "330                                    1.108300   \n",
       "466                                    1.109864   \n",
       "121                                   -0.847132   \n",
       "860                                    0.919448   \n",
       "\n",
       "     Water  (component 4)(kg in a m^3 mixture)  \\\n",
       "196                                  -0.747070   \n",
       "631                                   0.114014   \n",
       "81                                   -1.211812   \n",
       "526                                  -1.291455   \n",
       "830                                  -0.120231   \n",
       "..                                         ...   \n",
       "87                                   -1.727150   \n",
       "330                                  -1.792739   \n",
       "466                                  -0.700690   \n",
       "121                                  -0.021848   \n",
       "860                                  -0.541872   \n",
       "\n",
       "     Superplasticizer (component 5)(kg in a m^3 mixture)  \\\n",
       "196                                           0.213863     \n",
       "631                                          -1.038944     \n",
       "81                                            1.356128     \n",
       "526                                           0.788345     \n",
       "830                                           2.143320     \n",
       "..                                                 ...     \n",
       "87                                            0.836917     \n",
       "330                                           0.969232     \n",
       "466                                           0.615833     \n",
       "121                                           0.451695     \n",
       "860                                           0.635932     \n",
       "\n",
       "     Coarse Aggregate  (component 6)(kg in a m^3 mixture)  \\\n",
       "196                                           0.430817      \n",
       "631                                           1.159109      \n",
       "81                                           -1.554615      \n",
       "526                                          -0.397840      \n",
       "830                                          -1.736045      \n",
       "..                                                 ...      \n",
       "87                                            0.407656      \n",
       "330                                           1.465352      \n",
       "466                                           1.364987      \n",
       "121                                          -1.554615      \n",
       "860                                          -0.616585      \n",
       "\n",
       "     Fine Aggregate (component 7)(kg in a m^3 mixture)  Age (day)  \n",
       "196                                           1.651197  -0.279733  \n",
       "631                                           0.117563  -0.612331  \n",
       "81                                            1.332990  -0.675683  \n",
       "526                                           0.342180  -0.675683  \n",
       "830                                          -0.406542  -0.279733  \n",
       "..                                                 ...        ...  \n",
       "87                                            0.375873  -0.675683  \n",
       "330                                           0.340807  -0.501465  \n",
       "466                                           0.315975   0.860604  \n",
       "121                                           0.098845  -0.279733  \n",
       "860                                           0.117563  -0.279733  \n",
       "\n",
       "[721 rows x 8 columns]"
      ]
     },
     "execution_count": 65,
     "metadata": {},
     "output_type": "execute_result"
    }
   ],
   "source": [
    "x_treino"
   ]
  },
  {
   "cell_type": "code",
   "execution_count": 66,
   "metadata": {},
   "outputs": [
    {
     "data": {
      "text/html": [
       "<div>\n",
       "<style scoped>\n",
       "    .dataframe tbody tr th:only-of-type {\n",
       "        vertical-align: middle;\n",
       "    }\n",
       "\n",
       "    .dataframe tbody tr th {\n",
       "        vertical-align: top;\n",
       "    }\n",
       "\n",
       "    .dataframe thead th {\n",
       "        text-align: right;\n",
       "    }\n",
       "</style>\n",
       "<table border=\"1\" class=\"dataframe\">\n",
       "  <thead>\n",
       "    <tr style=\"text-align: right;\">\n",
       "      <th></th>\n",
       "      <th>Concrete compressive strength(MPa, megapascals)</th>\n",
       "    </tr>\n",
       "  </thead>\n",
       "  <tbody>\n",
       "    <tr>\n",
       "      <th>196</th>\n",
       "      <td>-0.604488</td>\n",
       "    </tr>\n",
       "    <tr>\n",
       "      <th>631</th>\n",
       "      <td>-1.094624</td>\n",
       "    </tr>\n",
       "    <tr>\n",
       "      <th>81</th>\n",
       "      <td>-0.635870</td>\n",
       "    </tr>\n",
       "    <tr>\n",
       "      <th>526</th>\n",
       "      <td>-0.729367</td>\n",
       "    </tr>\n",
       "    <tr>\n",
       "      <th>830</th>\n",
       "      <td>-0.123437</td>\n",
       "    </tr>\n",
       "    <tr>\n",
       "      <th>...</th>\n",
       "      <td>...</td>\n",
       "    </tr>\n",
       "    <tr>\n",
       "      <th>87</th>\n",
       "      <td>-0.683769</td>\n",
       "    </tr>\n",
       "    <tr>\n",
       "      <th>330</th>\n",
       "      <td>0.383216</td>\n",
       "    </tr>\n",
       "    <tr>\n",
       "      <th>466</th>\n",
       "      <td>-0.134998</td>\n",
       "    </tr>\n",
       "    <tr>\n",
       "      <th>121</th>\n",
       "      <td>1.945293</td>\n",
       "    </tr>\n",
       "    <tr>\n",
       "      <th>860</th>\n",
       "      <td>0.158175</td>\n",
       "    </tr>\n",
       "  </tbody>\n",
       "</table>\n",
       "<p>721 rows × 1 columns</p>\n",
       "</div>"
      ],
      "text/plain": [
       "     Concrete compressive strength(MPa, megapascals) \n",
       "196                                         -0.604488\n",
       "631                                         -1.094624\n",
       "81                                          -0.635870\n",
       "526                                         -0.729367\n",
       "830                                         -0.123437\n",
       "..                                                ...\n",
       "87                                          -0.683769\n",
       "330                                          0.383216\n",
       "466                                         -0.134998\n",
       "121                                          1.945293\n",
       "860                                          0.158175\n",
       "\n",
       "[721 rows x 1 columns]"
      ]
     },
     "execution_count": 66,
     "metadata": {},
     "output_type": "execute_result"
    }
   ],
   "source": [
    "y_treino"
   ]
  },
  {
   "cell_type": "markdown",
   "metadata": {},
   "source": [
    "<img src=\"https://drive.google.com/uc?id=1nQou6rkrl8EBIyx5P4CdRPvjVLnNJsnS&usp=drive_fs\" alt=\"wander\" width=\"100%\">"
   ]
  }
 ],
 "metadata": {
  "colab": {
   "provenance": []
  },
  "kernelspec": {
   "display_name": "Python 3 (ipykernel)",
   "language": "python",
   "name": "python3"
  },
  "language_info": {
   "codemirror_mode": {
    "name": "ipython",
    "version": 3
   },
   "file_extension": ".py",
   "mimetype": "text/x-python",
   "name": "python",
   "nbconvert_exporter": "python",
   "pygments_lexer": "ipython3",
   "version": "3.10.9"
  }
 },
 "nbformat": 4,
 "nbformat_minor": 1
}
